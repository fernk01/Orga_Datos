{
 "cells": [
  {
   "cell_type": "code",
   "execution_count": 284,
   "metadata": {},
   "outputs": [],
   "source": [
    "# Datos\n",
    "import numpy as np\n",
    "import pandas as pd\n",
    "\n",
    "# Plots\n",
    "import matplotlib.pyplot as plt\n",
    "import seaborn as sns"
   ]
  },
  {
   "cell_type": "code",
   "execution_count": 295,
   "metadata": {},
   "outputs": [
    {
     "data": {
      "text/html": [
       "<div>\n",
       "<style scoped>\n",
       "    .dataframe tbody tr th:only-of-type {\n",
       "        vertical-align: middle;\n",
       "    }\n",
       "\n",
       "    .dataframe tbody tr th {\n",
       "        vertical-align: top;\n",
       "    }\n",
       "\n",
       "    .dataframe thead th {\n",
       "        text-align: right;\n",
       "    }\n",
       "</style>\n",
       "<table border=\"1\" class=\"dataframe\">\n",
       "  <thead>\n",
       "    <tr style=\"text-align: right;\">\n",
       "      <th></th>\n",
       "      <th>App</th>\n",
       "      <th>Category</th>\n",
       "      <th>Rating</th>\n",
       "      <th>Reviews</th>\n",
       "      <th>Size</th>\n",
       "      <th>Installs</th>\n",
       "      <th>Type</th>\n",
       "      <th>Price</th>\n",
       "      <th>Content Rating</th>\n",
       "      <th>Genres</th>\n",
       "      <th>Last Updated</th>\n",
       "      <th>Current Ver</th>\n",
       "      <th>Android Ver</th>\n",
       "    </tr>\n",
       "  </thead>\n",
       "  <tbody>\n",
       "    <tr>\n",
       "      <th>0</th>\n",
       "      <td>Photo Editor &amp; Candy Camera &amp; Grid &amp; ScrapBook</td>\n",
       "      <td>ART_AND_DESIGN</td>\n",
       "      <td>4.1</td>\n",
       "      <td>159</td>\n",
       "      <td>19M</td>\n",
       "      <td>10,000+</td>\n",
       "      <td>Free</td>\n",
       "      <td>0</td>\n",
       "      <td>Everyone</td>\n",
       "      <td>Art &amp; Design</td>\n",
       "      <td>January 7, 2018</td>\n",
       "      <td>1.0.0</td>\n",
       "      <td>4.0.3 and up</td>\n",
       "    </tr>\n",
       "    <tr>\n",
       "      <th>1</th>\n",
       "      <td>Coloring book moana</td>\n",
       "      <td>ART_AND_DESIGN</td>\n",
       "      <td>3.9</td>\n",
       "      <td>967</td>\n",
       "      <td>14M</td>\n",
       "      <td>500,000+</td>\n",
       "      <td>Free</td>\n",
       "      <td>0</td>\n",
       "      <td>Everyone</td>\n",
       "      <td>Art &amp; Design;Pretend Play</td>\n",
       "      <td>January 15, 2018</td>\n",
       "      <td>2.0.0</td>\n",
       "      <td>4.0.3 and up</td>\n",
       "    </tr>\n",
       "    <tr>\n",
       "      <th>2</th>\n",
       "      <td>U Launcher Lite – FREE Live Cool Themes, Hide ...</td>\n",
       "      <td>ART_AND_DESIGN</td>\n",
       "      <td>4.7</td>\n",
       "      <td>87510</td>\n",
       "      <td>8.7M</td>\n",
       "      <td>5,000,000+</td>\n",
       "      <td>Free</td>\n",
       "      <td>0</td>\n",
       "      <td>Everyone</td>\n",
       "      <td>Art &amp; Design</td>\n",
       "      <td>August 1, 2018</td>\n",
       "      <td>1.2.4</td>\n",
       "      <td>4.0.3 and up</td>\n",
       "    </tr>\n",
       "    <tr>\n",
       "      <th>3</th>\n",
       "      <td>Sketch - Draw &amp; Paint</td>\n",
       "      <td>ART_AND_DESIGN</td>\n",
       "      <td>4.5</td>\n",
       "      <td>215644</td>\n",
       "      <td>25M</td>\n",
       "      <td>50,000,000+</td>\n",
       "      <td>Free</td>\n",
       "      <td>0</td>\n",
       "      <td>Teen</td>\n",
       "      <td>Art &amp; Design</td>\n",
       "      <td>June 8, 2018</td>\n",
       "      <td>Varies with device</td>\n",
       "      <td>4.2 and up</td>\n",
       "    </tr>\n",
       "    <tr>\n",
       "      <th>4</th>\n",
       "      <td>Pixel Draw - Number Art Coloring Book</td>\n",
       "      <td>ART_AND_DESIGN</td>\n",
       "      <td>4.3</td>\n",
       "      <td>967</td>\n",
       "      <td>2.8M</td>\n",
       "      <td>100,000+</td>\n",
       "      <td>Free</td>\n",
       "      <td>0</td>\n",
       "      <td>Everyone</td>\n",
       "      <td>Art &amp; Design;Creativity</td>\n",
       "      <td>June 20, 2018</td>\n",
       "      <td>1.1</td>\n",
       "      <td>4.4 and up</td>\n",
       "    </tr>\n",
       "  </tbody>\n",
       "</table>\n",
       "</div>"
      ],
      "text/plain": [
       "                                                 App        Category  Rating   \n",
       "0     Photo Editor & Candy Camera & Grid & ScrapBook  ART_AND_DESIGN     4.1  \\\n",
       "1                                Coloring book moana  ART_AND_DESIGN     3.9   \n",
       "2  U Launcher Lite – FREE Live Cool Themes, Hide ...  ART_AND_DESIGN     4.7   \n",
       "3                              Sketch - Draw & Paint  ART_AND_DESIGN     4.5   \n",
       "4              Pixel Draw - Number Art Coloring Book  ART_AND_DESIGN     4.3   \n",
       "\n",
       "  Reviews  Size     Installs  Type Price Content Rating   \n",
       "0     159   19M      10,000+  Free     0       Everyone  \\\n",
       "1     967   14M     500,000+  Free     0       Everyone   \n",
       "2   87510  8.7M   5,000,000+  Free     0       Everyone   \n",
       "3  215644   25M  50,000,000+  Free     0           Teen   \n",
       "4     967  2.8M     100,000+  Free     0       Everyone   \n",
       "\n",
       "                      Genres      Last Updated         Current Ver   \n",
       "0               Art & Design   January 7, 2018               1.0.0  \\\n",
       "1  Art & Design;Pretend Play  January 15, 2018               2.0.0   \n",
       "2               Art & Design    August 1, 2018               1.2.4   \n",
       "3               Art & Design      June 8, 2018  Varies with device   \n",
       "4    Art & Design;Creativity     June 20, 2018                 1.1   \n",
       "\n",
       "    Android Ver  \n",
       "0  4.0.3 and up  \n",
       "1  4.0.3 and up  \n",
       "2  4.0.3 and up  \n",
       "3    4.2 and up  \n",
       "4    4.4 and up  "
      ]
     },
     "execution_count": 295,
     "metadata": {},
     "output_type": "execute_result"
    }
   ],
   "source": [
    "df = pd.read_csv(\"./dataset/googleplaystore.csv\")\n",
    "df.head()"
   ]
  },
  {
   "cell_type": "markdown",
   "metadata": {},
   "source": [
    "# Analisis exploratorio de datos"
   ]
  },
  {
   "cell_type": "markdown",
   "metadata": {},
   "source": [
    "Tipos de datos de cada columna del DataFrame deberían ser los siguientes:\n",
    "\n",
    "- `App`: object (cadena de texto)\n",
    "- `Category`: object (cadena de texto)\n",
    "- `Rating`: float64 (número decimal)\n",
    "- `Reviews`: int64 (número entero)\n",
    "- `Size`: object (cadena de texto)\n",
    "- `Installs`: int64 (número entero)\n",
    "- `Type`: object (cadena de texto)\n",
    "- `Price`: float64 (número decimal)\n",
    "- `Content Rating`: object (cadena de texto)\n",
    "- `Genres`: object (cadena de texto)\n",
    "- `Last Updated`: datetime64[ns] (fecha y hora)\n",
    "- `Current Ver`: object (cadena de texto)\n",
    "- `Android Ver`: object (cadena de texto)"
   ]
  },
  {
   "cell_type": "code",
   "execution_count": 256,
   "metadata": {},
   "outputs": [
    {
     "name": "stdout",
     "output_type": "stream",
     "text": [
      "<class 'pandas.core.frame.DataFrame'>\n",
      "RangeIndex: 10841 entries, 0 to 10840\n",
      "Data columns (total 13 columns):\n",
      " #   Column          Non-Null Count  Dtype  \n",
      "---  ------          --------------  -----  \n",
      " 0   App             10841 non-null  object \n",
      " 1   Category        10841 non-null  object \n",
      " 2   Rating          9367 non-null   float64\n",
      " 3   Reviews         10841 non-null  object \n",
      " 4   Size            10841 non-null  object \n",
      " 5   Installs        10841 non-null  object \n",
      " 6   Type            10840 non-null  object \n",
      " 7   Price           10841 non-null  object \n",
      " 8   Content Rating  10840 non-null  object \n",
      " 9   Genres          10841 non-null  object \n",
      " 10  Last Updated    10841 non-null  object \n",
      " 11  Current Ver     10833 non-null  object \n",
      " 12  Android Ver     10838 non-null  object \n",
      "dtypes: float64(1), object(12)\n",
      "memory usage: 1.1+ MB\n"
     ]
    }
   ],
   "source": [
    "# Información del dataset.\n",
    "df.info()"
   ]
  },
  {
   "cell_type": "code",
   "execution_count": 109,
   "metadata": {},
   "outputs": [
    {
     "name": "stdout",
     "output_type": "stream",
     "text": [
      "Rating            1474\n",
      "Type                 1\n",
      "Content Rating       1\n",
      "Current Ver          8\n",
      "Android Ver          3\n",
      "dtype: int64\n"
     ]
    }
   ],
   "source": [
    "# Calcular el número de NaN por columna\n",
    "nan_count = df.isnull().sum()\n",
    "\n",
    "# Mostrar solo las columnas con más de cero NaN\n",
    "print(nan_count[nan_count > 0])"
   ]
  },
  {
   "cell_type": "markdown",
   "metadata": {},
   "source": [
    "## Analizamos los tipos de datos"
   ]
  },
  {
   "cell_type": "markdown",
   "metadata": {},
   "source": [
    "## Columna `Category`"
   ]
  },
  {
   "cell_type": "code",
   "execution_count": 310,
   "metadata": {},
   "outputs": [
    {
     "name": "stdout",
     "output_type": "stream",
     "text": [
      "Cantidad de caterias en 'Category': 33\n"
     ]
    }
   ],
   "source": [
    "# La variable \"Category\", la consideramos como categórica. Con esto nos ahorraremos un poco de memoria.\n",
    "print(\"Cantidad de caterias en 'Category':\", df[\"Category\"].value_counts().count())\n",
    "df[\"Category\"] = df[\"Category\"].astype(\"category\")"
   ]
  },
  {
   "cell_type": "markdown",
   "metadata": {},
   "source": [
    "## Columna `Rating`"
   ]
  },
  {
   "cell_type": "code",
   "execution_count": 299,
   "metadata": {},
   "outputs": [],
   "source": [
    "df['Rating'] = df['Rating'].fillna(0)   # Reemplazamos los NaN por 0, 0 = Sin calificación.\n",
    "df['Rating'] = df['Rating'].astype(\"int32\")"
   ]
  },
  {
   "cell_type": "markdown",
   "metadata": {},
   "source": [
    "## Columna Rewiers"
   ]
  },
  {
   "cell_type": "markdown",
   "metadata": {},
   "source": [
    "La variable \"Reviews\" la consideramos como numérica.\n",
    "```python\n",
    "df[\"Reviews\"] = df[\"Reviews\"].astype('int32')\n",
    "```\n",
    "Se produce un error: invalid literal for int() with base 10: '3.0M'"
   ]
  },
  {
   "cell_type": "code",
   "execution_count": 179,
   "metadata": {},
   "outputs": [],
   "source": [
    "# Busco el dato incorrecto en la columna \"Reviews\"\n",
    "df[df[\"Reviews\"] == '3.0M'] # Buscar\n",
    "df.loc[10472, \"Reviews\"] = 3E6 # Reemplazar"
   ]
  },
  {
   "cell_type": "code",
   "execution_count": 181,
   "metadata": {},
   "outputs": [],
   "source": [
    "# La variable \"Reviews\" la consideramos como numérica.\n",
    "df[\"Reviews\"] = df[\"Reviews\"].astype('int32')"
   ]
  },
  {
   "cell_type": "markdown",
   "metadata": {},
   "source": [
    "Si ubiese existido más de un dato incorrecto, se podría haber utilizado el siguiente código:\n",
    "```python\n",
    "def convert_millions(value):\n",
    "    if isinstance(value, str):  # Comprueba si el valor es una cadena de texto\n",
    "        if 'M' in value:  # Si la cadena contiene 'M'\n",
    "            # Elimina 'M', convierte a float y multiplica por un millón\n",
    "            return float(value.replace('M', '')) * 1e6\n",
    "        else:\n",
    "            # Si no contiene 'M', simplemente convierte a float\n",
    "            return float(value)\n",
    "    else:\n",
    "        # Si el valor no es una cadena, déjalo como está\n",
    "        return value\n",
    "\n",
    "# Aplica la función a la columna \"Reviews\"\n",
    "df[\"Reviews\"] = df[\"Reviews\"].apply(convert_millions).astype('int64')\n",
    "```"
   ]
  },
  {
   "cell_type": "markdown",
   "metadata": {},
   "source": [
    "## Columna `Size`"
   ]
  },
  {
   "cell_type": "code",
   "execution_count": 115,
   "metadata": {},
   "outputs": [
    {
     "data": {
      "text/plain": [
       "462"
      ]
     },
     "execution_count": 115,
     "metadata": {},
     "output_type": "execute_result"
    }
   ],
   "source": [
    "# La columna \"Size\" es de tipo object, pero tiene valores numéricos y letras. Ences la podemos colocar como una variable categórica.\n",
    "df[\"Size\"].value_counts().count() # Cantidad de valores únicos"
   ]
  },
  {
   "cell_type": "markdown",
   "metadata": {},
   "source": [
    "df[\"Installs\"]"
   ]
  },
  {
   "cell_type": "code",
   "execution_count": 116,
   "metadata": {},
   "outputs": [
    {
     "data": {
      "text/plain": [
       "22"
      ]
     },
     "execution_count": 116,
     "metadata": {},
     "output_type": "execute_result"
    }
   ],
   "source": [
    "df[\"Installs\"].value_counts().count()"
   ]
  },
  {
   "cell_type": "code",
   "execution_count": 117,
   "metadata": {},
   "outputs": [
    {
     "data": {
      "text/plain": [
       "Type\n",
       "Free    10039\n",
       "Paid      800\n",
       "0           1\n",
       "Name: count, dtype: int64"
      ]
     },
     "execution_count": 117,
     "metadata": {},
     "output_type": "execute_result"
    }
   ],
   "source": [
    "df[\"Type\"].value_counts()"
   ]
  },
  {
   "cell_type": "markdown",
   "metadata": {},
   "source": [
    "## `Price`"
   ]
  },
  {
   "cell_type": "code",
   "execution_count": 182,
   "metadata": {},
   "outputs": [
    {
     "name": "stdout",
     "output_type": "stream",
     "text": [
      "<class 'pandas.core.frame.DataFrame'>\n",
      "RangeIndex: 10841 entries, 0 to 10840\n",
      "Data columns (total 13 columns):\n",
      " #   Column          Non-Null Count  Dtype   \n",
      "---  ------          --------------  -----   \n",
      " 0   App             10841 non-null  object  \n",
      " 1   Category        10841 non-null  category\n",
      " 2   Rating          9367 non-null   float16 \n",
      " 3   Reviews         10841 non-null  int32   \n",
      " 4   Size            10841 non-null  object  \n",
      " 5   Installs        10841 non-null  object  \n",
      " 6   Type            10840 non-null  object  \n",
      " 7   Price           10841 non-null  object  \n",
      " 8   Content Rating  10840 non-null  object  \n",
      " 9   Genres          10841 non-null  object  \n",
      " 10  Last Updated    10841 non-null  object  \n",
      " 11  Current Ver     10833 non-null  object  \n",
      " 12  Android Ver     10838 non-null  object  \n",
      "dtypes: category(1), float16(1), int32(1), object(10)\n",
      "memory usage: 922.5+ KB\n"
     ]
    }
   ],
   "source": [
    "df.info()"
   ]
  },
  {
   "cell_type": "code",
   "execution_count": 188,
   "metadata": {},
   "outputs": [
    {
     "data": {
      "text/html": [
       "<div>\n",
       "<style scoped>\n",
       "    .dataframe tbody tr th:only-of-type {\n",
       "        vertical-align: middle;\n",
       "    }\n",
       "\n",
       "    .dataframe tbody tr th {\n",
       "        vertical-align: top;\n",
       "    }\n",
       "\n",
       "    .dataframe thead th {\n",
       "        text-align: right;\n",
       "    }\n",
       "</style>\n",
       "<table border=\"1\" class=\"dataframe\">\n",
       "  <thead>\n",
       "    <tr style=\"text-align: right;\">\n",
       "      <th></th>\n",
       "      <th>App</th>\n",
       "      <th>Category</th>\n",
       "      <th>Rating</th>\n",
       "      <th>Reviews</th>\n",
       "      <th>Size</th>\n",
       "      <th>Installs</th>\n",
       "      <th>Type</th>\n",
       "      <th>Price</th>\n",
       "      <th>Content Rating</th>\n",
       "      <th>Genres</th>\n",
       "      <th>Last Updated</th>\n",
       "      <th>Current Ver</th>\n",
       "      <th>Android Ver</th>\n",
       "    </tr>\n",
       "  </thead>\n",
       "  <tbody>\n",
       "    <tr>\n",
       "      <th>4689</th>\n",
       "      <td>Mod GTA V for MCPE</td>\n",
       "      <td>FAMILY</td>\n",
       "      <td>3.300781</td>\n",
       "      <td>4288</td>\n",
       "      <td>10M</td>\n",
       "      <td>500,000+</td>\n",
       "      <td>Free</td>\n",
       "      <td>0</td>\n",
       "      <td>Everyone</td>\n",
       "      <td>Entertainment</td>\n",
       "      <td>April 23, 2018</td>\n",
       "      <td>1.2.3.4.5</td>\n",
       "      <td>4.0.3 and up</td>\n",
       "    </tr>\n",
       "    <tr>\n",
       "      <th>10652</th>\n",
       "      <td>FutureNet your social app</td>\n",
       "      <td>SOCIAL</td>\n",
       "      <td>4.199219</td>\n",
       "      <td>2093</td>\n",
       "      <td>7.0M</td>\n",
       "      <td>100,000+</td>\n",
       "      <td>Free</td>\n",
       "      <td>0</td>\n",
       "      <td>Teen</td>\n",
       "      <td>Social</td>\n",
       "      <td>March 8, 2018</td>\n",
       "      <td>3.36</td>\n",
       "      <td>4.2 and up</td>\n",
       "    </tr>\n",
       "    <tr>\n",
       "      <th>851</th>\n",
       "      <td>Sago Mini Hat Maker</td>\n",
       "      <td>EDUCATION</td>\n",
       "      <td>4.898438</td>\n",
       "      <td>11</td>\n",
       "      <td>63M</td>\n",
       "      <td>1,000+</td>\n",
       "      <td>Paid</td>\n",
       "      <td>$3.99</td>\n",
       "      <td>Everyone</td>\n",
       "      <td>Education;Pretend Play</td>\n",
       "      <td>July 24, 2017</td>\n",
       "      <td>1.0</td>\n",
       "      <td>4.0.3 and up</td>\n",
       "    </tr>\n",
       "    <tr>\n",
       "      <th>3887</th>\n",
       "      <td>CompTIA A+ Pocket Prep</td>\n",
       "      <td>FAMILY</td>\n",
       "      <td>4.300781</td>\n",
       "      <td>1311</td>\n",
       "      <td>14M</td>\n",
       "      <td>10,000+</td>\n",
       "      <td>Free</td>\n",
       "      <td>0</td>\n",
       "      <td>Everyone</td>\n",
       "      <td>Education</td>\n",
       "      <td>July 11, 2018</td>\n",
       "      <td>4.5.2</td>\n",
       "      <td>4.4 and up</td>\n",
       "    </tr>\n",
       "    <tr>\n",
       "      <th>4196</th>\n",
       "      <td>H-Connect</td>\n",
       "      <td>HEALTH_AND_FITNESS</td>\n",
       "      <td>4.000000</td>\n",
       "      <td>50</td>\n",
       "      <td>15M</td>\n",
       "      <td>5,000+</td>\n",
       "      <td>Free</td>\n",
       "      <td>0</td>\n",
       "      <td>Everyone</td>\n",
       "      <td>Health &amp; Fitness</td>\n",
       "      <td>July 3, 2018</td>\n",
       "      <td>2.14</td>\n",
       "      <td>4.4 and up</td>\n",
       "    </tr>\n",
       "  </tbody>\n",
       "</table>\n",
       "</div>"
      ],
      "text/plain": [
       "                             App            Category    Rating  Reviews  Size   \n",
       "4689          Mod GTA V for MCPE              FAMILY  3.300781     4288   10M  \\\n",
       "10652  FutureNet your social app              SOCIAL  4.199219     2093  7.0M   \n",
       "851          Sago Mini Hat Maker           EDUCATION  4.898438       11   63M   \n",
       "3887      CompTIA A+ Pocket Prep              FAMILY  4.300781     1311   14M   \n",
       "4196                   H-Connect  HEALTH_AND_FITNESS  4.000000       50   15M   \n",
       "\n",
       "       Installs  Type  Price Content Rating                  Genres   \n",
       "4689   500,000+  Free      0       Everyone           Entertainment  \\\n",
       "10652  100,000+  Free      0           Teen                  Social   \n",
       "851      1,000+  Paid  $3.99       Everyone  Education;Pretend Play   \n",
       "3887    10,000+  Free      0       Everyone               Education   \n",
       "4196     5,000+  Free      0       Everyone        Health & Fitness   \n",
       "\n",
       "         Last Updated Current Ver   Android Ver  \n",
       "4689   April 23, 2018   1.2.3.4.5  4.0.3 and up  \n",
       "10652   March 8, 2018        3.36    4.2 and up  \n",
       "851     July 24, 2017         1.0  4.0.3 and up  \n",
       "3887    July 11, 2018       4.5.2    4.4 and up  \n",
       "4196     July 3, 2018        2.14    4.4 and up  "
      ]
     },
     "execution_count": 188,
     "metadata": {},
     "output_type": "execute_result"
    }
   ],
   "source": [
    "df.sample(5)"
   ]
  },
  {
   "cell_type": "code",
   "execution_count": 203,
   "metadata": {},
   "outputs": [],
   "source": [
    "# La columna \"Price\" es de tipo object, pero tiene valores numéricos y letras ($). Eliminos el signo \"$\" y la convertimos a numérica.\n",
    "df[\"Price\"] = df[\"Price\"].astype(\"str\").str.replace(\"$\", \"\")\n",
    "\n",
    "# reemplazar el dato incorrecto en la columna \"Price\" -> \"Everyone\" y se reemplaza por 0.\n",
    "df.loc[df[\"Price\"] == \"Everyone\", \"Price\"] = 0\n",
    "\n",
    "# La variable \"Price\" la consideramos como numérica.\n",
    "df[\"Price\"] = df[\"Price\"].astype(\"float16\")\n"
   ]
  },
  {
   "cell_type": "markdown",
   "metadata": {},
   "source": [
    "## `Content Rating`"
   ]
  },
  {
   "cell_type": "code",
   "execution_count": 206,
   "metadata": {},
   "outputs": [],
   "source": [
    "# Es una variable categorica.\n",
    "df[\"Content Rating\"] = df[\"Content Rating\"].astype(\"category\")"
   ]
  },
  {
   "cell_type": "markdown",
   "metadata": {},
   "source": [
    "## `Genres`"
   ]
  },
  {
   "cell_type": "code",
   "execution_count": 237,
   "metadata": {},
   "outputs": [
    {
     "name": "stdout",
     "output_type": "stream",
     "text": [
      "cantidad de generos: 120\n"
     ]
    }
   ],
   "source": [
    "a = df[\"Genres\"].value_counts();\n",
    "print(\"cantidad de generos:\", a.count())"
   ]
  },
  {
   "cell_type": "code",
   "execution_count": 236,
   "metadata": {},
   "outputs": [
    {
     "name": "stdout",
     "output_type": "stream",
     "text": [
      "Genres\n",
      "Strategy                       107\n",
      "Strategy;Action & Adventure      2\n",
      "Strategy;Education               1\n",
      "Strategy;Creativity              1\n",
      "Name: count, dtype: int64\n"
     ]
    }
   ],
   "source": [
    "# La variable \"Genres\" contine varios generos separados por \";\" o \"&\".\n",
    "# Con esto buscamos en las categorias.\n",
    "mask = a.index.str.contains(\"Strategy\")\n",
    "result = a[mask]\n",
    "print(result)"
   ]
  },
  {
   "cell_type": "markdown",
   "metadata": {},
   "source": [
    "## Columna `Last Updated` (fecha)"
   ]
  },
  {
   "cell_type": "markdown",
   "metadata": {},
   "source": [
    "Dato incorrecto\n",
    "```python\n",
    "# Convertir la columna 'fecha' a tipo fecha\n",
    "df['Last Updated'] = pd.to_datetime(df['Last Updated'])\n",
    "\n",
    "# ERROR\n",
    "time data \"1.0.19\" doesn't match format \"%B %d, %Y\", at position 10472. You might want to try:\n",
    "```"
   ]
  },
  {
   "cell_type": "code",
   "execution_count": 238,
   "metadata": {},
   "outputs": [],
   "source": [
    "# Corregimos el dato incorrecto en la columna \"Last Updated\" de la posición 10472\n",
    "df.loc[10472, \"Last Updated\"] = \"January 1, 2019\""
   ]
  },
  {
   "cell_type": "code",
   "execution_count": 239,
   "metadata": {},
   "outputs": [],
   "source": [
    "# Convertir la columna 'fecha' a tipo fecha\n",
    "df['Last Updated'] = pd.to_datetime(df['Last Updated'])"
   ]
  },
  {
   "cell_type": "markdown",
   "metadata": {},
   "source": [
    "## Columna Android Ver"
   ]
  },
  {
   "cell_type": "code",
   "execution_count": 123,
   "metadata": {},
   "outputs": [
    {
     "data": {
      "text/plain": [
       "33"
      ]
     },
     "execution_count": 123,
     "metadata": {},
     "output_type": "execute_result"
    }
   ],
   "source": [
    "df[\"Android Ver\"].value_counts().count()"
   ]
  },
  {
   "cell_type": "code",
   "execution_count": 138,
   "metadata": {},
   "outputs": [
    {
     "data": {
      "text/plain": [
       "2832"
      ]
     },
     "execution_count": 138,
     "metadata": {},
     "output_type": "execute_result"
    }
   ],
   "source": [
    "df[\"Current Ver\"].value_counts().count()"
   ]
  },
  {
   "cell_type": "markdown",
   "metadata": {},
   "source": [
    "# Graficos"
   ]
  },
  {
   "cell_type": "code",
   "execution_count": 240,
   "metadata": {},
   "outputs": [
    {
     "name": "stdout",
     "output_type": "stream",
     "text": [
      "<class 'pandas.core.frame.DataFrame'>\n",
      "RangeIndex: 10841 entries, 0 to 10840\n",
      "Data columns (total 13 columns):\n",
      " #   Column          Non-Null Count  Dtype         \n",
      "---  ------          --------------  -----         \n",
      " 0   App             10841 non-null  object        \n",
      " 1   Category        10841 non-null  category      \n",
      " 2   Rating          9367 non-null   float16       \n",
      " 3   Reviews         10841 non-null  int32         \n",
      " 4   Size            10841 non-null  object        \n",
      " 5   Installs        10841 non-null  object        \n",
      " 6   Type            10840 non-null  object        \n",
      " 7   Price           10841 non-null  float16       \n",
      " 8   Content Rating  10840 non-null  category      \n",
      " 9   Genres          10841 non-null  object        \n",
      " 10  Last Updated    10841 non-null  datetime64[ns]\n",
      " 11  Current Ver     10833 non-null  object        \n",
      " 12  Android Ver     10838 non-null  object        \n",
      "dtypes: category(2), datetime64[ns](1), float16(2), int32(1), object(7)\n",
      "memory usage: 785.1+ KB\n"
     ]
    }
   ],
   "source": [
    "df.info()"
   ]
  },
  {
   "cell_type": "code",
   "execution_count": 301,
   "metadata": {},
   "outputs": [
    {
     "data": {
      "text/html": [
       "<div>\n",
       "<style scoped>\n",
       "    .dataframe tbody tr th:only-of-type {\n",
       "        vertical-align: middle;\n",
       "    }\n",
       "\n",
       "    .dataframe tbody tr th {\n",
       "        vertical-align: top;\n",
       "    }\n",
       "\n",
       "    .dataframe thead th {\n",
       "        text-align: right;\n",
       "    }\n",
       "</style>\n",
       "<table border=\"1\" class=\"dataframe\">\n",
       "  <thead>\n",
       "    <tr style=\"text-align: right;\">\n",
       "      <th></th>\n",
       "      <th>App</th>\n",
       "      <th>Category</th>\n",
       "      <th>Rating</th>\n",
       "      <th>Reviews</th>\n",
       "      <th>Size</th>\n",
       "      <th>Installs</th>\n",
       "      <th>Type</th>\n",
       "      <th>Price</th>\n",
       "      <th>Content Rating</th>\n",
       "      <th>Genres</th>\n",
       "      <th>Last Updated</th>\n",
       "      <th>Current Ver</th>\n",
       "      <th>Android Ver</th>\n",
       "    </tr>\n",
       "  </thead>\n",
       "  <tbody>\n",
       "    <tr>\n",
       "      <th>10472</th>\n",
       "      <td>Life Made WI-Fi Touchscreen Photo Frame</td>\n",
       "      <td>1.9</td>\n",
       "      <td>19</td>\n",
       "      <td>3.0M</td>\n",
       "      <td>1,000+</td>\n",
       "      <td>Free</td>\n",
       "      <td>0</td>\n",
       "      <td>Everyone</td>\n",
       "      <td>NaN</td>\n",
       "      <td>February 11, 2018</td>\n",
       "      <td>1.0.19</td>\n",
       "      <td>4.0 and up</td>\n",
       "      <td>NaN</td>\n",
       "    </tr>\n",
       "  </tbody>\n",
       "</table>\n",
       "</div>"
      ],
      "text/plain": [
       "                                           App Category  Rating Reviews   \n",
       "10472  Life Made WI-Fi Touchscreen Photo Frame      1.9      19    3.0M  \\\n",
       "\n",
       "         Size Installs Type     Price Content Rating             Genres   \n",
       "10472  1,000+     Free    0  Everyone            NaN  February 11, 2018  \\\n",
       "\n",
       "      Last Updated Current Ver Android Ver  \n",
       "10472       1.0.19  4.0 and up         NaN  "
      ]
     },
     "execution_count": 301,
     "metadata": {},
     "output_type": "execute_result"
    }
   ],
   "source": [
    "df[df[\"Rating\"] == 19]"
   ]
  },
  {
   "cell_type": "code",
   "execution_count": 309,
   "metadata": {},
   "outputs": [
    {
     "data": {
      "image/png": "[encoded data removed]",
      "text/plain": [
       "<Figure size 1500x600 with 1 Axes>"
      ]
     },
     "metadata": {},
     "output_type": "display_data"
    }
   ],
   "source": [
    "plt.figure(figsize=(15, 6))\n",
    "# Realizo un gráfico de histograma para ver la distribución de la variable \"Rating\" usando seaborn.\n",
    "sns.histplot(data=df, x='Rating', kde=True, color='blue')\n",
    "plt.title('Distribución de las calificaciones por usuarios')\n",
    "#plt.xticks(np.arange(0, 20, 1))\n",
    "#plt.yticks(np.arange(0, 1200, 100))\n",
    "plt.show()"
   ]
  },
  {
   "cell_type": "code",
   "execution_count": null,
   "metadata": {},
   "outputs": [],
   "source": [
    "\n",
    "plt.xlabel('Edad')\n",
    "plt.ylabel('Cantidad de sobrevivientes')\n",
    "plt.xticks(np.arange(0, 85, 5))\n",
    "plt.yticks(np.arange(0, 17, 1))\n",
    "plt.show()"
   ]
  }
 ],
 "metadata": {
  "kernelspec": {
   "display_name": "Python 3",
   "language": "python",
   "name": "python3"
  },
  "language_info": {
   "codemirror_mode": {
    "name": "ipython",
    "version": 3
   },
   "file_extension": ".py",
   "mimetype": "text/x-python",
   "name": "python",
   "nbconvert_exporter": "python",
   "pygments_lexer": "ipython3",
   "version": "3.10.6"
  },
  "orig_nbformat": 4
 },
 "nbformat": 4,
 "nbformat_minor": 2
}
