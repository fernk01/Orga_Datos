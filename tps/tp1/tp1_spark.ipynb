{
 "cells": [
  {
   "cell_type": "markdown",
   "metadata": {},
   "source": [
    "Tercera parte: Spark <br>\n",
    "Todos los ejercicios se relizan utilizando el API de RDDs de Spark."
   ]
  },
  {
   "cell_type": "code",
   "execution_count": 30,
   "metadata": {},
   "outputs": [],
   "source": [
    "from pyspark.sql import *\n",
    "from pyspark.sql.functions import *\n",
    "from pyspark import SparkContext\n",
    "from pyspark.sql import SQLContext\n",
    "\n",
    "import pandas as pd\n",
    "\n",
    "import math"
   ]
  },
  {
   "cell_type": "code",
   "execution_count": 31,
   "metadata": {},
   "outputs": [],
   "source": [
    "# Crear una instancia de SparkSession y SparkContext\n",
    "spark = SparkSession.builder.getOrCreate()\n",
    "sc = spark.sparkContext\n",
    "sqlContext = SQLContext(sc)"
   ]
  },
  {
   "cell_type": "code",
   "execution_count": 32,
   "metadata": {},
   "outputs": [],
   "source": [
    "# Leer los archivos CSV.\n",
    "df_apps = sqlContext.read.option(\"delimiter\", \",\").option(\"escape\", '\"').csv(\"./dataset/googleplaystore.csv\", header=True, inferSchema=True)\n",
    "\n",
    "df_reviews = sqlContext.read.option(\"delimiter\", \",\").option(\"escape\", '\"').csv(\"./dataset/googleplaystore_user_reviews.csv\", header=True, inferSchema=True)"
   ]
  },
  {
   "cell_type": "code",
   "execution_count": 33,
   "metadata": {},
   "outputs": [
    {
     "name": "stdout",
     "output_type": "stream",
     "text": [
      "root\n",
      " |-- App: string (nullable = true)\n",
      " |-- Category: string (nullable = true)\n",
      " |-- Rating: double (nullable = true)\n",
      " |-- Reviews: string (nullable = true)\n",
      " |-- Size: string (nullable = true)\n",
      " |-- Installs: string (nullable = true)\n",
      " |-- Type: string (nullable = true)\n",
      " |-- Price: string (nullable = true)\n",
      " |-- Content Rating: string (nullable = true)\n",
      " |-- Genres: string (nullable = true)\n",
      " |-- Last Updated: string (nullable = true)\n",
      " |-- Current Ver: string (nullable = true)\n",
      " |-- Android Ver: string (nullable = true)\n",
      "\n"
     ]
    }
   ],
   "source": [
    "# Mostras los tipos de datos de los RDDs\n",
    "df_apps.printSchema()"
   ]
  },
  {
   "cell_type": "code",
   "execution_count": 34,
   "metadata": {},
   "outputs": [
    {
     "name": "stdout",
     "output_type": "stream",
     "text": [
      "root\n",
      " |-- App: string (nullable = true)\n",
      " |-- Translated_Review: string (nullable = true)\n",
      " |-- Sentiment: string (nullable = true)\n",
      " |-- Sentiment_Polarity: string (nullable = true)\n",
      " |-- Sentiment_Subjectivity: string (nullable = true)\n",
      "\n"
     ]
    }
   ],
   "source": [
    "# Mostras los tipos de datos de los RDDs\n",
    "df_reviews.printSchema()"
   ]
  },
  {
   "cell_type": "markdown",
   "metadata": {},
   "source": [
    "Cuando se convierte un DataFrame en un RDD en Spark, los tipos de datos se mantienen"
   ]
  },
  {
   "cell_type": "code",
   "execution_count": 35,
   "metadata": {},
   "outputs": [],
   "source": [
    "# Crear los RDDs a partir de los DataFrames\n",
    "rdd_apps = df_apps.rdd\n",
    "rdd_reviews = df_reviews.rdd"
   ]
  },
  {
   "cell_type": "code",
   "execution_count": 36,
   "metadata": {},
   "outputs": [
    {
     "name": "stdout",
     "output_type": "stream",
     "text": [
      "Esquema de rdd_apps:\n"
     ]
    },
    {
     "data": {
      "text/plain": [
       "[Row(App='Photo Editor & Candy Camera & Grid & ScrapBook', Category='ART_AND_DESIGN', Rating=4.1, Reviews='159', Size='19M', Installs='10,000+', Type='Free', Price='0', Content Rating='Everyone', Genres='Art & Design', Last Updated='January 7, 2018', Current Ver='1.0.0', Android Ver='4.0.3 and up'),\n",
       " Row(App='Coloring book moana', Category='ART_AND_DESIGN', Rating=3.9, Reviews='967', Size='14M', Installs='500,000+', Type='Free', Price='0', Content Rating='Everyone', Genres='Art & Design;Pretend Play', Last Updated='January 15, 2018', Current Ver='2.0.0', Android Ver='4.0.3 and up'),\n",
       " Row(App='U Launcher Lite – FREE Live Cool Themes, Hide Apps', Category='ART_AND_DESIGN', Rating=4.7, Reviews='87510', Size='8.7M', Installs='5,000,000+', Type='Free', Price='0', Content Rating='Everyone', Genres='Art & Design', Last Updated='August 1, 2018', Current Ver='1.2.4', Android Ver='4.0.3 and up'),\n",
       " Row(App='Sketch - Draw & Paint', Category='ART_AND_DESIGN', Rating=4.5, Reviews='215644', Size='25M', Installs='50,000,000+', Type='Free', Price='0', Content Rating='Teen', Genres='Art & Design', Last Updated='June 8, 2018', Current Ver='Varies with device', Android Ver='4.2 and up'),\n",
       " Row(App='Pixel Draw - Number Art Coloring Book', Category='ART_AND_DESIGN', Rating=4.3, Reviews='967', Size='2.8M', Installs='100,000+', Type='Free', Price='0', Content Rating='Everyone', Genres='Art & Design;Creativity', Last Updated='June 20, 2018', Current Ver='1.1', Android Ver='4.4 and up')]"
      ]
     },
     "execution_count": 36,
     "metadata": {},
     "output_type": "execute_result"
    }
   ],
   "source": [
    "# Mostar los esquemas de los RDDs\n",
    "print(\"Esquema de rdd_apps:\")\n",
    "rdd_apps.take(5)"
   ]
  },
  {
   "cell_type": "code",
   "execution_count": 37,
   "metadata": {},
   "outputs": [
    {
     "name": "stdout",
     "output_type": "stream",
     "text": [
      "Esquema de rdd_reviews:\n"
     ]
    },
    {
     "data": {
      "text/plain": [
       "[Row(App='10 Best Foods for You', Translated_Review='I like eat delicious food. That\\'s I\\'m cooking food myself, case \"10 Best Foods\" helps lot, also \"Best Before (Shelf Life)\"', Sentiment='Positive', Sentiment_Polarity='1.0', Sentiment_Subjectivity='0.5333333333333333'),\n",
       " Row(App='10 Best Foods for You', Translated_Review='This help eating healthy exercise regular basis', Sentiment='Positive', Sentiment_Polarity='0.25', Sentiment_Subjectivity='0.28846153846153844'),\n",
       " Row(App='10 Best Foods for You', Translated_Review='nan', Sentiment='nan', Sentiment_Polarity='nan', Sentiment_Subjectivity='nan'),\n",
       " Row(App='10 Best Foods for You', Translated_Review='Works great especially going grocery store', Sentiment='Positive', Sentiment_Polarity='0.4', Sentiment_Subjectivity='0.875'),\n",
       " Row(App='10 Best Foods for You', Translated_Review='Best idea us', Sentiment='Positive', Sentiment_Polarity='1.0', Sentiment_Subjectivity='0.3')]"
      ]
     },
     "execution_count": 37,
     "metadata": {},
     "output_type": "execute_result"
    }
   ],
   "source": [
    "# Mostar los esquemas de los RDDs\n",
    "print(\"Esquema de rdd_reviews:\")\n",
    "rdd_reviews.take(5)"
   ]
  },
  {
   "cell_type": "markdown",
   "metadata": {},
   "source": [
    "## Preprocesamiento de datos"
   ]
  },
  {
   "cell_type": "code",
   "execution_count": 38,
   "metadata": {},
   "outputs": [
    {
     "data": {
      "text/plain": [
       "[Row(App='Life Made WI-Fi Touchscreen Photo Frame', Category='1.9', Rating=19.0, Reviews='3.0M', Size='1,000+', Installs='Free', Type='0', Price='Everyone', Content Rating=None, Genres='February 11, 2018', Last Updated='1.0.19', Current Ver='4.0 and up', Android Ver=None)]"
      ]
     },
     "execution_count": 38,
     "metadata": {},
     "output_type": "execute_result"
    }
   ],
   "source": [
    "# Buscamos en la columna \"Reviews\" el dato mal cargado, dado que esta columna solo acepta números enteros positivos.\n",
    "# Para eso, filtramos los registros que no sean numéricos y los mostramos.\n",
    "rdd_apps.filter(lambda x: not x[\"Reviews\"].isdecimal()).collect() # se usa collect(), a pesar de que no es recomendable, porque la cantidad de registros que se espera es muy pequeña.\n"
   ]
  },
  {
   "cell_type": "markdown",
   "metadata": {},
   "source": [
    "Se considera que toda la fila esta mal cargada y se elimina."
   ]
  },
  {
   "cell_type": "code",
   "execution_count": 39,
   "metadata": {},
   "outputs": [],
   "source": [
    "# Eliminamos el registro que tiene el valor mal cargado.\n",
    "rdd_apps = rdd_apps.filter(lambda x: x[\"Reviews\"] != \"3.0M\")"
   ]
  },
  {
   "cell_type": "code",
   "execution_count": null,
   "metadata": {},
   "outputs": [],
   "source": []
  },
  {
   "cell_type": "markdown",
   "metadata": {},
   "source": [
    "## 2) Teniendo en cuenta las reviews que reciben las aplicaciones, devolver una (al azar) de la aplicación que haya recibido la mayor cantidad de reviews positivas. (⭐)"
   ]
  },
  {
   "cell_type": "code",
   "execution_count": 50,
   "metadata": {},
   "outputs": [
    {
     "name": "stdout",
     "output_type": "stream",
     "text": [
      "Aplicación con más reseñas positivas: Facebook\n",
      "Reseña seleccionada al azar:\n",
      "Translated_Review: Would great change constantly. The videos inconsistent. One video take video tab another go full screen preferred.\n",
      "Sentiment: Positive\n"
     ]
    }
   ],
   "source": [
    "# Filtrar solo reseñas positivas (asumiremos que Sentiment es \"Positive\" en el segundo conjunto de datos)\n",
    "positive_reviews_rdd = rdd_reviews.filter(lambda x: x['Sentiment'] == 'Positive')\n",
    "\n",
    "# Filtrar solo valores numéricos en la columna \"Reviews\"\n",
    "rdd_apps_numeric_reviews = rdd_apps.filter(lambda x: x['Reviews'].isdecimal())\n",
    "\n",
    "# Convertir la columna \"Reviews\" a un tipo numérico\n",
    "rdd_apps_numeric_reviews = rdd_apps_numeric_reviews.map(lambda x: (x['App'], int(x['Reviews'])))\n",
    "\n",
    "# Obtener la aplicación con la mayor cantidad de reseñas positivas y su número de reseñas\n",
    "app_with_most_positive_reviews = rdd_apps_numeric_reviews.reduce(lambda a, b: a if a[1] >= b[1] else b)\n",
    "\n",
    "# Filtrar todas las reseñas de la aplicación con la mayor cantidad de reseñas positivas\n",
    "reviews_of_app_with_most_positive_reviews = positive_reviews_rdd.filter(lambda x: x['App'] == app_with_most_positive_reviews[0])\n",
    "\n",
    "# Seleccionar una reseña al azar de esa aplicación sin usar collect()\n",
    "random_review = reviews_of_app_with_most_positive_reviews.takeSample(False, 1)\n",
    "\n",
    "# Imprimir la aplicación y la reseña seleccionada al azar\n",
    "print(\"Aplicación con más reseñas positivas:\", app_with_most_positive_reviews[0])\n",
    "print(\"Reseña seleccionada al azar:\")\n",
    "print(\"Translated_Review:\", random_review[0]['Translated_Review'])\n",
    "print(\"Sentiment:\", random_review[0]['Sentiment'])"
   ]
  },
  {
   "cell_type": "markdown",
   "metadata": {},
   "source": [
    "## 31) ¿Cuál es la app con mayor cantidad de instalaciones? (⭐)"
   ]
  },
  {
   "cell_type": "markdown",
   "metadata": {},
   "source": [
    "La columna \"Installs\" tiene valores como \"1,000,000+\" o \"100,000,000+\" que no se pueden convertir a números. Se limpian los datos y se convierten a números."
   ]
  },
  {
   "cell_type": "code",
   "execution_count": 51,
   "metadata": {},
   "outputs": [
    {
     "name": "stdout",
     "output_type": "stream",
     "text": [
      "Aplicación con más instalaciones: Google Play Books\n"
     ]
    }
   ],
   "source": [
    "# Convertir la columna \"Installs\" a un tipo numérico\n",
    "rdd_apps_installs = rdd_apps.map(lambda x: (x['App'], int(x['Installs'].replace('+', '').replace(',', ''))))\n",
    "\n",
    "# Obtener la aplicación con la mayor cantidad de instalaciones y su número de instalaciones\n",
    "app_with_most_installs = rdd_apps_installs.reduce(lambda a, b: a if a[1] >= b[1] else b)\n",
    "\n",
    "# Imprimir la aplicación con la mayor cantidad de instalaciones\n",
    "print(\"Aplicación con más instalaciones:\", app_with_most_installs[0])\n"
   ]
  },
  {
   "cell_type": "markdown",
   "metadata": {},
   "source": [
    "## 10) Cual es la categoría con mayor promedio de apps que hayan sido al menos 1 vez calificadas como positivas (⭐⭐)"
   ]
  },
  {
   "cell_type": "markdown",
   "metadata": {},
   "source": [
    "Ejemplo con números hipotéticos:\n",
    "\n",
    "Supongamos que en la categoría \"Juegos\" hay 100 aplicaciones únicas.\n",
    "\n",
    "Luego encontramos que de esas 100 aplicaciones, 60 tienen al menos 1 reseña positiva.\n",
    "\n",
    "Entonces los cálculos serían:\n",
    "\n",
    "- Total de apps únicas en la categoría: 100\n",
    "- Apps con al menos 1 reseña positiva: 60\n",
    "- Porcentaje de apps positivas: 60/100 = 0.6 (60%)\n",
    "\n",
    "Así que para la categoría \"Juegos\" el porcentaje de apps con al menos una reseña positiva es del 60%.\n",
    "\n",
    "Este mismo cálculo se hace para cada categoría:\n",
    "\n",
    "- Contar el total de apps únicas en esa categoría\n",
    "- Contar cuántas tienen al menos 1 reseña positiva\n",
    "- Dividir las positivas sobre el total para obtener el porcentaje\n",
    "\n",
    "Finalmente, se ordenan las categorías por ese porcentaje de mayor a menor, y se obtiene la categoría con el mayor porcentaje, que sería la que en promedio tiene más probabilidades de que sus apps tengan reseñas positivas."
   ]
  },
  {
   "cell_type": "code",
   "execution_count": 86,
   "metadata": {},
   "outputs": [
    {
     "data": {
      "text/plain": [
       "853"
      ]
     },
     "execution_count": 86,
     "metadata": {},
     "output_type": "execute_result"
    }
   ],
   "source": [
    "# Filtrar las revisiones con sentimiento positivo\n",
    "rdd_positive_reviews = rdd_reviews.filter(lambda x: x[\"Sentiment\"] == \"Positive\")\n",
    "# Mapear el RDD de revisiones para obtener (App, 1) como clave-valor\n",
    "rdd_positive_counts = rdd_positive_reviews.map(lambda x: (x[\"App\"], 1))\n",
    "# Reducir por clave (App) para contar las aplicaciones únicas con al menos una reseña positiva\n",
    "rdd_app_positive_counts = rdd_positive_counts.reduceByKey(lambda a, b: a)\n",
    "rdd_app_positive_counts.count()"
   ]
  },
  {
   "cell_type": "code",
   "execution_count": 79,
   "metadata": {},
   "outputs": [
    {
     "data": {
      "text/plain": [
       "[('104 找工作 - 找工作 找打工 找兼職 履歷健檢 履歷診療室', 1),\n",
       " ('21-Day Meditation Experience', 1),\n",
       " ('2Date Dating App, Love and matching', 1),\n",
       " ('30 Day Fitness Challenge - Workout at Home', 1),\n",
       " ('365Scores - Live Scores', 1)]"
      ]
     },
     "execution_count": 79,
     "metadata": {},
     "output_type": "execute_result"
    }
   ],
   "source": [
    "rdd_app_positive_counts.take(5)"
   ]
  },
  {
   "cell_type": "code",
   "execution_count": 80,
   "metadata": {},
   "outputs": [
    {
     "data": {
      "text/plain": [
       "853"
      ]
     },
     "execution_count": 80,
     "metadata": {},
     "output_type": "execute_result"
    }
   ],
   "source": [
    "rdd_app_positive_counts.count()"
   ]
  },
  {
   "cell_type": "code",
   "execution_count": 87,
   "metadata": {},
   "outputs": [
    {
     "data": {
      "text/plain": [
       "[('Photo Editor & Candy Camera & Grid & ScrapBook', 'ART_AND_DESIGN'),\n",
       " ('Coloring book moana', 'ART_AND_DESIGN'),\n",
       " ('U Launcher Lite – FREE Live Cool Themes, Hide Apps', 'ART_AND_DESIGN'),\n",
       " ('Sketch - Draw & Paint', 'ART_AND_DESIGN'),\n",
       " ('Pixel Draw - Number Art Coloring Book', 'ART_AND_DESIGN')]"
      ]
     },
     "execution_count": 87,
     "metadata": {},
     "output_type": "execute_result"
    }
   ],
   "source": [
    "# Realizar un join entre los RDDs de aplicaciones y conteo de revisiones positivas\n",
    "rdd_app_category_join = rdd_apps.map(lambda x: (x[\"App\"], x[\"Category\"])).distinct()\n",
    "rdd_app_category_join.take(5)"
   ]
  },
  {
   "cell_type": "code",
   "execution_count": 98,
   "metadata": {},
   "outputs": [
    {
     "data": {
      "text/plain": [
       "[('ART_AND_DESIGN', 64),\n",
       " ('AUTO_AND_VEHICLES', 85),\n",
       " ('BEAUTY', 53),\n",
       " ('BOOKS_AND_REFERENCE', 222),\n",
       " ('BUSINESS', 420)]"
      ]
     },
     "execution_count": 98,
     "metadata": {},
     "output_type": "execute_result"
    }
   ],
   "source": [
    "# Calcular el total de aplicaciones en cada categoría\n",
    "rdd_category_counts = rdd_app_category_join.map(lambda x: (x[1], 1)).reduceByKey(lambda a, b: a + b)\n",
    "rdd_category_counts.take(5)"
   ]
  },
  {
   "cell_type": "code",
   "execution_count": 101,
   "metadata": {},
   "outputs": [
    {
     "data": {
      "text/plain": [
       "64"
      ]
     },
     "execution_count": 101,
     "metadata": {},
     "output_type": "execute_result"
    }
   ],
   "source": [
    "# filtrar las aplicaciones de la categoría \"EVENTS\"\n",
    "rdd_communication_apps = rdd_app_category_join.filter(lambda x: x[1] == \"EVENTS\")\n",
    "rdd_communication_apps.count()\n"
   ]
  },
  {
   "cell_type": "code",
   "execution_count": 90,
   "metadata": {},
   "outputs": [
    {
     "data": {
      "text/plain": [
       "[('FlipaClip - Cartoon animation', ('ART_AND_DESIGN', 1)),\n",
       " (\"Boys Photo Editor - Six Pack & Men's Suit\", ('ART_AND_DESIGN', 1)),\n",
       " ('Colorfit - Drawing & Coloring', ('ART_AND_DESIGN', 1)),\n",
       " ('Easy Origami Ideas', ('ART_AND_DESIGN', 1)),\n",
       " ('Canva: Poster, banner, card maker & graphic design', ('ART_AND_DESIGN', 1))]"
      ]
     },
     "execution_count": 90,
     "metadata": {},
     "output_type": "execute_result"
    }
   ],
   "source": [
    "rdd_result = rdd_app_category_join.join(rdd_app_positive_counts)\n",
    "rdd_result.take(5)"
   ]
  },
  {
   "cell_type": "code",
   "execution_count": 103,
   "metadata": {},
   "outputs": [
    {
     "data": {
      "text/plain": [
       "[('COMMUNICATION', 32),\n",
       " ('ENTERTAINMENT', 25),\n",
       " ('EVENTS', 5),\n",
       " ('FINANCE', 38),\n",
       " ('MEDICAL', 33)]"
      ]
     },
     "execution_count": 103,
     "metadata": {},
     "output_type": "execute_result"
    }
   ],
   "source": [
    "# Calcular el total de aplicaciones con al menos una reseña positiva en cada categoría\n",
    "rdd_category_positive_counts = rdd_result.map(lambda x: (x[1][0], 1)).reduceByKey(lambda a, b: a + b)\n",
    "rdd_category_positive_counts.take(5)"
   ]
  },
  {
   "cell_type": "code",
   "execution_count": 91,
   "metadata": {},
   "outputs": [
    {
     "data": {
      "text/plain": [
       "5"
      ]
     },
     "execution_count": 91,
     "metadata": {},
     "output_type": "execute_result"
    }
   ],
   "source": [
    "# filtramos por la categoría \"EVENTS\"\n",
    "rdd_result.filter(lambda x: x[1][0] == \"EVENTS\").count()\n"
   ]
  },
  {
   "cell_type": "code",
   "execution_count": 92,
   "metadata": {},
   "outputs": [
    {
     "data": {
      "text/plain": [
       "[('Goldstar: Live Event Tickets', ('EVENTS', 1)),\n",
       " ('DroidAdmin for Android - Advice', ('EVENTS', 1)),\n",
       " ('Gametime - Tickets to Sports, Concerts, Theater', ('EVENTS', 1)),\n",
       " ('All Events in City', ('EVENTS', 1)),\n",
       " ('Happy Birthday Songs Offline', ('EVENTS', 1))]"
      ]
     },
     "execution_count": 92,
     "metadata": {},
     "output_type": "execute_result"
    }
   ],
   "source": [
    "# filtrar las aplicaciones de la categoría \"COMMUNICATION\"\n",
    "rdd_result.filter(lambda x: x[1][0] == \"EVENTS\").collect()"
   ]
  },
  {
   "cell_type": "code",
   "execution_count": 106,
   "metadata": {},
   "outputs": [
    {
     "data": {
      "text/plain": [
       "[('EVENTS', 0.078125),\n",
       " ('NEWS_AND_MAGAZINES', 0.09055118110236221),\n",
       " ('EDUCATION', 0.18487394957983194),\n",
       " ('MAPS_AND_NAVIGATION', 0.05343511450381679),\n",
       " ('FOOD_AND_DRINK', 0.16071428571428573)]"
      ]
     },
     "execution_count": 106,
     "metadata": {},
     "output_type": "execute_result"
    }
   ],
   "source": [
    "# Calcular los porcentajes de aplicaciones con al menos una reseña positiva en cada categoría\n",
    "rdd_category_positive_percentages = rdd_category_positive_counts.join(rdd_category_counts).map(lambda x: (x[0], x[1][0] / x[1][1]))\n",
    "rdd_category_positive_percentages.take(5)"
   ]
  },
  {
   "cell_type": "code",
   "execution_count": 107,
   "metadata": {},
   "outputs": [
    {
     "data": {
      "text/plain": [
       "('ENTERTAINMENT', 0.24509803921568626)"
      ]
     },
     "execution_count": 107,
     "metadata": {},
     "output_type": "execute_result"
    }
   ],
   "source": [
    "# Encontrar la categoría con el mayor porcentaje de aplicaciones positivas\n",
    "rdd_category_positive_percentages.reduce(lambda a, b: a if a[1] >= b[1] else b)"
   ]
  },
  {
   "cell_type": "markdown",
   "metadata": {},
   "source": [
    "---"
   ]
  },
  {
   "cell_type": "code",
   "execution_count": 11,
   "metadata": {},
   "outputs": [],
   "source": [
    "# Filtrar las revisiones con sentimiento positivo\n",
    "rdd_positive_reviews = rdd_reviews.filter(lambda x: x[\"Sentiment\"] == \"Positive\")\n",
    "\n",
    "# Mapear el RDD de revisiones para obtener (App, 1) como clave-valor\n",
    "rdd_positive_counts = rdd_positive_reviews.map(lambda x: (x[\"App\"], 1))\n",
    "\n",
    "# Reducir por clave (App) para contar las aplicaciones únicas con al menos una reseña positiva\n",
    "rdd_app_positive_counts = rdd_positive_counts.reduceByKey(lambda a, b: a + b)"
   ]
  },
  {
   "cell_type": "code",
   "execution_count": 12,
   "metadata": {},
   "outputs": [],
   "source": [
    "# Realizar un join entre los RDDs de aplicaciones y conteo de revisiones positivas\n",
    "rdd_app_category_join = rdd_apps.map(lambda x: (x[\"App\"], x[\"Category\"])).distinct()\n",
    "rdd_result = rdd_app_category_join.join(rdd_app_positive_counts)"
   ]
  },
  {
   "cell_type": "code",
   "execution_count": 15,
   "metadata": {},
   "outputs": [],
   "source": [
    "# ejemplo para una categoria\n",
    "porcentaje_categoria_family = rdd_result.filter(lambda x: x[1][0] == 'FAMILY' and x[1][1] > 1).count() / rdd_result.filter(lambda x: x[1][0] == 'FAMILY').count() * 100\n"
   ]
  },
  {
   "cell_type": "code",
   "execution_count": 17,
   "metadata": {},
   "outputs": [],
   "source": [
    "# Usando el ejemplo anterior para todas las categorias buscando el maximo\n",
    "porcentaje_categoria_max = 0\n",
    "categoria_max = ''\n",
    "categories = rdd_apps.map(lambda x: x[\"Category\"]).distinct().collect()\n",
    "\n",
    "for categoria in categories:\n",
    "    porcentaje_categoria = rdd_result.filter(lambda x: x[1][0] == categoria and x[1][1] > 1).count() / rdd_result.filter(lambda x: x[1][0] == categoria).count() * 100\n",
    "    if porcentaje_categoria > porcentaje_categoria_max:\n",
    "        porcentaje_categoria_max = porcentaje_categoria\n",
    "        categoria_max = categoria\n"
   ]
  },
  {
   "cell_type": "markdown",
   "metadata": {},
   "source": [
    "------------------"
   ]
  },
  {
   "cell_type": "code",
   "execution_count": 52,
   "metadata": {},
   "outputs": [
    {
     "data": {
      "text/plain": [
       "[Row(App='10 Best Foods for You', Translated_Review='I like eat delicious food. That\\'s I\\'m cooking food myself, case \"10 Best Foods\" helps lot, also \"Best Before (Shelf Life)\"', Sentiment='Positive', Sentiment_Polarity='1.0', Sentiment_Subjectivity='0.5333333333333333'),\n",
       " Row(App='10 Best Foods for You', Translated_Review='This help eating healthy exercise regular basis', Sentiment='Positive', Sentiment_Polarity='0.25', Sentiment_Subjectivity='0.28846153846153844'),\n",
       " Row(App='10 Best Foods for You', Translated_Review='Works great especially going grocery store', Sentiment='Positive', Sentiment_Polarity='0.4', Sentiment_Subjectivity='0.875'),\n",
       " Row(App='10 Best Foods for You', Translated_Review='Best idea us', Sentiment='Positive', Sentiment_Polarity='1.0', Sentiment_Subjectivity='0.3'),\n",
       " Row(App='10 Best Foods for You', Translated_Review='Best way', Sentiment='Positive', Sentiment_Polarity='1.0', Sentiment_Subjectivity='0.3')]"
      ]
     },
     "execution_count": 52,
     "metadata": {},
     "output_type": "execute_result"
    }
   ],
   "source": [
    "# Filtrar las revisiones con sentimiento positivo\n",
    "rdd_positive_reviews = rdd_reviews.filter(lambda x: x[\"Sentiment\"] == \"Positive\")\n",
    "rdd_positive_reviews.take(5)"
   ]
  },
  {
   "cell_type": "code",
   "execution_count": 53,
   "metadata": {},
   "outputs": [
    {
     "data": {
      "text/plain": [
       "[('10 Best Foods for You', 1),\n",
       " ('10 Best Foods for You', 1),\n",
       " ('10 Best Foods for You', 1),\n",
       " ('10 Best Foods for You', 1),\n",
       " ('10 Best Foods for You', 1)]"
      ]
     },
     "execution_count": 53,
     "metadata": {},
     "output_type": "execute_result"
    }
   ],
   "source": [
    "# Mapear el RDD de revisiones para obtener (App, 1) como clave-valor\n",
    "rdd_positive_counts = rdd_positive_reviews.map(lambda x: (x[\"App\"], 1))\n",
    "rdd_positive_counts.take(5)"
   ]
  },
  {
   "cell_type": "code",
   "execution_count": 54,
   "metadata": {},
   "outputs": [
    {
     "data": {
      "text/plain": [
       "[('104 找工作 - 找工作 找打工 找兼職 履歷健檢 履歷診療室', 31),\n",
       " ('21-Day Meditation Experience', 68),\n",
       " ('2Date Dating App, Love and matching', 26),\n",
       " ('30 Day Fitness Challenge - Workout at Home', 27),\n",
       " ('365Scores - Live Scores', 5)]"
      ]
     },
     "execution_count": 54,
     "metadata": {},
     "output_type": "execute_result"
    }
   ],
   "source": [
    "# Reducir por clave (App) para contar las aplicaciones únicas con al menos una reseña positiva\n",
    "rdd_app_positive_counts = rdd_positive_counts.reduceByKey(lambda a, b: a + b)\n",
    "rdd_app_positive_counts.take(5)"
   ]
  },
  {
   "cell_type": "code",
   "execution_count": 55,
   "metadata": {},
   "outputs": [
    {
     "data": {
      "text/plain": [
       "[('Coloring book moana', 26)]"
      ]
     },
     "execution_count": 55,
     "metadata": {},
     "output_type": "execute_result"
    }
   ],
   "source": [
    "# buscamos la cantidad de '10 Best Foods for You'\n",
    "rdd_app_positive_counts.filter(lambda x: x[0] == '').collect()\n"
   ]
  },
  {
   "cell_type": "code",
   "execution_count": 56,
   "metadata": {},
   "outputs": [
    {
     "data": {
      "text/plain": [
       "[('ASUS Quick Memo', 1),\n",
       " ('Apartment Decorating Ideas', 1),\n",
       " ('Best Fiends - Free Puzzle Game', 1),\n",
       " ('Caller ID +', 1),\n",
       " ('Daily Workouts - Exercise Fitness Routine Trainer', 1),\n",
       " ('Dailyhunt (Newshunt) - Latest News, Viral Videos', 1),\n",
       " ('DashClock Widget', 1),\n",
       " ('Dashlane Free Password Manager', 1),\n",
       " ('Disney Heroes: Battle Mode', 1),\n",
       " ('Draw a Stickman: EPIC 2', 1),\n",
       " ('Extreme Car Driving Simulator', 1),\n",
       " ('HTC Calendar', 1),\n",
       " ('HomeWork', 1),\n",
       " ('All-in-One Mahjong 3 FREE', 1),\n",
       " ('Bed Time Fan - White Noise Sleep Sounds', 1),\n",
       " ('Best Car Wallpapers', 1),\n",
       " ('Best Ovulation Tracker Fertility Calendar App Glow', 1),\n",
       " ('CM Browser - Ad Blocker , Fast Download , Privacy', 1),\n",
       " ('Caf - Mon Compte', 1),\n",
       " ('Calculator - free calculator, multi calculator app', 1),\n",
       " ('Calculator - unit converter', 1),\n",
       " ('Calculator with Percent (Free)', 1),\n",
       " ('Calendar Widget Month + Agenda', 1),\n",
       " ('Calendar+ Schedule Planner App', 1),\n",
       " ('Call Blocker', 1),\n",
       " ('CallApp: Caller ID, Blocker & Phone Call Recorder', 1),\n",
       " (\"Davis's Drug Guide\", 1),\n",
       " ('Drawing for Kids Learning Games for Toddlers age 3', 1),\n",
       " ('GPS Map Free', 1),\n",
       " ('Google Slides', 1),\n",
       " ('Google Trips - Travel Planner', 1)]"
      ]
     },
     "execution_count": 56,
     "metadata": {},
     "output_type": "execute_result"
    }
   ],
   "source": [
    "# almenos una reseña positiva\n",
    "rdd_app_positive_counts.filter(lambda x: x[1] <2).collect()"
   ]
  },
  {
   "cell_type": "code",
   "execution_count": 57,
   "metadata": {},
   "outputs": [
    {
     "data": {
      "text/plain": [
       "[('Photo Editor & Candy Camera & Grid & ScrapBook', 'ART_AND_DESIGN'),\n",
       " ('Coloring book moana', 'ART_AND_DESIGN'),\n",
       " ('U Launcher Lite – FREE Live Cool Themes, Hide Apps', 'ART_AND_DESIGN'),\n",
       " ('Sketch - Draw & Paint', 'ART_AND_DESIGN'),\n",
       " ('Pixel Draw - Number Art Coloring Book', 'ART_AND_DESIGN')]"
      ]
     },
     "execution_count": 57,
     "metadata": {},
     "output_type": "execute_result"
    }
   ],
   "source": [
    "# Realizar un join entre los RDDs de aplicaciones y conteo de revisiones positivas\n",
    "rdd_app_category_join = rdd_apps.map(lambda x: (x[\"App\"], x[\"Category\"])).distinct()\n",
    "rdd_app_category_join.take(5)"
   ]
  },
  {
   "cell_type": "code",
   "execution_count": 92,
   "metadata": {},
   "outputs": [
    {
     "data": {
      "text/plain": [
       "[('Coloring book moana', 'ART_AND_DESIGN'), ('Coloring book moana', 'FAMILY')]"
      ]
     },
     "execution_count": 92,
     "metadata": {},
     "output_type": "execute_result"
    }
   ],
   "source": [
    "# Una misma app puede tener varias categorias, por lo que se hace un distinct\n",
    "rdd_app_category_join.filter(lambda x: x[0] == 'Coloring book moana').collect()"
   ]
  },
  {
   "cell_type": "code",
   "execution_count": 58,
   "metadata": {},
   "outputs": [
    {
     "data": {
      "text/plain": [
       "[('FlipaClip - Cartoon animation', ('ART_AND_DESIGN', 4)),\n",
       " (\"Boys Photo Editor - Six Pack & Men's Suit\", ('ART_AND_DESIGN', 23)),\n",
       " ('Colorfit - Drawing & Coloring', ('ART_AND_DESIGN', 29)),\n",
       " ('Easy Origami Ideas', ('ART_AND_DESIGN', 17)),\n",
       " ('Canva: Poster, banner, card maker & graphic design',\n",
       "  ('ART_AND_DESIGN', 30))]"
      ]
     },
     "execution_count": 58,
     "metadata": {},
     "output_type": "execute_result"
    }
   ],
   "source": [
    "rdd_result = rdd_app_category_join.join(rdd_app_positive_counts)\n",
    "rdd_result.take(5)"
   ]
  },
  {
   "cell_type": "code",
   "execution_count": 59,
   "metadata": {},
   "outputs": [
    {
     "data": {
      "text/plain": [
       "[('Coloring book moana', ('ART_AND_DESIGN', 26)),\n",
       " ('Coloring book moana', ('FAMILY', 26))]"
      ]
     },
     "execution_count": 59,
     "metadata": {},
     "output_type": "execute_result"
    }
   ],
   "source": [
    "rdd_result.filter(lambda x: x[0] == 'Coloring book moana').collect()"
   ]
  },
  {
   "cell_type": "code",
   "execution_count": 64,
   "metadata": {},
   "outputs": [
    {
     "data": {
      "text/plain": [
       "80"
      ]
     },
     "execution_count": 64,
     "metadata": {},
     "output_type": "execute_result"
    }
   ],
   "source": [
    "# filtamos por categoria y contamos cuantas son mayores a 1 (almenos una reseña positiva)\n",
    "rdd_result.filter(lambda x: x[1][0] == 'FAMILY' and x[1][1] > 1).count()\n",
    "\n"
   ]
  },
  {
   "cell_type": "code",
   "execution_count": 66,
   "metadata": {},
   "outputs": [
    {
     "data": {
      "text/plain": [
       "82"
      ]
     },
     "execution_count": 66,
     "metadata": {},
     "output_type": "execute_result"
    }
   ],
   "source": [
    "rdd_result.filter(lambda x: x[1][0] == 'FAMILY').count()"
   ]
  },
  {
   "cell_type": "code",
   "execution_count": 67,
   "metadata": {},
   "outputs": [
    {
     "data": {
      "text/plain": [
       "97.5609756097561"
      ]
     },
     "execution_count": 67,
     "metadata": {},
     "output_type": "execute_result"
    }
   ],
   "source": [
    "# calculamos el porcentaje\n",
    "rdd_result.filter(lambda x: x[1][0] == 'FAMILY' and x[1][1] > 1).count() / rdd_result.filter(lambda x: x[1][0] == 'FAMILY').count() * 100"
   ]
  },
  {
   "cell_type": "code",
   "execution_count": null,
   "metadata": {},
   "outputs": [],
   "source": []
  },
  {
   "cell_type": "code",
   "execution_count": 68,
   "metadata": {},
   "outputs": [
    {
     "name": "stderr",
     "output_type": "stream",
     "text": [
      "                                                                                \r"
     ]
    },
    {
     "name": "stdout",
     "output_type": "stream",
     "text": [
      "Categoría con el mayor porcentaje de aplicaciones positivas: GAME (4472.727272727273%)\n"
     ]
    }
   ],
   "source": [
    "\n",
    "\n",
    "\n",
    "\n",
    "\n",
    "\n",
    "\n",
    "# Calcular el porcentaje de aplicaciones positivas por categoría\n",
    "category_percentages = rdd_category_counts.map(lambda x: (x[0], (x[1][1] / x[1][0]) * 100))\n",
    "\n",
    "# Obtener la categoría con el mayor porcentaje\n",
    "category_with_highest_percentage = category_percentages.max(key=lambda x: x[1])\n",
    "\n",
    "# Imprimir el resultado\n",
    "print(f\"Categoría con el mayor porcentaje de aplicaciones positivas: {category_with_highest_percentage[0]} ({category_with_highest_percentage[1]}%)\")\n",
    "\n",
    "# Detener la sesión de Spark\n",
    "spark.stop()\n"
   ]
  },
  {
   "cell_type": "code",
   "execution_count": null,
   "metadata": {},
   "outputs": [],
   "source": [
    "# Filtrar las revisiones con sentimiento positivo\n",
    "rdd_positive_reviews = rdd_reviews.filter(lambda x: x[\"Sentiment\"] == \"Positive\")\n",
    "\n",
    "# Mapear el RDD de revisiones para tener (App, 1) como clave-valor\n",
    "rdd_positive_counts = rdd_positive_reviews.map(lambda x: (x[\"App\"], 1))\n",
    "\n",
    "# Reducir por clave (App) sumando los valores para contar las revisiones positivas por aplicación\n",
    "rdd_app_positive_counts = rdd_positive_counts.reduceByKey(lambda a, b: a + b)\n",
    "\n",
    "# Filtrar el RDD de aplicaciones para obtener solo las categorías\n",
    "rdd_app_categories = rdd_apps.map(lambda x: (x[\"App\"], x[\"Category\"]))\n",
    "\n",
    "# Realizar una unión (join) entre los RDDs de conteo positivo y categorías\n",
    "rdd_app_category_counts = rdd_app_positive_counts.join(rdd_app_categories)\n",
    "\n",
    "rdd_app_category_counts.map(lambda x: (x[1][1], x[1][0])).collect()"
   ]
  },
  {
   "cell_type": "code",
   "execution_count": 63,
   "metadata": {},
   "outputs": [
    {
     "data": {
      "text/plain": [
       "[('Photo Editor & Candy Camera & Grid & ScrapBook', 'ART_AND_DESIGN'),\n",
       " ('Coloring book moana', 'ART_AND_DESIGN'),\n",
       " ('U Launcher Lite – FREE Live Cool Themes, Hide Apps', 'ART_AND_DESIGN'),\n",
       " ('Sketch - Draw & Paint', 'ART_AND_DESIGN'),\n",
       " ('Pixel Draw - Number Art Coloring Book', 'ART_AND_DESIGN'),\n",
       " ('Paper flowers instructions', 'ART_AND_DESIGN'),\n",
       " ('Smoke Effect Photo Maker - Smoke Editor', 'ART_AND_DESIGN'),\n",
       " ('Infinite Painter', 'ART_AND_DESIGN'),\n",
       " ('Garden Coloring Book', 'ART_AND_DESIGN'),\n",
       " ('Kids Paint Free - Drawing Fun', 'ART_AND_DESIGN'),\n",
       " ('Text on Photo - Fonteee', 'ART_AND_DESIGN'),\n",
       " ('Name Art Photo Editor - Focus n Filters', 'ART_AND_DESIGN'),\n",
       " ('Tattoo Name On My Photo Editor', 'ART_AND_DESIGN'),\n",
       " ('Mandala Coloring Book', 'ART_AND_DESIGN'),\n",
       " ('3D Color Pixel by Number - Sandbox Art Coloring', 'ART_AND_DESIGN'),\n",
       " ('Learn To Draw Kawaii Characters', 'ART_AND_DESIGN'),\n",
       " ('Photo Designer - Write your name with shapes', 'ART_AND_DESIGN'),\n",
       " ('350 Diy Room Decor Ideas', 'ART_AND_DESIGN'),\n",
       " ('FlipaClip - Cartoon animation', 'ART_AND_DESIGN'),\n",
       " ('ibis Paint X', 'ART_AND_DESIGN'),\n",
       " ('Logo Maker - Small Business', 'ART_AND_DESIGN'),\n",
       " (\"Boys Photo Editor - Six Pack & Men's Suit\", 'ART_AND_DESIGN'),\n",
       " ('Superheroes Wallpapers | 4K Backgrounds', 'ART_AND_DESIGN'),\n",
       " ('Mcqueen Coloring pages', 'ART_AND_DESIGN'),\n",
       " ('HD Mickey Minnie Wallpapers', 'ART_AND_DESIGN'),\n",
       " ('Harley Quinn wallpapers HD', 'ART_AND_DESIGN'),\n",
       " ('Colorfit - Drawing & Coloring', 'ART_AND_DESIGN'),\n",
       " ('Animated Photo Editor', 'ART_AND_DESIGN'),\n",
       " ('Pencil Sketch Drawing', 'ART_AND_DESIGN'),\n",
       " ('Easy Realistic Drawing Tutorial', 'ART_AND_DESIGN'),\n",
       " ('Pink Silver Bow Keyboard Theme', 'ART_AND_DESIGN'),\n",
       " ('Art Drawing Ideas', 'ART_AND_DESIGN'),\n",
       " ('Anime Manga Coloring Book', 'ART_AND_DESIGN'),\n",
       " ('Easy Origami Ideas', 'ART_AND_DESIGN'),\n",
       " ('I Creative Idea', 'ART_AND_DESIGN'),\n",
       " ('How to draw Ladybug and Cat Noir', 'ART_AND_DESIGN'),\n",
       " ('UNICORN - Color By Number & Pixel Art Coloring', 'ART_AND_DESIGN'),\n",
       " ('Floor Plan Creator', 'ART_AND_DESIGN'),\n",
       " ('PIP Camera - PIP Collage Maker', 'ART_AND_DESIGN'),\n",
       " ('How To Color Disney Princess - Coloring Pages', 'ART_AND_DESIGN'),\n",
       " ('Drawing Clothes Fashion Ideas', 'ART_AND_DESIGN'),\n",
       " ('Sad Poetry Photo Frames 2018', 'ART_AND_DESIGN'),\n",
       " ('Textgram - write on photos', 'ART_AND_DESIGN'),\n",
       " ('Paint Splash!', 'ART_AND_DESIGN'),\n",
       " ('Popsicle Sticks and Similar DIY Craft Ideas', 'ART_AND_DESIGN'),\n",
       " ('Canva: Poster, banner, card maker & graphic design', 'ART_AND_DESIGN'),\n",
       " ('Install images with music to make video without Net - 2018',\n",
       "  'ART_AND_DESIGN'),\n",
       " ('Little Teddy Bear Colouring Book Game', 'ART_AND_DESIGN'),\n",
       " ('How To Draw Food', 'ART_AND_DESIGN'),\n",
       " ('Monster Truck Stunt 3D 2019', 'AUTO_AND_VEHICLES'),\n",
       " ('Real Tractor Farming', 'AUTO_AND_VEHICLES'),\n",
       " ('Ultimate F1 Racing Championship', 'AUTO_AND_VEHICLES'),\n",
       " ('Used Cars and Trucks for Sale', 'AUTO_AND_VEHICLES'),\n",
       " ('American Muscle Car Race', 'AUTO_AND_VEHICLES'),\n",
       " ('Offroad Oil Tanker Driver Transport Truck 2019', 'AUTO_AND_VEHICLES'),\n",
       " ('Tickets SDA 2018 and Exam from the State Traffic Safety Inspectorate with Drom.ru',\n",
       "  'AUTO_AND_VEHICLES'),\n",
       " ('Gas Prices (Germany only)', 'AUTO_AND_VEHICLES'),\n",
       " ('Extreme Rally Championship', 'AUTO_AND_VEHICLES'),\n",
       " ('Restart Navigator', 'AUTO_AND_VEHICLES'),\n",
       " ('REG - Check the regnumber, find information about Swedish vehicles',\n",
       "  'AUTO_AND_VEHICLES'),\n",
       " ('CityBus Lviv', 'AUTO_AND_VEHICLES'),\n",
       " ('CDL Practice Test 2018 Edition', 'AUTO_AND_VEHICLES'),\n",
       " ('ezETC (ETC balance inquiry, meter trial, real-time traffic)',\n",
       "  'AUTO_AND_VEHICLES'),\n",
       " ('Free VIN Report for Used Cars', 'AUTO_AND_VEHICLES'),\n",
       " ('DMV Permit Practice Test 2018 Edition', 'AUTO_AND_VEHICLES'),\n",
       " ('Check Vehicle Tax', 'AUTO_AND_VEHICLES'),\n",
       " ('Used Cars Mexico', 'AUTO_AND_VEHICLES'),\n",
       " ('Ulysse Speedometer', 'AUTO_AND_VEHICLES'),\n",
       " ('REPUVE', 'AUTO_AND_VEHICLES'),\n",
       " ('Used cars for sale - Trovit', 'AUTO_AND_VEHICLES'),\n",
       " ('Fines of the State Traffic Safety Inspectorate are official: inspection, payment of fines',\n",
       "  'AUTO_AND_VEHICLES'),\n",
       " ('SK Enca Direct Malls - Used Cars Search', 'AUTO_AND_VEHICLES'),\n",
       " ('Android Auto - Maps, Media, Messaging & Voice', 'AUTO_AND_VEHICLES'),\n",
       " ('PDD-UA', 'AUTO_AND_VEHICLES'),\n",
       " ('Tickets SDA 2019 + Exam RF', 'AUTO_AND_VEHICLES'),\n",
       " ('Super Cars Wallpapers And Backgrounds', 'AUTO_AND_VEHICLES'),\n",
       " ('Police Lights, Sirens & Follow Me', 'AUTO_AND_VEHICLES'),\n",
       " ('Police Detector (Speed Camera Radar)', 'AUTO_AND_VEHICLES'),\n",
       " ('Best Car Wallpapers', 'AUTO_AND_VEHICLES'),\n",
       " ('Tickets + PDA 2018 Exam', 'AUTO_AND_VEHICLES'),\n",
       " ('Pick Your Part Garage', 'AUTO_AND_VEHICLES'),\n",
       " ('PakWheels: Buy & Sell Cars', 'AUTO_AND_VEHICLES'),\n",
       " ('Supervision service', 'AUTO_AND_VEHICLES'),\n",
       " ('Speed Camera Detector - Traffic & Speed Alert', 'AUTO_AND_VEHICLES'),\n",
       " ('Used car search Goo net whole car Go to net', 'AUTO_AND_VEHICLES'),\n",
       " ('CarMax – Cars for Sale: Search Used Car Inventory', 'AUTO_AND_VEHICLES'),\n",
       " ('BEST CAR SOUNDS', 'AUTO_AND_VEHICLES'),\n",
       " ('RST - Sale of cars on the PCT', 'AUTO_AND_VEHICLES'),\n",
       " ('AutoScout24 Switzerland – Find your new car', 'AUTO_AND_VEHICLES'),\n",
       " ('Zona Azul Digital Fácil SP CET - OFFICIAL São Paulo', 'AUTO_AND_VEHICLES'),\n",
       " ('SMS Park', 'AUTO_AND_VEHICLES'),\n",
       " ('SKencar', 'AUTO_AND_VEHICLES'),\n",
       " ('Fuelio: Gas log & costs', 'AUTO_AND_VEHICLES'),\n",
       " ('auto fines', 'AUTO_AND_VEHICLES'),\n",
       " ('Used car is the first car - used car purchase, used car quotation, dealer information to',\n",
       "  'AUTO_AND_VEHICLES'),\n",
       " ('All of the parking lot - National Park application (parking lot search / parking sharing / discount payment)',\n",
       "  'AUTO_AND_VEHICLES'),\n",
       " ('Inquiry Fines and Debits of Vehicles', 'AUTO_AND_VEHICLES'),\n",
       " ('Gas Station', 'AUTO_AND_VEHICLES'),\n",
       " ('Hush - Beauty for Everyone', 'BEAUTY'),\n",
       " ('ipsy: Makeup, Beauty, and Tips', 'BEAUTY'),\n",
       " ('Natural recipes for your beauty', 'BEAUTY'),\n",
       " ('BestCam Selfie-selfie, beauty camera, photo editor', 'BEAUTY'),\n",
       " ('Mirror - Zoom & Exposure -', 'BEAUTY'),\n",
       " ('Beauty Selfie Camera', 'BEAUTY'),\n",
       " ('Hairstyles step by step', 'BEAUTY'),\n",
       " ('Filters for Selfie', 'BEAUTY'),\n",
       " ('Tie - Always be happy', 'BEAUTY'),\n",
       " ('Ulta Beauty', 'BEAUTY'),\n",
       " ('Prom MakeUp Tutorial', 'BEAUTY'),\n",
       " ('Selfie Camera', 'BEAUTY'),\n",
       " ('Sweet Selfie Beauty Camera', 'BEAUTY'),\n",
       " ('Colors of white in Urdu', 'BEAUTY'),\n",
       " ('Selfie Camera Photo Editor & Filter & Sticker', 'BEAUTY'),\n",
       " ('Wrinkles and rejuvenation', 'BEAUTY'),\n",
       " ('Eyes Makeup Beauty Tips', 'BEAUTY'),\n",
       " ('Photo Editor 2018', 'BEAUTY'),\n",
       " ('Step By Step Eyes Makeup Tutorial', 'BEAUTY'),\n",
       " ('Beauty Camera - Selfie Camera', 'BEAUTY'),\n",
       " ('Girls Hairstyles', 'BEAUTY'),\n",
       " ('Mirror Camera (Mirror + Selfie Camera)', 'BEAUTY'),\n",
       " ('Beauty Tips - Beauty Tips in Sinhala', 'BEAUTY'),\n",
       " ('Haircut Tutorials/Haircut Videos', 'BEAUTY'),\n",
       " ('Sephora: Skin Care, Beauty Makeup & Fragrance Shop', 'BEAUTY'),\n",
       " ('Manicure - nail design', 'BEAUTY'),\n",
       " ('Sticker Camera - Selfie Filters, Beauty Camera', 'BEAUTY'),\n",
       " ('Filters for B Live', 'BEAUTY'),\n",
       " ('Skin Care and Natural Beauty', 'BEAUTY'),\n",
       " ('Facial Wrinkle Reduction', 'BEAUTY'),\n",
       " ('Makeup Videos', 'BEAUTY'),\n",
       " ('Secrets of beauty, youth and health', 'BEAUTY'),\n",
       " ('Recipes and tips for losing weight', 'BEAUTY'),\n",
       " ('Discover Color', 'BEAUTY'),\n",
       " ('Eyeliner step by step 2018', 'BEAUTY'),\n",
       " ('Dresses Ideas & Fashions +3000', 'BEAUTY'),\n",
       " ('Lady adviser (beauty, health)', 'BEAUTY'),\n",
       " ('Step By Step Hairstyles For Women', 'BEAUTY'),\n",
       " ('Rainbow Camera', 'BEAUTY'),\n",
       " ('Methods of teeth whitening', 'BEAUTY'),\n",
       " ('Girls hairstyles 2018', 'BEAUTY'),\n",
       " ('Wattpad 📖 Free Books', 'BOOKS_AND_REFERENCE'),\n",
       " ('E-Book Read - Read Book for free', 'BOOKS_AND_REFERENCE'),\n",
       " ('Download free book with green book', 'BOOKS_AND_REFERENCE'),\n",
       " ('Wikipedia', 'BOOKS_AND_REFERENCE'),\n",
       " ('Amazon Kindle', 'BOOKS_AND_REFERENCE'),\n",
       " ('Cool Reader', 'BOOKS_AND_REFERENCE'),\n",
       " ('Dictionary - Merriam-Webster', 'BOOKS_AND_REFERENCE'),\n",
       " ('NOOK: Read eBooks & Magazines', 'BOOKS_AND_REFERENCE'),\n",
       " ('Free Panda Radio Music', 'BOOKS_AND_REFERENCE'),\n",
       " ('Book store', 'BOOKS_AND_REFERENCE'),\n",
       " ('FBReader: Favorite Book Reader', 'BOOKS_AND_REFERENCE'),\n",
       " ('English Grammar Complete Handbook', 'BOOKS_AND_REFERENCE'),\n",
       " ('Free Books - Spirit Fanfiction and Stories', 'BOOKS_AND_REFERENCE'),\n",
       " ('Google Play Books', 'BOOKS_AND_REFERENCE'),\n",
       " ('AlReader -any text book reader', 'BOOKS_AND_REFERENCE'),\n",
       " ('Offline English Dictionary', 'BOOKS_AND_REFERENCE'),\n",
       " ('Oxford Dictionary of English : Free', 'BOOKS_AND_REFERENCE'),\n",
       " ('Offline: English to Tagalog Dictionary', 'BOOKS_AND_REFERENCE'),\n",
       " ('Spanish English Translator', 'BOOKS_AND_REFERENCE'),\n",
       " ('FamilySearch Tree', 'BOOKS_AND_REFERENCE'),\n",
       " ('Cloud of Books', 'BOOKS_AND_REFERENCE'),\n",
       " ('Recipes of Prophetic Medicine for free', 'BOOKS_AND_REFERENCE'),\n",
       " ('ReadEra – free ebook reader', 'BOOKS_AND_REFERENCE'),\n",
       " ('NOOK App for NOOK Devices', 'BOOKS_AND_REFERENCE'),\n",
       " ('Anonymous caller detection', 'BOOKS_AND_REFERENCE'),\n",
       " ('Ebook Reader', 'BOOKS_AND_REFERENCE'),\n",
       " ('Litnet - E-books', 'BOOKS_AND_REFERENCE'),\n",
       " ('Read books online', 'BOOKS_AND_REFERENCE'),\n",
       " ('English to Urdu Dictionary', 'BOOKS_AND_REFERENCE'),\n",
       " ('eBoox: book reader fb2 epub zip', 'BOOKS_AND_REFERENCE'),\n",
       " ('English Persian Dictionary', 'BOOKS_AND_REFERENCE'),\n",
       " ('Flybook', 'BOOKS_AND_REFERENCE'),\n",
       " ('All Maths Formulas', 'BOOKS_AND_REFERENCE'),\n",
       " ('Ancestry', 'BOOKS_AND_REFERENCE'),\n",
       " ('HTC Help', 'BOOKS_AND_REFERENCE'),\n",
       " ('English translation from Bengali', 'BOOKS_AND_REFERENCE'),\n",
       " ('Pdf Book Download - Read Pdf Book', 'BOOKS_AND_REFERENCE'),\n",
       " ('Free Book Reader', 'BOOKS_AND_REFERENCE'),\n",
       " ('eBoox new: Reader for fb2 epub zip books', 'BOOKS_AND_REFERENCE'),\n",
       " ('Only 30 days in English, the guideline is guaranteed',\n",
       "  'BOOKS_AND_REFERENCE'),\n",
       " ('Moon+ Reader', 'BOOKS_AND_REFERENCE'),\n",
       " (\"SH-02J Owner's Manual (Android 8.0)\", 'BOOKS_AND_REFERENCE'),\n",
       " ('English-Myanmar Dictionary', 'BOOKS_AND_REFERENCE'),\n",
       " ('Golden Dictionary (EN-AR)', 'BOOKS_AND_REFERENCE'),\n",
       " ('All Language Translator Free', 'BOOKS_AND_REFERENCE'),\n",
       " ('Azpen eReader', 'BOOKS_AND_REFERENCE'),\n",
       " ('URBANO V 02 instruction manual', 'BOOKS_AND_REFERENCE'),\n",
       " ('English Dictionary - Offline', 'BOOKS_AND_REFERENCE'),\n",
       " ('Visual Voicemail by MetroPCS', 'BUSINESS'),\n",
       " ('Indeed Job Search', 'BUSINESS'),\n",
       " ('Uber Driver', 'BUSINESS'),\n",
       " ('ADP Mobile Solutions', 'BUSINESS'),\n",
       " ('Snag - Jobs Hiring Now', 'BUSINESS'),\n",
       " ('Docs To Go™ Free Office Suite', 'BUSINESS'),\n",
       " ('Google My Business', 'BUSINESS'),\n",
       " ('OfficeSuite : Free Office + PDF Editor', 'BUSINESS'),\n",
       " ('USPS MOBILE®', 'BUSINESS'),\n",
       " ('Job Search by ZipRecruiter', 'BUSINESS'),\n",
       " ('Curriculum vitae App CV Builder Free Resume Maker', 'BUSINESS'),\n",
       " ('Google Primer', 'BUSINESS'),\n",
       " ('Alba Heaven - Alvarez Job Portal Services', 'BUSINESS'),\n",
       " ('SuperLivePro', 'BUSINESS'),\n",
       " ('Facebook Pages Manager', 'BUSINESS'),\n",
       " ('OfficeSuite Pro + PDF (Trial)', 'BUSINESS'),\n",
       " ('My Space - Employment Center', 'BUSINESS'),\n",
       " ('Box', 'BUSINESS'),\n",
       " ('Polaris Office for LG', 'BUSINESS'),\n",
       " ('Call Blocker', 'BUSINESS'),\n",
       " ('Jobs in Alabama - Jobs in Alba', 'BUSINESS'),\n",
       " ('Square Point of Sale - POS', 'BUSINESS'),\n",
       " ('Plugin:AOT v5.0', 'BUSINESS'),\n",
       " ('Kariyer.net', 'BUSINESS'),\n",
       " ('SEEK Job Search', 'BUSINESS'),\n",
       " ('Become a Job - Find a job or advertise', 'BUSINESS'),\n",
       " ('ZOOM Cloud Meetings', 'BUSINESS'),\n",
       " ('Easy Installer - Apps On SD', 'BUSINESS'),\n",
       " ('Facebook Ads Manager', 'BUSINESS'),\n",
       " ('IndiaMART: Search Products, Buy, Sell & Trade', 'BUSINESS'),\n",
       " ('ViettelPost express delivery', 'BUSINESS'),\n",
       " ('MyASUS - Service Center', 'BUSINESS'),\n",
       " ('Job Korea - Career Jobs', 'BUSINESS'),\n",
       " ('104 Looking for a job - looking for a job, looking for a job, looking for a part-time job, health checkup, resume, treatment room',\n",
       "  'BUSINESS'),\n",
       " ('Myanmar 2D/3D', 'BUSINESS'),\n",
       " ('Quick PDF Scanner + OCR FREE', 'BUSINESS'),\n",
       " ('sABN', 'BUSINESS'),\n",
       " ('ATI Cargoes and Transportation', 'BUSINESS'),\n",
       " ('Secure Folder', 'BUSINESS'),\n",
       " ('UPS Mobile', 'BUSINESS'),\n",
       " ('Y! Mobile menu', 'BUSINESS'),\n",
       " ('SignEasy | Sign and Fill PDF and other Documents', 'BUSINESS'),\n",
       " ('Quick PDF Scanner + OCR FREE', 'BUSINESS'),\n",
       " ('Genius Scan - PDF Scanner', 'BUSINESS'),\n",
       " ('Tiny Scanner - PDF Scanner App', 'BUSINESS'),\n",
       " ('Fast Scanner : Free PDF Scan', 'BUSINESS'),\n",
       " ('Mobile Doc Scanner (MDScan) Lite', 'BUSINESS'),\n",
       " ('TurboScan: scan documents and receipts in PDF', 'BUSINESS'),\n",
       " ('Tiny Scanner Pro: PDF Doc Scan', 'BUSINESS'),\n",
       " ('Box', 'BUSINESS'),\n",
       " ('Zenefits', 'BUSINESS'),\n",
       " ('Google Ads', 'BUSINESS'),\n",
       " ('Google My Business', 'BUSINESS'),\n",
       " ('Slack', 'BUSINESS'),\n",
       " ('FreshBooks Classic', 'BUSINESS'),\n",
       " ('Insightly CRM', 'BUSINESS'),\n",
       " ('QuickBooks Accounting: Invoicing & Expenses', 'BUSINESS'),\n",
       " ('HipChat - Chat Built for Teams', 'BUSINESS'),\n",
       " ('Xero Accounting Software', 'BUSINESS'),\n",
       " ('MailChimp - Email, Marketing Automation', 'BUSINESS'),\n",
       " ('Crew - Free Messaging and Scheduling', 'BUSINESS'),\n",
       " ('Asana: organize team projects', 'BUSINESS'),\n",
       " ('Google Analytics', 'BUSINESS'),\n",
       " ('AdWords Express', 'BUSINESS'),\n",
       " ('Accounting App - Zoho Books', 'BUSINESS'),\n",
       " ('Invoice & Time Tracking - Zoho', 'BUSINESS'),\n",
       " ('join.me - Simple Meetings', 'BUSINESS'),\n",
       " ('Invoice 2go — Professional Invoices and Estimates', 'BUSINESS'),\n",
       " ('Cisco Webex Meetings', 'BUSINESS'),\n",
       " ('ZOOM Cloud Meetings', 'BUSINESS'),\n",
       " ('ScreenMeet. Easy Phone Meeting', 'BUSINESS'),\n",
       " ('Cisco Webex Teams', 'BUSINESS'),\n",
       " ('Microsoft Remote Desktop', 'BUSINESS'),\n",
       " ('Start Meeting', 'BUSINESS'),\n",
       " ('join.me - Simple Meetings', 'BUSINESS'),\n",
       " ('ClickMeeting Webinars', 'BUSINESS'),\n",
       " ('BlueJeans for Android', 'BUSINESS'),\n",
       " ('Skype for Business for Android', 'BUSINESS'),\n",
       " ('Box', 'BUSINESS'),\n",
       " ('Zenefits', 'BUSINESS'),\n",
       " ('Google Ads', 'BUSINESS'),\n",
       " ('Google My Business', 'BUSINESS'),\n",
       " ('Slack', 'BUSINESS'),\n",
       " ('FreshBooks Classic', 'BUSINESS'),\n",
       " ('Insightly CRM', 'BUSINESS'),\n",
       " ('QuickBooks Accounting: Invoicing & Expenses', 'BUSINESS'),\n",
       " ('HipChat - Chat Built for Teams', 'BUSINESS'),\n",
       " ('Xero Accounting Software', 'BUSINESS'),\n",
       " ('MailChimp - Email, Marketing Automation', 'BUSINESS'),\n",
       " ('Crew - Free Messaging and Scheduling', 'BUSINESS'),\n",
       " ('Asana: organize team projects', 'BUSINESS'),\n",
       " ('Google Analytics', 'BUSINESS'),\n",
       " ('AdWords Express', 'BUSINESS'),\n",
       " ('Accounting App - Zoho Books', 'BUSINESS'),\n",
       " ('Invoice & Time Tracking - Zoho', 'BUSINESS'),\n",
       " ('join.me - Simple Meetings', 'BUSINESS'),\n",
       " ('Invoice 2go — Professional Invoices and Estimates', 'BUSINESS'),\n",
       " ('SignEasy | Sign and Fill PDF and other Documents', 'BUSINESS'),\n",
       " ('Quick PDF Scanner + OCR FREE', 'BUSINESS'),\n",
       " ('Genius Scan - PDF Scanner', 'BUSINESS'),\n",
       " ('Tiny Scanner - PDF Scanner App', 'BUSINESS'),\n",
       " ('Fast Scanner : Free PDF Scan', 'BUSINESS'),\n",
       " ('Mobile Doc Scanner (MDScan) Lite', 'BUSINESS'),\n",
       " ('TurboScan: scan documents and receipts in PDF', 'BUSINESS'),\n",
       " ('Tiny Scanner Pro: PDF Doc Scan', 'BUSINESS'),\n",
       " ('Docs To Go™ Free Office Suite', 'BUSINESS'),\n",
       " ('OfficeSuite : Free Office + PDF Editor', 'BUSINESS'),\n",
       " ('Slack', 'BUSINESS'),\n",
       " ('Verify - Receipts & Expenses', 'BUSINESS'),\n",
       " ('QuickBooks Accounting: Invoicing & Expenses', 'BUSINESS'),\n",
       " ('LINE WEBTOON - Free Comics', 'COMICS'),\n",
       " ('Manga Master - Best manga & comic reader', 'COMICS'),\n",
       " ('GANMA! - All original stories free of charge for all original comics',\n",
       "  'COMICS'),\n",
       " ('Röhrich Werner Soundboard', 'COMICS'),\n",
       " ('Unicorn Pokez - Color By Number', 'COMICS'),\n",
       " ('MangaToon - Comics updated Daily', 'COMICS'),\n",
       " ('Manga Net – Best Online Manga Reader', 'COMICS'),\n",
       " ('Manga Rock - Best Manga Reader', 'COMICS'),\n",
       " ('Manga - read Thai translation', 'COMICS'),\n",
       " ('The Vietnam Story - Fun Stories', 'COMICS'),\n",
       " ('Dragon Ball Wallpaper - Ringtones', 'COMICS'),\n",
       " ('Funny Jokes Photos', 'COMICS'),\n",
       " ('Truyện Vui Tý Quậy', 'COMICS'),\n",
       " ('Comic Es - Shojo manga / love comics free of charge ♪ ♪', 'COMICS'),\n",
       " ('comico Popular Original Cartoon Updated Everyday Comico', 'COMICS'),\n",
       " ('Daily Manga - Comic & Webtoon', 'COMICS'),\n",
       " ('漫咖 Comics - Manga,Novel and Stories', 'COMICS'),\n",
       " ('Emmanuella Funny Videos 2018', 'COMICS'),\n",
       " ('DC Comics', 'COMICS'),\n",
       " ('Manga Zero - Japanese cartoon and comic reader', 'COMICS'),\n",
       " ('Marvel Unlimited', 'COMICS'),\n",
       " ('Tapas – Comics, Novels, and Stories', 'COMICS'),\n",
       " (\"Children's cartoons (Mithu-Mina-Raju)\", 'COMICS'),\n",
       " (\"Narrator's Voice\", 'COMICS'),\n",
       " ('【Ranobbe complete free】 Novelba - Free app that you can read and write novels',\n",
       "  'COMICS'),\n",
       " ('Faustop Sounds', 'COMICS'),\n",
       " ('Manga Mania - Best online manga reader', 'COMICS'),\n",
       " ('- Free Comics - Comic Apps', 'COMICS'),\n",
       " ('Manga AZ - Manga Comic Reader', 'COMICS'),\n",
       " ('Buff Thun - Daily Free Webtoon / Comics / Web Fiction / Mini Game',\n",
       "  'COMICS'),\n",
       " (\"pixiv comic - everyone's manga app\", 'COMICS'),\n",
       " ('Funny Jokes and Stories 2018', 'COMICS'),\n",
       " ('Hojiboy Tojiboyev Life Hacks', 'COMICS'),\n",
       " ('Perfect Viewer', 'COMICS'),\n",
       " ('Best Wallpapers Backgrounds(100,000+ 4K HD)', 'COMICS'),\n",
       " ('think Comics', 'COMICS'),\n",
       " ('Memes Button', 'COMICS'),\n",
       " ('Laftel - Watching and Announcing Snooping, Streaming', 'COMICS'),\n",
       " ('Messenger – Text and Video Chat for Free', 'COMMUNICATION'),\n",
       " ('WhatsApp Messenger', 'COMMUNICATION'),\n",
       " ('Messenger for SMS', 'COMMUNICATION'),\n",
       " ('Google Chrome: Fast & Secure', 'COMMUNICATION'),\n",
       " ('Messenger Lite: Free Calls & Messages', 'COMMUNICATION'),\n",
       " ('Gmail', 'COMMUNICATION'),\n",
       " ('Hangouts', 'COMMUNICATION'),\n",
       " ('Viber Messenger', 'COMMUNICATION'),\n",
       " ('My Tele2', 'COMMUNICATION'),\n",
       " ('Firefox Browser fast & private', 'COMMUNICATION'),\n",
       " ('Yahoo Mail – Stay Organized', 'COMMUNICATION'),\n",
       " ('imo beta free calls and text', 'COMMUNICATION'),\n",
       " ('imo free video calls and chat', 'COMMUNICATION'),\n",
       " ('Contacts', 'COMMUNICATION'),\n",
       " ('Call Free – Free Call', 'COMMUNICATION'),\n",
       " ('Web Browser & Explorer', 'COMMUNICATION'),\n",
       " ('Opera Mini - fast web browser', 'COMMUNICATION'),\n",
       " ('Browser 4G', 'COMMUNICATION'),\n",
       " ('MegaFon Dashboard', 'COMMUNICATION'),\n",
       " ('ZenUI Dialer & Contacts', 'COMMUNICATION'),\n",
       " ('Cricket Visual Voicemail', 'COMMUNICATION'),\n",
       " ('Opera Browser: Fast and Secure', 'COMMUNICATION'),\n",
       " ('TracFone My Account', 'COMMUNICATION'),\n",
       " ('Firefox Focus: The privacy browser', 'COMMUNICATION'),\n",
       " ('Google Voice', 'COMMUNICATION'),\n",
       " ('Chrome Dev', 'COMMUNICATION'),\n",
       " ('Xperia Link™', 'COMMUNICATION'),\n",
       " ('TouchPal Keyboard - Fun Emoji & Android Keyboard', 'COMMUNICATION'),\n",
       " ('Who', 'COMMUNICATION'),\n",
       " ('Skype Lite - Free Video Call & Chat', 'COMMUNICATION'),\n",
       " ('WeChat', 'COMMUNICATION'),\n",
       " ('UC Browser Mini -Tiny Fast Private & Secure', 'COMMUNICATION'),\n",
       " ('WhatsApp Business', 'COMMUNICATION'),\n",
       " ('My magenta', 'COMMUNICATION'),\n",
       " ('Android Messages', 'COMMUNICATION'),\n",
       " ('Telegram', 'COMMUNICATION'),\n",
       " ('Google Duo - High Quality Video Calls', 'COMMUNICATION'),\n",
       " ('Puffin Web Browser', 'COMMUNICATION'),\n",
       " ('Seznam.cz', 'COMMUNICATION'),\n",
       " ('Antillean Gold Telegram (original version)', 'COMMUNICATION'),\n",
       " ('AT&T Visual Voicemail', 'COMMUNICATION'),\n",
       " ('GMX Mail', 'COMMUNICATION'),\n",
       " ('Omlet Chat', 'COMMUNICATION'),\n",
       " ('UC Browser - Fast Download Private & Secure', 'COMMUNICATION'),\n",
       " ('My Vodacom SA', 'COMMUNICATION'),\n",
       " ('Microsoft Edge', 'COMMUNICATION'),\n",
       " ('WhatsApp Messenger', 'COMMUNICATION'),\n",
       " ('Messenger – Text and Video Chat for Free', 'COMMUNICATION'),\n",
       " ('imo free video calls and chat', 'COMMUNICATION'),\n",
       " ('Hangouts Dialer - Call Phones', 'COMMUNICATION'),\n",
       " ('Viber Messenger', 'COMMUNICATION'),\n",
       " ('Hangouts', 'COMMUNICATION'),\n",
       " ('Talkatone: Free Texts, Calls & Phone Number', 'COMMUNICATION'),\n",
       " ('Calls & Text by Mo+', 'COMMUNICATION'),\n",
       " ('free video calls and chat', 'COMMUNICATION'),\n",
       " ('WeChat', 'COMMUNICATION'),\n",
       " ('Skype - free IM & video calls', 'COMMUNICATION'),\n",
       " ('Telegram', 'COMMUNICATION'),\n",
       " ('Who', 'COMMUNICATION'),\n",
       " ('Google Voice', 'COMMUNICATION'),\n",
       " ('GO SMS Pro - Messenger, Free Themes, Emoji', 'COMMUNICATION'),\n",
       " ('Android Messages', 'COMMUNICATION'),\n",
       " ('Messaging+ SMS, MMS Free', 'COMMUNICATION'),\n",
       " ('chomp SMS', 'COMMUNICATION'),\n",
       " ('Glide - Video Chat Messenger', 'COMMUNICATION'),\n",
       " ('Text SMS', 'COMMUNICATION'),\n",
       " ('Google Allo', 'COMMUNICATION'),\n",
       " ('Talkray - Free Calls & Texts', 'COMMUNICATION'),\n",
       " ('LINE: Free Calls & Messages', 'COMMUNICATION'),\n",
       " ('GroupMe', 'COMMUNICATION'),\n",
       " ('mysms SMS Text Messaging Sync', 'COMMUNICATION'),\n",
       " ('BBM - Free Calls & Messages', 'COMMUNICATION'),\n",
       " ('KakaoTalk: Free Calls & Text', 'COMMUNICATION'),\n",
       " ('Firefox Focus: The privacy browser', 'COMMUNICATION'),\n",
       " ('2ndLine - Second Phone Number', 'COMMUNICATION'),\n",
       " ('Google Allo', 'COMMUNICATION'),\n",
       " ('Google Chrome: Fast & Secure', 'COMMUNICATION'),\n",
       " ('Firefox Browser fast & private', 'COMMUNICATION'),\n",
       " ('CM Browser - Ad Blocker , Fast Download , Privacy', 'COMMUNICATION'),\n",
       " ('Puffin Web Browser', 'COMMUNICATION'),\n",
       " ('Opera Browser: Fast and Secure', 'COMMUNICATION'),\n",
       " ('Ninesky Browser', 'COMMUNICATION'),\n",
       " ('Opera Mini - fast web browser', 'COMMUNICATION'),\n",
       " ('Dolphin Browser - Fast, Private & Adblock🐬', 'COMMUNICATION'),\n",
       " ('UC Browser Mini -Tiny Fast Private & Secure', 'COMMUNICATION'),\n",
       " ('UC Browser - Fast Download Private & Secure', 'COMMUNICATION'),\n",
       " ('Ghostery Privacy Browser', 'COMMUNICATION'),\n",
       " ('InBrowser - Incognito Browsing', 'COMMUNICATION'),\n",
       " ('Web Browser for Android', 'COMMUNICATION'),\n",
       " ('DU Browser—Browse fast & fun', 'COMMUNICATION'),\n",
       " ('Lightning Web Browser', 'COMMUNICATION'),\n",
       " ('Web Browser', 'COMMUNICATION'),\n",
       " ('Puffin Browser Pro', 'COMMUNICATION'),\n",
       " ('Contacts+', 'COMMUNICATION'),\n",
       " ('ExDialer - Dialer & Contacts', 'COMMUNICATION'),\n",
       " ('Calls & Text by Mo+', 'COMMUNICATION'),\n",
       " ('Viber Messenger', 'COMMUNICATION'),\n",
       " ('PHONE for Google Voice & GTalk', 'COMMUNICATION'),\n",
       " ('Safest Call Blocker', 'COMMUNICATION'),\n",
       " ('Full Screen Caller ID', 'COMMUNICATION'),\n",
       " ('Hiya - Caller ID & Block', 'COMMUNICATION'),\n",
       " ('Call Blocker', 'COMMUNICATION'),\n",
       " ('Mr. Number-Block calls & spam', 'COMMUNICATION'),\n",
       " ('Should I Answer?', 'COMMUNICATION'),\n",
       " ('RocketDial Dialer & Contacts', 'COMMUNICATION'),\n",
       " ('CallApp: Caller ID, Blocker & Phone Call Recorder', 'COMMUNICATION'),\n",
       " ('Whoscall - Caller ID & Block', 'COMMUNICATION'),\n",
       " ('CIA - Caller ID & Call Blocker', 'COMMUNICATION'),\n",
       " ('Calls Blacklist - Call Blocker', 'COMMUNICATION'),\n",
       " ('Call Control - Call Blocker', 'COMMUNICATION'),\n",
       " ('True Contact - Real Caller ID', 'COMMUNICATION'),\n",
       " ('Video Caller Id', 'COMMUNICATION'),\n",
       " ('Sync.ME – Caller ID & Block', 'COMMUNICATION'),\n",
       " ('Burner - Free Phone Number', 'COMMUNICATION'),\n",
       " ('Truecaller: Caller ID, SMS spam blocking & Dialer', 'COMMUNICATION'),\n",
       " ('Caller ID +', 'COMMUNICATION'),\n",
       " ('Gmail', 'COMMUNICATION'),\n",
       " ('Yahoo Mail – Stay Organized', 'COMMUNICATION'),\n",
       " ('K-9 Mail', 'COMMUNICATION'),\n",
       " ('myMail – Email for Hotmail, Gmail and Outlook Mail', 'COMMUNICATION'),\n",
       " ('Email TypeApp - Mail App', 'COMMUNICATION'),\n",
       " ('All Email Providers', 'COMMUNICATION'),\n",
       " ('Newton Mail - Email App for Gmail, Outlook, IMAP', 'COMMUNICATION'),\n",
       " ('GO Notifier', 'COMMUNICATION'),\n",
       " ('Mail.Ru - Email App', 'COMMUNICATION'),\n",
       " ('Mail1Click - Secure Mail', 'COMMUNICATION'),\n",
       " ('Daum Mail - Next Mail', 'COMMUNICATION'),\n",
       " ('mail.com mail', 'COMMUNICATION'),\n",
       " ('SolMail - All-in-One email app', 'COMMUNICATION'),\n",
       " ('Hangouts', 'COMMUNICATION'),\n",
       " ('imo free video calls and chat', 'COMMUNICATION'),\n",
       " ('free video calls and chat', 'COMMUNICATION'),\n",
       " ('Viber Messenger', 'COMMUNICATION'),\n",
       " ('Skype - free IM & video calls', 'COMMUNICATION'),\n",
       " ('WeChat', 'COMMUNICATION'),\n",
       " ('Vonage Mobile® Call Video Text', 'COMMUNICATION'),\n",
       " ('JusTalk - Free Video Calls and Fun Video Chat', 'COMMUNICATION'),\n",
       " ('Glide - Video Chat Messenger', 'COMMUNICATION'),\n",
       " ('Talkray - Free Calls & Texts', 'COMMUNICATION'),\n",
       " ('LINE: Free Calls & Messages', 'COMMUNICATION'),\n",
       " ('KakaoTalk: Free Calls & Text', 'COMMUNICATION'),\n",
       " ('Moco+ - Chat, Meet People', 'DATING'),\n",
       " ('Calculator', 'DATING'),\n",
       " ('Truth or Dare Pro', 'DATING'),\n",
       " ('Private Dating, Hide App- Blue for PrivacyHider', 'DATING'),\n",
       " ('Ad Blocker for SayHi', 'DATING'),\n",
       " ('AMBW Dating App: Asian Men Black Women Interracial', 'DATING'),\n",
       " ('Zoosk Dating App: Meet Singles', 'DATING'),\n",
       " ('OkCupid Dating', 'DATING'),\n",
       " ('Match™ Dating - Meet Singles', 'DATING'),\n",
       " ('Hily: Dating, Chat, Match, Meet & Hook up', 'DATING'),\n",
       " ('Hinge: Dating & Relationships', 'DATING'),\n",
       " ('Casual Dating & Adult Singles - Joyride', 'DATING'),\n",
       " ('BBW Dating & Plus Size Chat', 'DATING'),\n",
       " ('Moco - Chat, Meet People', 'DATING'),\n",
       " ('CMB Free Dating App', 'DATING'),\n",
       " ('Hot or Not - Find someone right now', 'DATING'),\n",
       " ('eharmony - Online Dating App', 'DATING'),\n",
       " ('Free Dating App & Flirt Chat - Match with Singles', 'DATING'),\n",
       " ('Chispa, the Dating App for Latino, Latina Singles', 'DATING'),\n",
       " ('Clover Dating App', 'DATING'),\n",
       " ('Black People Meet Singles Date', 'DATING'),\n",
       " ('Mingle2 - Free Online Dating & Singles Chat Rooms', 'DATING'),\n",
       " ('Free Dating App & Flirt Chat - Cheers', 'DATING'),\n",
       " ('stranger chat - anonymous chat', 'DATING'),\n",
       " ('Blendr - Chat, Flirt & Meet', 'DATING'),\n",
       " ('Free Dating Hook Up Messenger', 'DATING'),\n",
       " ('Find Real Love — YouLove Premium Dating', 'DATING'),\n",
       " ('Once - Quality Matches Every day', 'DATING'),\n",
       " ('BLK - Swipe. Match. Chat.', 'DATING'),\n",
       " ('Cougar Dating Life : Date Older Women Sugar Mummy', 'DATING'),\n",
       " ('Howlr', 'DATING'),\n",
       " ('Stranger Chat & Date', 'DATING'),\n",
       " ('Free Dating & Flirt Chat - Choice of Love', 'DATING'),\n",
       " ('RandoChat - Chat roulette', 'DATING'),\n",
       " ('BeWild Free Dating & Chat App', 'DATING'),\n",
       " ('FastMeet: Chat, Dating, Love', 'DATING'),\n",
       " ('Free Dating App - YoCutie - Flirt, Chat & Meet', 'DATING'),\n",
       " ('OurTime Dating for Singles 50+', 'DATING'),\n",
       " ('FarmersOnly Dating', 'DATING'),\n",
       " ('Dating for 50 plus Mature Singles – FINALLY', 'DATING'),\n",
       " ('Sudy – Meet Elite & Rich Single', 'DATING'),\n",
       " ('Christian Dating For Free App', 'DATING'),\n",
       " ('Just She - Top Lesbian Dating', 'DATING'),\n",
       " ('Single Parent Meet #1 Dating', 'DATING'),\n",
       " ('EliteSingles – Dating for Single Professionals', 'DATING'),\n",
       " ('Millionaire Match: Rich Singles Dating App', 'DATING'),\n",
       " ('InterracialCupid - Interracial Dating App', 'DATING'),\n",
       " ('Sugar Mommas Dating And Single Search', 'DATING'),\n",
       " ('Hide App, Private Dating, Safe Chat - PrivacyHider', 'DATING'),\n",
       " ('muzmatch: Muslim & Arab Singles, Marriage & Dating', 'DATING'),\n",
       " ('NoBuffDating - Free Dating App', 'DATING'),\n",
       " ('Sugar Daddy Dating App', 'DATING'),\n",
       " ('Adult Dirty Emojis', 'DATING'),\n",
       " ('Free Dating App - Meet Local Singles - Flirt Chat', 'DATING'),\n",
       " ('Meet4U - Chat, Love, Singles!', 'DATING'),\n",
       " ('SnpCupid Dating', 'DATING'),\n",
       " ('Chat Rooms, Avatars, Date - Galaxy', 'DATING'),\n",
       " ('Adult Dating - AdultFinder', 'DATING'),\n",
       " ('Gay Sugar Daddy Dating & Hookup – Sudy Gay', 'DATING'),\n",
       " ('Meet24 - Love, Chat, Singles', 'DATING'),\n",
       " ('BBWCupid - BBW Dating App', 'DATING'),\n",
       " ('ChatVideo Meet new people', 'DATING'),\n",
       " ('TryDate - Free Online Dating App, Chat Meet Adults', 'DATING'),\n",
       " ('Black White Interracial Dating - Interracial Match', 'DATING'),\n",
       " ('USA Singles Meet, Match and Date Free - Date', 'DATING'),\n",
       " ('FlirtChat - ♥Free Dating/Flirting App♥', 'DATING'),\n",
       " ('OkCupid Dating', 'DATING'),\n",
       " ('CMB Free Dating App', 'DATING'),\n",
       " ('Hily: Dating, Chat, Match, Meet & Hook up', 'DATING'),\n",
       " ('Hinge: Dating & Relationships', 'DATING'),\n",
       " ('The League', 'DATING'),\n",
       " ('BBW Dating & Plus Size Chat', 'DATING'),\n",
       " ('Casual Dating & Adult Singles - Joyride', 'DATING'),\n",
       " ('EliteSingles – Dating for Single Professionals', 'DATING'),\n",
       " ('Clover Dating App', 'DATING'),\n",
       " ('Moco - Chat, Meet People', 'DATING'),\n",
       " ('Herpes Dating: 1,000K+ Singles', 'DATING'),\n",
       " ('Hot or Not - Find someone right now', 'DATING'),\n",
       " ('Just She - Top Lesbian Dating', 'DATING'),\n",
       " ('Heart mill', 'DATING'),\n",
       " ('Once - Quality Matches Every day', 'DATING'),\n",
       " ('Sudy – Meet Elite & Rich Single', 'DATING'),\n",
       " ('muzmatch: Muslim & Arab Singles, Marriage & Dating', 'DATING'),\n",
       " ('95Live -SG#1 Live Streaming App', 'DATING'),\n",
       " ('Chispa, the Dating App for Latino, Latina Singles', 'DATING'),\n",
       " ('Blendr - Chat, Flirt & Meet', 'DATING'),\n",
       " ('Find Real Love — YouLove Premium Dating', 'DATING'),\n",
       " ('Mutual - LDS Dating', 'DATING'),\n",
       " ('Cougar Dating Life : Date Older Women Sugar Mummy', 'DATING'),\n",
       " ('stranger chat - anonymous chat', 'DATING'),\n",
       " ('Millionaire Match: Rich Singles Dating App', 'DATING'),\n",
       " ('2RedBeans', 'DATING'),\n",
       " ('Dating for 50 plus Mature Singles – FINALLY', 'DATING'),\n",
       " ('SweetRing - Meet, Match, Date', 'DATING'),\n",
       " ('BiggerCity: Chat for gay bears, chubs & chasers', 'DATING'),\n",
       " ('Moco+ - Chat, Meet People', 'DATING'),\n",
       " ('SilverSingles: The 50+ Dating App', 'DATING'),\n",
       " ('Herpes Positive Singles Dating', 'DATING'),\n",
       " ('Chat Rooms, Avatars, Date - Galaxy', 'DATING'),\n",
       " ('FastMeet: Chat, Dating, Love', 'DATING'),\n",
       " ('Christian Dating For Free App', 'DATING'),\n",
       " ('Glam - Premium Dating App', 'DATING'),\n",
       " ('iDates - Chats, Flirts, Dating, Love & Relations', 'DATING'),\n",
       " ('Meet24 - Love, Chat, Singles', 'DATING'),\n",
       " ('Black White Interracial Dating - Interracial Match', 'DATING'),\n",
       " ('JustDating', 'DATING'),\n",
       " ('Interracial Match Dating App', 'DATING'),\n",
       " ('Russian Dating & Chat for Russian speaking RusDate', 'DATING'),\n",
       " ('Sky People (SPI): A secure blind date through authentication by Seoul National University',\n",
       "  'DATING'),\n",
       " ('Sweet mi - unlimited hunnam hunting blind date', 'DATING'),\n",
       " ('Gay Sugar Daddy Dating & Hookup – Sudy Gay', 'DATING'),\n",
       " ('Mingle - Online Dating App to Chat & Meet People', 'DATING'),\n",
       " ('Adult Dirty Emojis', 'DATING'),\n",
       " ('BBW Dating & Curvy Singles Chat- LargeFriends', 'DATING'),\n",
       " ('Hide App, Private Dating, Safe Chat - PrivacyHider', 'DATING'),\n",
       " ('Hitwe - meet people and chat', 'DATING'),\n",
       " ('A hundred', 'DATING'),\n",
       " ('JustSayHi- Dating App. Chat & Meet Singles Nearby', 'DATING'),\n",
       " ('FERZU - Furries Social Network', 'DATING'),\n",
       " ('WannaMeet – Dating & Chat App', 'DATING'),\n",
       " ('Meet4U - Chat, Love, Singles!', 'DATING'),\n",
       " ('Luxy Pro- Elite Dating Single', 'DATING'),\n",
       " ('Dating Network', 'DATING'),\n",
       " ('Chatting - Free chat, random chat, boyfriend, girlfriend', 'DATING'),\n",
       " ('iPair-Meet, Chat, Dating', 'DATING'),\n",
       " ('Meet, chat & date. Free dating app - Chocolate app', 'DATING'),\n",
       " ('Transenger – Ts Dating and Chat for Free', 'DATING'),\n",
       " ('O-Star', 'DATING'),\n",
       " ('Free Cam Girls - Live Webcam', 'DATING'),\n",
       " ('Cardi B Live Stream Video Chat - Prank', 'DATING'),\n",
       " ('Live Girls Talk - Free Video Chat', 'DATING'),\n",
       " ('Live Talk - Free Text and Video Chat', 'DATING'),\n",
       " ('Chat Kids - Chat Room For Kids', 'DATING'),\n",
       " ('Girls Live Chat - Free Text & Video Chat', 'DATING'),\n",
       " ('Random Video Chat', 'DATING'),\n",
       " ('MouseMingle', 'DATING'),\n",
       " ('American Girls Mobile Numbers', 'DATING'),\n",
       " ('Random Video Chat App With Strangers', 'DATING'),\n",
       " ('FREE VIDEO CHAT - LIVE VIDEO AND TEXT CHAT', 'DATING'),\n",
       " ('Awake Dating', 'DATING'),\n",
       " ('Live Chat - Free Video Chat Rooms', 'DATING'),\n",
       " ('Meet With Strangers: Video Chat & Dating', 'DATING'),\n",
       " ('FREE LIVE TALK', 'DATING'),\n",
       " ('Random Chat App with Strangers', 'DATING'),\n",
       " ('Ost. Zombies Cast - New Music and Lyrics', 'DATING'),\n",
       " ('Dating White Girls', 'DATING'),\n",
       " ('Live Chat - Free Video Talk', 'DATING'),\n",
       " ('Geeks Dating', 'DATING'),\n",
       " ('Live chat - free video chat', 'DATING'),\n",
       " ('House party - live chat', 'DATING'),\n",
       " ('Fishing Brain & Boating Maps Marine', 'DATING'),\n",
       " ('CAM5678 Video Chat', 'DATING'),\n",
       " ('Video chat live advices', 'DATING'),\n",
       " ('chat live chat', 'DATING'),\n",
       " ('Pet Lovers Dating', 'DATING'),\n",
       " ('Friend Find: free chat + flirt dating app', 'DATING'),\n",
       " ('Latin Dating', 'DATING'),\n",
       " ('Spine- The dating app', 'DATING'),\n",
       " ('Online Chat Girls Meet', 'DATING'),\n",
       " ('Wifi Mingle', 'DATING'),\n",
       " ('Girls Live Talk - Free Text and Video Chat', 'DATING'),\n",
       " ('Soy Luna - Top Music And Lyrics', 'DATING'),\n",
       " ('When Will You Get Married', 'DATING'),\n",
       " ('HOW TO ASK A GIRL OUT', 'DATING'),\n",
       " ('Online Girls Chat Group', 'DATING'),\n",
       " ('The DJ - Match with People', 'DATING'),\n",
       " ('Toronto Dating', 'DATING'),\n",
       " ('i miss you quotes and photos', 'DATING'),\n",
       " ('JoJo Siwa Top Hits Music', 'DATING'),\n",
       " ('UK Girls Mobile Numbers', 'DATING'),\n",
       " ('chat saudi arabia', 'DATING'),\n",
       " ('Chat Click - Dating Search', 'DATING'),\n",
       " ('Iraq love chat', 'DATING'),\n",
       " ('Healthy Relationships Guide', 'DATING'),\n",
       " ('following', 'DATING'),\n",
       " ('Gods by Night', 'DATING'),\n",
       " ('PlusOne', 'DATING'),\n",
       " ('Love Calendar - Couple Sharing Calendar & CoupleDay', 'DATING'),\n",
       " ('Speeding Joyride & Car Meet App', 'DATING'),\n",
       " ('LOBSTR - go on a lunch date', 'DATING'),\n",
       " ('Titanic App - Feminist Dating Application', 'DATING'),\n",
       " ('French Chat Room', 'DATING'),\n",
       " ('Soul Mate', 'DATING'),\n",
       " ('Diamond Engagement Rings', 'DATING'),\n",
       " ('Dating Tips For Men', 'DATING'),\n",
       " ('Halalguur', 'DATING'),\n",
       " ('95Live -SG#1 Live Streaming App', 'DATING'),\n",
       " ('Just She - Top Lesbian Dating', 'DATING'),\n",
       " ('Hily: Dating, Chat, Match, Meet & Hook up', 'DATING'),\n",
       " ('O-Star', 'DATING'),\n",
       " ('Random Video Chat', 'DATING'),\n",
       " ('Black People Meet Singles Date', 'DATING'),\n",
       " ('Howlr', 'DATING'),\n",
       " ('Find Lover', 'DATING'),\n",
       " ('Free Dating & Flirt Chat - Choice of Love', 'DATING'),\n",
       " ('Cardi B Live Stream Video Chat - Prank', 'DATING'),\n",
       " ('Chat Kids - Chat Room For Kids', 'DATING'),\n",
       " ('muzmatch: Muslim & Arab Singles, Marriage & Dating', 'DATING'),\n",
       " ('BBW Dating & Plus Size Chat', 'DATING'),\n",
       " ('2Date Dating App, Love and matching', 'DATING'),\n",
       " ('Transenger – Ts Dating and Chat for Free', 'DATING'),\n",
       " ('BBW Dating & Curvy Singles Chat- LargeFriends', 'DATING'),\n",
       " ('MouseMingle', 'DATING'),\n",
       " ('FlirtChat - ♥Free Dating/Flirting App♥', 'DATING'),\n",
       " ('Live Talk - Free Text and Video Chat', 'DATING'),\n",
       " ('Adult Dirty Emojis', 'DATING'),\n",
       " ('Free Cam Girls - Live Webcam', 'DATING'),\n",
       " ('Random Video Chat App With Strangers', 'DATING'),\n",
       " ('Teenage Chat & Dating', 'DATING'),\n",
       " ('Live Girls Talk - Free Video Chat', 'DATING'),\n",
       " ('Girls Online Talk - Free Text and Video Chat', 'DATING'),\n",
       " ('Girls Live Chat - Free Text & Video Chat', 'DATING'),\n",
       " ('Online Girls Chat', 'DATING'),\n",
       " ('LIVE VIDEO TALK', 'DATING'),\n",
       " ('Free Dating App - Meet Local Singles - Flirt Chat', 'DATING'),\n",
       " ('SkyLove – Dating and chat', 'DATING'),\n",
       " ('Free Live Talk-Video Call', 'DATING'),\n",
       " ('FindLoving', 'DATING'),\n",
       " ('Sugar Daddies Dating App', 'DATING'),\n",
       " ('iPair-Meet, Chat, Dating', 'DATING'),\n",
       " ('Free Dating Hook Up Messenger', 'DATING'),\n",
       " ('Free Dating App - YoCutie - Flirt, Chat & Meet', 'DATING'),\n",
       " ('Chat Mexico: meet people, flirt and friendship', 'DATING'),\n",
       " ('Duolingo: Learn Languages Free', 'EDUCATION'),\n",
       " ('TED', 'EDUCATION'),\n",
       " ('English Communication - Learn English for Chinese (Learn English for Chinese)',\n",
       "  'EDUCATION'),\n",
       " ('Khan Academy', 'EDUCATION'),\n",
       " ('Learn English with Wlingua', 'EDUCATION'),\n",
       " ('Ai La Trieu Phu - ALTP Free', 'EDUCATION'),\n",
       " ('Princess Coloring Book', 'EDUCATION'),\n",
       " ('Learn Spanish - Español', 'EDUCATION'),\n",
       " ('English Grammar Test', 'EDUCATION'),\n",
       " ('Speed Reading', 'EDUCATION'),\n",
       " ('English for beginners', 'EDUCATION'),\n",
       " ('Flame - درب عقلك يوميا', 'EDUCATION'),\n",
       " ('Mermaids', 'EDUCATION'),\n",
       " ('Learn Japanese, Korean, Chinese Offline & Free', 'EDUCATION'),\n",
       " ('Kids Mode', 'EDUCATION'),\n",
       " ('PBS KIDS Video', 'EDUCATION'),\n",
       " ('Dinosaurs Coloring Pages', 'EDUCATION'),\n",
       " ('Cars Coloring Pages', 'EDUCATION'),\n",
       " ('Babbel – Learn Languages', 'EDUCATION'),\n",
       " ('Math Tricks', 'EDUCATION'),\n",
       " ('Monster Truck Driver & Racing', 'EDUCATION'),\n",
       " ('Learn English Words Free', 'EDUCATION'),\n",
       " ('Japanese / English one-shop search dictionary - Free Japanese - English - Japanese dictionary application',\n",
       "  'EDUCATION'),\n",
       " ('English speaking texts', 'EDUCATION'),\n",
       " ('Thai Handwriting', 'EDUCATION'),\n",
       " ('THAI DICT 2018', 'EDUCATION'),\n",
       " ('Kanji test · Han search Kanji training (free version)', 'EDUCATION'),\n",
       " (\"Game for KIDS: KIDS match'em\", 'EDUCATION'),\n",
       " ('Flippy Campus - Buy & sell on campus at a discount', 'EDUCATION'),\n",
       " ('Free intellectual training game application |', 'EDUCATION'),\n",
       " ('ABC Preschool Free', 'EDUCATION'),\n",
       " ('PINKFONG Baby Shark', 'EDUCATION'),\n",
       " ('English words application mikan', 'EDUCATION'),\n",
       " ('Learn English for beginners', 'EDUCATION'),\n",
       " ('Listen and learn English in seven days', 'EDUCATION'),\n",
       " ('Lumosity: #1 Brain Games & Cognitive Training App', 'EDUCATION'),\n",
       " ('Learn English from Persian: Persian to English', 'EDUCATION'),\n",
       " ('English with Lingualeo', 'EDUCATION'),\n",
       " ('Learn languages, grammar & vocabulary with Memrise', 'EDUCATION'),\n",
       " ('Khan Academy', 'EDUCATION'),\n",
       " ('TED', 'EDUCATION'),\n",
       " ('Quizlet: Learn Languages & Vocab with Flashcards', 'EDUCATION'),\n",
       " ('Udemy - Online Courses', 'EDUCATION'),\n",
       " ('Coursera: Online courses', 'EDUCATION'),\n",
       " ('edX - Online Courses by Harvard, MIT & more', 'EDUCATION'),\n",
       " ('Elevate - Brain Training Games', 'EDUCATION'),\n",
       " ('NeuroNation - Focus and Brain Training', 'EDUCATION'),\n",
       " ('Lumosity: #1 Brain Games & Cognitive Training App', 'EDUCATION'),\n",
       " ('Peak – Brain Games & Training', 'EDUCATION'),\n",
       " ('Memorado - Brain Games', 'EDUCATION'),\n",
       " ('Lynda - Online Training Videos', 'EDUCATION'),\n",
       " ('Brilliant', 'EDUCATION'),\n",
       " ('CppDroid - C/C++ IDE', 'EDUCATION'),\n",
       " ('Quiz&Learn Python', 'EDUCATION'),\n",
       " ('C++ Tutorials', 'EDUCATION'),\n",
       " ('C++ Programming', 'EDUCATION'),\n",
       " ('C Programming', 'EDUCATION'),\n",
       " ('Udacity - Lifelong Learning', 'EDUCATION'),\n",
       " ('Udemy - Online Courses', 'EDUCATION'),\n",
       " ('Learn C++', 'EDUCATION'),\n",
       " ('Learn programming', 'EDUCATION'),\n",
       " ('Learn JavaScript', 'EDUCATION'),\n",
       " ('Learn Java', 'EDUCATION'),\n",
       " ('Learn HTML', 'EDUCATION'),\n",
       " ('Programming Hub, Learn to code', 'EDUCATION'),\n",
       " ('Learn SQL', 'EDUCATION'),\n",
       " ('Ready4 SAT (Prep4 SAT)', 'EDUCATION'),\n",
       " ('Socratic - Math Answers & Homework Help', 'EDUCATION'),\n",
       " ('Ready4 GMAT (Prep4 GMAT)', 'EDUCATION'),\n",
       " ('Pocket GMAT Math', 'EDUCATION'),\n",
       " ('GMAT Question Bank', 'EDUCATION'),\n",
       " ('GRE Tutor', 'EDUCATION'),\n",
       " ('GRE Flashcards', 'EDUCATION'),\n",
       " ('play2prep: ACT, SAT prep', 'EDUCATION'),\n",
       " ('SAT Test', 'EDUCATION'),\n",
       " ('GMAT Math Flashcards', 'EDUCATION'),\n",
       " ('Pocket SAT Math', 'EDUCATION'),\n",
       " ('TOEFL Prep & Practice from Magoosh', 'EDUCATION'),\n",
       " ('GRE Prep & Practice by Magoosh', 'EDUCATION'),\n",
       " ('GRE® Flashcards by Kaplan', 'EDUCATION'),\n",
       " ('SAT Vocabulary', 'EDUCATION'),\n",
       " ('Magoosh GMAT Prep & Practice', 'EDUCATION'),\n",
       " ('SAT Flashcards: Prep & Vocabulary', 'EDUCATION'),\n",
       " ('Khan Academy', 'EDUCATION'),\n",
       " ('TED', 'EDUCATION'),\n",
       " ('Duolingo: Learn Languages Free', 'EDUCATION'),\n",
       " ('Quizlet: Learn Languages & Vocab with Flashcards', 'EDUCATION'),\n",
       " ('Coursera: Online courses', 'EDUCATION'),\n",
       " ('Udemy - Online Courses', 'EDUCATION'),\n",
       " ('Udacity - Lifelong Learning', 'EDUCATION'),\n",
       " ('edX - Online Courses by Harvard, MIT & more', 'EDUCATION'),\n",
       " ('Rosetta Stone: Learn to Speak & Read New Languages', 'EDUCATION'),\n",
       " ('Google Classroom', 'EDUCATION'),\n",
       " ('Lynda - Online Training Videos', 'EDUCATION'),\n",
       " ('Learn languages, grammar & vocabulary with Memrise', 'EDUCATION'),\n",
       " ('Brilliant', 'EDUCATION'),\n",
       " ('LinkedIn Learning: Online Courses to Learn Skills', 'EDUCATION'),\n",
       " ('Babbel – Learn Languages', 'EDUCATION'),\n",
       " ('Learn English with Phrases', 'EDUCATION'),\n",
       " ('Free english course', 'EDUCATION'),\n",
       " ('Duolingo: Learn Languages Free', 'EDUCATION'),\n",
       " ('Learn 50 languages', 'EDUCATION'),\n",
       " ('Rosetta Stone: Learn to Speak & Read New Languages', 'EDUCATION'),\n",
       " ('Babbel – Learn Spanish', 'EDUCATION'),\n",
       " ('Mango Languages: Lovable Language Courses', 'EDUCATION'),\n",
       " ('Learn English with Aco', 'EDUCATION'),\n",
       " ('Learn to Speak English', 'EDUCATION'),\n",
       " ('Learn languages, grammar & vocabulary with Memrise', 'EDUCATION'),\n",
       " ('Learn English with Wlingua', 'EDUCATION'),\n",
       " ('busuu: Learn Languages - Spanish, English & More', 'EDUCATION'),\n",
       " ('My Class Schedule: Timetable', 'EDUCATION'),\n",
       " ('Study Checker', 'EDUCATION'),\n",
       " ('My Study Life - School Planner', 'EDUCATION'),\n",
       " ('HomeWork', 'EDUCATION'),\n",
       " ('Next Gen Science Standards', 'EDUCATION'),\n",
       " ('myHomework Student Planner', 'EDUCATION'),\n",
       " (\"Teacher's Gradebook - Additio\", 'EDUCATION'),\n",
       " ('Common Core', 'EDUCATION'),\n",
       " ('Homework Planner', 'EDUCATION'),\n",
       " ('TeachersPayTeachers', 'EDUCATION'),\n",
       " ('Quizlet: Learn Languages & Vocab with Flashcards', 'EDUCATION'),\n",
       " ('Edmodo', 'EDUCATION'),\n",
       " ('Socrative Teacher', 'EDUCATION'),\n",
       " ('Training schedule - AllUniver', 'EDUCATION'),\n",
       " ('Remind: School Communication', 'EDUCATION'),\n",
       " ('Google Classroom', 'EDUCATION'),\n",
       " ('ClassDojo', 'EDUCATION'),\n",
       " ('Duolingo: Learn Languages Free', 'EDUCATION'),\n",
       " ('Lerni. Learn languages.', 'EDUCATION'),\n",
       " ('Learn 50 languages', 'EDUCATION'),\n",
       " ('HelloTalk — Chat, Speak & Learn Foreign Languages', 'EDUCATION'),\n",
       " ('Mango Languages: Lovable Language Courses', 'EDUCATION'),\n",
       " ('Rosetta Stone: Learn to Speak & Read New Languages', 'EDUCATION'),\n",
       " ('Learn languages, grammar & vocabulary with Memrise', 'EDUCATION'),\n",
       " ('Babbel – Learn Languages', 'EDUCATION'),\n",
       " ('Innovative: Learn 34 Languages', 'EDUCATION'),\n",
       " ('busuu: Learn Languages - Spanish, English & More', 'EDUCATION'),\n",
       " ('My Class Schedule: Timetable', 'EDUCATION'),\n",
       " ('Chegg Study - Homework Help', 'EDUCATION'),\n",
       " ('Canvas Student', 'EDUCATION'),\n",
       " ('Timetable', 'EDUCATION'),\n",
       " ('Socratic - Math Answers & Homework Help', 'EDUCATION'),\n",
       " ('EasyBib: Citation Generator', 'EDUCATION'),\n",
       " ('Google Classroom', 'EDUCATION'),\n",
       " ('ClassDojo', 'EDUCATION'),\n",
       " ('HelloTalk — Chat, Speak & Learn Foreign Languages', 'EDUCATION'),\n",
       " ('Quizlet: Learn Languages & Vocab with Flashcards', 'EDUCATION'),\n",
       " ('busuu: Learn Languages - Spanish, English & More', 'EDUCATION'),\n",
       " ('Rosetta Stone: Learn to Speak & Read New Languages', 'EDUCATION'),\n",
       " ('SoloLearn: Learn to Code for Free', 'EDUCATION'),\n",
       " ('Kids Learn Languages by Mondly', 'EDUCATION'),\n",
       " ('Blinkist - Nonfiction Books', 'EDUCATION'),\n",
       " ('Sago Mini Hat Maker', 'EDUCATION'),\n",
       " ('Fuzzy Numbers: Pre-K Number Foundation', 'EDUCATION'),\n",
       " ('Toca Life: City', 'EDUCATION'),\n",
       " ('Toca Life: Hospital', 'EDUCATION'),\n",
       " ('Netflix', 'ENTERTAINMENT'),\n",
       " ('Complete Spanish Movies', 'ENTERTAINMENT'),\n",
       " ('Pluto TV - It’s Free TV', 'ENTERTAINMENT'),\n",
       " ('Tubi TV - Free Movies & TV', 'ENTERTAINMENT'),\n",
       " ('YouTube Kids', 'ENTERTAINMENT'),\n",
       " ('Mobile TV', 'ENTERTAINMENT'),\n",
       " ('TV+', 'ENTERTAINMENT'),\n",
       " ('Digital TV', 'ENTERTAINMENT'),\n",
       " ('Motorola Spotlight Player™', 'ENTERTAINMENT'),\n",
       " ('Vigo Lite', 'ENTERTAINMENT'),\n",
       " ('Google Play Games', 'ENTERTAINMENT'),\n",
       " ('Hotstar', 'ENTERTAINMENT'),\n",
       " ('Peers.TV: broadcast TV channels First, Match TV, TNT ...', 'ENTERTAINMENT'),\n",
       " ('The green alien dance', 'ENTERTAINMENT'),\n",
       " ('Spectrum TV', 'ENTERTAINMENT'),\n",
       " ('H TV', 'ENTERTAINMENT'),\n",
       " ('StarTimes - Live International Champions Cup', 'ENTERTAINMENT'),\n",
       " ('Cinematic Cinematic', 'ENTERTAINMENT'),\n",
       " ('MEGOGO - Cinema and TV', 'ENTERTAINMENT'),\n",
       " ('Talking Angela', 'ENTERTAINMENT'),\n",
       " ('DStv Now', 'ENTERTAINMENT'),\n",
       " ('ivi - movies and TV shows in HD', 'ENTERTAINMENT'),\n",
       " ('Radio Javan', 'ENTERTAINMENT'),\n",
       " ('Viki: Asian TV Dramas & Movies', 'ENTERTAINMENT'),\n",
       " ('Talking Ginger 2', 'ENTERTAINMENT'),\n",
       " ('Girly Lock Screen Wallpaper with Quotes', 'ENTERTAINMENT'),\n",
       " ('No.Draw - Colors by Number 2018', 'ENTERTAINMENT'),\n",
       " ('🔥 Football Wallpapers 4K | Full HD Backgrounds 😍', 'ENTERTAINMENT'),\n",
       " ('Movies by Flixster, with Rotten Tomatoes', 'ENTERTAINMENT'),\n",
       " ('Low Poly – Puzzle art game', 'ENTERTAINMENT'),\n",
       " ('BBC Media Player', 'ENTERTAINMENT'),\n",
       " ('Amazon Prime Video', 'ENTERTAINMENT'),\n",
       " ('Adult Glitter Color by Number Book - Sandbox Pages', 'ENTERTAINMENT'),\n",
       " ('IMDb Movies & TV', 'ENTERTAINMENT'),\n",
       " ('Twitch: Livestream Multiplayer Games & Esports', 'ENTERTAINMENT'),\n",
       " ('Ziggo GO', 'ENTERTAINMENT'),\n",
       " ('YouTube Gaming', 'ENTERTAINMENT'),\n",
       " ('PlayStation App', 'ENTERTAINMENT'),\n",
       " ('Talking Ben the Dog', 'ENTERTAINMENT'),\n",
       " ('Red Bull TV: Live Sports, Music & Entertainment', 'ENTERTAINMENT'),\n",
       " ('Trailer Addict Movie Trailers', 'ENTERTAINMENT'),\n",
       " ('Cinemark Theatres', 'ENTERTAINMENT'),\n",
       " ('Regal Cinemas', 'ENTERTAINMENT'),\n",
       " ('Movies by Flixster, with Rotten Tomatoes', 'ENTERTAINMENT'),\n",
       " ('Fandango Movies - Times + Tickets', 'ENTERTAINMENT'),\n",
       " ('Marcus Theatres', 'ENTERTAINMENT'),\n",
       " ('Harkins Theatres', 'ENTERTAINMENT'),\n",
       " ('AMC Theatres', 'ENTERTAINMENT'),\n",
       " ('IMDb Movies & TV', 'ENTERTAINMENT'),\n",
       " ('Netflix', 'ENTERTAINMENT'),\n",
       " ('Food Network', 'ENTERTAINMENT'),\n",
       " ('Cooking Channel', 'ENTERTAINMENT'),\n",
       " ('Animal Planet GO', 'ENTERTAINMENT'),\n",
       " ('VRV: Anime, game videos & more', 'ENTERTAINMENT'),\n",
       " ('DramaFever: Stream Asian Drama Shows & Movies', 'ENTERTAINMENT'),\n",
       " ('Crunchyroll - Everything Anime', 'ENTERTAINMENT'),\n",
       " ('Investigation Discovery GO', 'ENTERTAINMENT'),\n",
       " ('Crackle - Free TV & Movies', 'ENTERTAINMENT'),\n",
       " ('CBS - Full Episodes & Live TV', 'ENTERTAINMENT'),\n",
       " ('STARZ', 'ENTERTAINMENT'),\n",
       " ('Acorn TV: World-class TV from Britain and Beyond', 'ENTERTAINMENT'),\n",
       " ('HISTORY: Watch TV Show Full Episodes & Specials', 'ENTERTAINMENT'),\n",
       " ('Nick', 'ENTERTAINMENT'),\n",
       " ('VH1', 'ENTERTAINMENT'),\n",
       " ('FOX NOW - On Demand & Live TV', 'ENTERTAINMENT'),\n",
       " ('A&E - Watch Full Episodes of TV Shows', 'ENTERTAINMENT'),\n",
       " ('The CW', 'ENTERTAINMENT'),\n",
       " ('BET NOW - Watch Shows', 'ENTERTAINMENT'),\n",
       " ('Hulu: Stream TV, Movies & more', 'ENTERTAINMENT'),\n",
       " ('HBO NOW: Stream TV & Movies', 'ENTERTAINMENT'),\n",
       " ('Univision NOW - Live TV and On Demand', 'ENTERTAINMENT'),\n",
       " ('SHOWTIME', 'ENTERTAINMENT'),\n",
       " ('Lifetime - Watch Full Episodes & Original Movies', 'ENTERTAINMENT'),\n",
       " ('SeriesGuide – Show & Movie Manager', 'ENTERTAINMENT'),\n",
       " ('Comedy Central', 'ENTERTAINMENT'),\n",
       " ('IMDb Movies & TV', 'ENTERTAINMENT'),\n",
       " ('Netflix', 'ENTERTAINMENT'),\n",
       " ('Tubi TV - Free Movies & TV', 'ENTERTAINMENT'),\n",
       " ('Crunchyroll - Everything Anime', 'ENTERTAINMENT'),\n",
       " ('STARZ', 'ENTERTAINMENT'),\n",
       " ('Crackle - Free TV & Movies', 'ENTERTAINMENT'),\n",
       " ('CBS - Full Episodes & Live TV', 'ENTERTAINMENT'),\n",
       " ('Nick', 'ENTERTAINMENT'),\n",
       " ('Hulu: Stream TV, Movies & more', 'ENTERTAINMENT'),\n",
       " ('FOX NOW - On Demand & Live TV', 'ENTERTAINMENT'),\n",
       " ('The CW', 'ENTERTAINMENT'),\n",
       " ('CW Seed', 'ENTERTAINMENT'),\n",
       " ('The NBC App - Watch Live TV and Full Episodes', 'ENTERTAINMENT'),\n",
       " ('HISTORY: Watch TV Show Full Episodes & Specials', 'ENTERTAINMENT'),\n",
       " ('HBO NOW: Stream TV & Movies', 'ENTERTAINMENT'),\n",
       " ('WWE', 'ENTERTAINMENT'),\n",
       " ('A&E - Watch Full Episodes of TV Shows', 'ENTERTAINMENT'),\n",
       " ('VH1', 'ENTERTAINMENT'),\n",
       " ('Universal Kids', 'ENTERTAINMENT'),\n",
       " ('MTV', 'ENTERTAINMENT'),\n",
       " ('Lifetime - Watch Full Episodes & Original Movies', 'ENTERTAINMENT'),\n",
       " ('BET NOW - Watch Shows', 'ENTERTAINMENT'),\n",
       " ('LEGO® TV', 'ENTERTAINMENT'),\n",
       " ('HBO GO: Stream with TV Package', 'ENTERTAINMENT'),\n",
       " ('Showtime Anytime', 'ENTERTAINMENT'),\n",
       " ('PlayKids - Educational cartoons and games for kids', 'ENTERTAINMENT'),\n",
       " ('FOX', 'ENTERTAINMENT'),\n",
       " ('Telemundo Now', 'ENTERTAINMENT'),\n",
       " ('Netflix', 'ENTERTAINMENT'),\n",
       " ('Tubi TV - Free Movies & TV', 'ENTERTAINMENT'),\n",
       " ('Vudu Movies & TV', 'ENTERTAINMENT'),\n",
       " ('Crackle - Free TV & Movies', 'ENTERTAINMENT'),\n",
       " ('Crunchyroll - Everything Anime', 'ENTERTAINMENT'),\n",
       " ('Nick', 'ENTERTAINMENT'),\n",
       " ('STARZ', 'ENTERTAINMENT'),\n",
       " ('Hulu: Stream TV, Movies & more', 'ENTERTAINMENT'),\n",
       " ('Food Network', 'ENTERTAINMENT'),\n",
       " ('FOX NOW - On Demand & Live TV', 'ENTERTAINMENT'),\n",
       " ('Movies by Flixster, with Rotten Tomatoes', 'ENTERTAINMENT'),\n",
       " ('Yidio: TV Show & Movie Guide', 'ENTERTAINMENT'),\n",
       " ('HISTORY: Watch TV Show Full Episodes & Specials', 'ENTERTAINMENT'),\n",
       " ('Viki: Asian TV Dramas & Movies', 'ENTERTAINMENT'),\n",
       " ('The CW', 'ENTERTAINMENT'),\n",
       " ('Redbox', 'ENTERTAINMENT'),\n",
       " ('Univision NOW - Live TV and On Demand', 'ENTERTAINMENT'),\n",
       " ('HBO NOW: Stream TV & Movies', 'ENTERTAINMENT'),\n",
       " ('Tribeca Shortlist - Handpicked Movies', 'ENTERTAINMENT'),\n",
       " ('A&E - Watch Full Episodes of TV Shows', 'ENTERTAINMENT'),\n",
       " ('VH1', 'ENTERTAINMENT'),\n",
       " ('SHOWTIME', 'ENTERTAINMENT'),\n",
       " ('MTV', 'ENTERTAINMENT'),\n",
       " ('Lifetime - Watch Full Episodes & Original Movies', 'ENTERTAINMENT'),\n",
       " ('Comedy Central', 'ENTERTAINMENT'),\n",
       " ('BET NOW - Watch Shows', 'ENTERTAINMENT'),\n",
       " ('FOX', 'ENTERTAINMENT'),\n",
       " ('Telemundo Now', 'ENTERTAINMENT'),\n",
       " ('Nick Jr. - Shows & Games', 'ENTERTAINMENT'),\n",
       " ('Sticker Market: Emoji keyboard', 'ENTERTAINMENT'),\n",
       " ('Viki: Asian TV Dramas & Movies', 'ENTERTAINMENT'),\n",
       " ('Kidjo TV Kids Have Fun & Learn', 'ENTERTAINMENT'),\n",
       " ('Laugh Out Loud by Kevin Hart', 'ENTERTAINMENT'),\n",
       " ('ColorFul - Adult Coloring Book', 'ENTERTAINMENT'),\n",
       " ('Nick', 'ENTERTAINMENT'),\n",
       " ('Fandango Movies - Times + Tickets', 'ENTERTAINMENT'),\n",
       " ('Hamilton — The Official App', 'ENTERTAINMENT'),\n",
       " ('My Talking Pet', 'ENTERTAINMENT'),\n",
       " ('Funny Pics', 'ENTERTAINMENT'),\n",
       " ('Funny Quotes Free', 'ENTERTAINMENT'),\n",
       " ('LOL Pics (Funny Pictures)', 'ENTERTAINMENT'),\n",
       " ('Meme Creator', 'ENTERTAINMENT'),\n",
       " ...]"
      ]
     },
     "execution_count": 63,
     "metadata": {},
     "output_type": "execute_result"
    }
   ],
   "source": [
    "rdd_app_categories.collect()"
   ]
  },
  {
   "cell_type": "markdown",
   "metadata": {},
   "source": [
    "## 18) Calcule el tamaño promedio de las aplicaciones por versión de Android, sin tener en cuenta las aplicaciones que varían en tamaño según dispositivo. (⭐⭐)"
   ]
  },
  {
   "cell_type": "code",
   "execution_count": null,
   "metadata": {},
   "outputs": [],
   "source": [
    "# # Calcule el tamaño promedio de las aplicaciones por versión de Android, sin tener en cuenta las aplicaciones que varían en tamaño según dispositivo\n",
    "# Al se una cadena la columna Size, que tiene valores como \"Varies with device\", \"1.1M\" y \"175k\"\n",
    "\n",
    "# Filtrar las aplicaciones que varían en tamaño según dispositivo\n",
    "rdd_apps_fixed_size = rdd_apps.filter(lambda x: x[\"Size\"] != \"Varies with device\")"
   ]
  },
  {
   "cell_type": "markdown",
   "metadata": {},
   "source": [
    "## 19) Para cada categoría, indicar cuál es la aplicación que tiene mayor cantidad de reviews con sentimiento negativo (⭐⭐)"
   ]
  },
  {
   "cell_type": "markdown",
   "metadata": {},
   "source": [
    "## Borrar"
   ]
  },
  {
   "cell_type": "code",
   "execution_count": 76,
   "metadata": {},
   "outputs": [
    {
     "name": "stderr",
     "output_type": "stream",
     "text": [
      "23/10/05 11:13:34 WARN SparkSession: Using an existing Spark session; only runtime SQL configurations will take effect.\n"
     ]
    },
    {
     "name": "stdout",
     "output_type": "stream",
     "text": [
      "Aplicación con más instalaciones: \"360 Security - Free Antivirus\n"
     ]
    }
   ],
   "source": [
    "from pyspark.sql import SparkSession\n",
    "\n",
    "# Crear una instancia de SparkSession\n",
    "spark = SparkSession.builder.appName(\"AppInstalls\").getOrCreate()\n",
    "\n",
    "# Leer el archivo CSV directamente como un RDD\n",
    "rdd_apps = spark.sparkContext.textFile(\"./dataset/googleplaystore.csv\")\n",
    "\n",
    "# Filtrar y dividir las líneas correctamente\n",
    "header = rdd_apps.first()\n",
    "rdd_apps = rdd_apps.filter(lambda line: line != header).map(lambda line: line.split(','))\n",
    "\n",
    "# Función para manejar la conversión a número con manejo de errores\n",
    "def safe_int(value):\n",
    "    try:\n",
    "        return int(value)\n",
    "    except ValueError:\n",
    "        return 0\n",
    "\n",
    "# Obtener la aplicación con la mayor cantidad de instalaciones\n",
    "app_with_most_installs = rdd_apps.map(lambda x: (x[0], safe_int(x[5].replace('+', '').replace(',', '')))).max(key=lambda x: x[1])\n",
    "\n",
    "# Imprimir la aplicación con la mayor cantidad de instalaciones\n",
    "print(\"Aplicación con más instalaciones:\", app_with_most_installs[0])"
   ]
  },
  {
   "cell_type": "code",
   "execution_count": 83,
   "metadata": {},
   "outputs": [
    {
     "name": "stdout",
     "output_type": "stream",
     "text": [
      "0\n",
      "0\n",
      "0\n",
      "0\n"
     ]
    }
   ],
   "source": [
    "# ejemplo de uso de safe_int\n",
    "a = 'Varies'\n",
    "b = a.replace('+', '').replace(',', '')\n",
    "\n",
    "print(safe_int('1,000,000+'))\n",
    "print(safe_int('1,000,000'))\n",
    "print(safe_int('Varies with device'))\n",
    "\n",
    "print(safe_int(b))\n",
    "c = safe_int(b)"
   ]
  },
  {
   "cell_type": "code",
   "execution_count": null,
   "metadata": {},
   "outputs": [],
   "source": []
  }
 ],
 "metadata": {
  "kernelspec": {
   "display_name": "Python 3",
   "language": "python",
   "name": "python3"
  },
  "language_info": {
   "codemirror_mode": {
    "name": "ipython",
    "version": 3
   },
   "file_extension": ".py",
   "mimetype": "text/x-python",
   "name": "python",
   "nbconvert_exporter": "python",
   "pygments_lexer": "ipython3",
   "version": "3.10.6"
  },
  "orig_nbformat": 4
 },
 "nbformat": 4,
 "nbformat_minor": 2
}
