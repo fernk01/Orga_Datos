{
 "cells": [
  {
   "cell_type": "code",
   "execution_count": 49,
   "metadata": {},
   "outputs": [],
   "source": [
    "from pyspark.sql import *\n",
    "from pyspark.sql.functions import *\n",
    "from pyspark import SparkContext\n",
    "from pyspark.sql import SQLContext\n",
    "\n",
    "import pandas as pd\n",
    "\n",
    "import math"
   ]
  },
  {
   "cell_type": "markdown",
   "metadata": {},
   "source": [
    "## 2) Teniendo en cuenta las reviews que reciben las aplicaciones, devolver una (al azar) de la aplicación que haya recibido la mayor cantidad de reviews positivas. (⭐)"
   ]
  },
  {
   "cell_type": "code",
   "execution_count": 50,
   "metadata": {},
   "outputs": [
    {
     "name": "stdout",
     "output_type": "stream",
     "text": [
      "Aplicación con más reseñas positivas: Facebook\n",
      "Reseña seleccionada al azar:\n",
      "Translated_Review: I believe lot Google need slow little. There enough recent improvements satisfy social media world time being. Let us digest latest exponential leaps brilliant design development user friendly fixes wiring. I mean, EVERY WEEK !\n",
      "Sentiment: Positive\n"
     ]
    }
   ],
   "source": [
    "# Crear una instancia de SparkSession y SparkContext\n",
    "spark = SparkSession.builder.getOrCreate()\n",
    "sc = spark.sparkContext\n",
    "sqlContext = SQLContext(sc)\n",
    "\n",
    "# Leer los archivos CSV y crear RDDs\n",
    "df_apps = sqlContext.read.option(\"delimiter\", \",\").option(\"escape\", '\"').csv(\"./dataset/googleplaystore.csv\", header=True, inferSchema=True)\n",
    "rdd_apps = df_apps.rdd\n",
    "\n",
    "df_reviews = sqlContext.read.option(\"delimiter\", \",\").option(\"escape\", '\"').csv(\"./dataset/googleplaystore_user_reviews.csv\", header=True, inferSchema=True)\n",
    "rdd_reviews = df_reviews.rdd\n",
    "\n",
    "# Filtrar solo reseñas positivas (asumiremos que Sentiment es \"Positive\" en el segundo conjunto de datos)\n",
    "positive_reviews_rdd = rdd_reviews.filter(lambda x: x['Sentiment'] == 'Positive')\n",
    "\n",
    "# Filtrar solo valores numéricos en la columna \"Reviews\"\n",
    "rdd_apps = rdd_apps.filter(lambda x: x['Reviews'].isnumeric())\n",
    "\n",
    "# Convertir la columna \"Reviews\" a un tipo numérico\n",
    "rdd_apps = rdd_apps.map(lambda x: (x['App'], int(x['Reviews'])))\n",
    "\n",
    "# Obtener la aplicación con la mayor cantidad de reseñas positivas y su número de reseñas\n",
    "app_with_most_positive_reviews = rdd_apps.reduce(lambda a, b: a if a[1] >= b[1] else b)\n",
    "\n",
    "# Filtrar todas las reseñas de la aplicación con la mayor cantidad de reseñas positivas\n",
    "reviews_of_app_with_most_positive_reviews = positive_reviews_rdd.filter(lambda x: x['App'] == app_with_most_positive_reviews[0])\n",
    "\n",
    "# Seleccionar una reseña al azar de esa aplicación sin usar collect()\n",
    "random_review = reviews_of_app_with_most_positive_reviews.takeSample(False, 1)\n",
    "\n",
    "# Imprimir la aplicación y la reseña seleccionada al azar\n",
    "print(\"Aplicación con más reseñas positivas:\", app_with_most_positive_reviews[0])\n",
    "print(\"Reseña seleccionada al azar:\")\n",
    "print(\"Translated_Review:\", random_review[0]['Translated_Review'])\n",
    "print(\"Sentiment:\", random_review[0]['Sentiment'])"
   ]
  },
  {
   "cell_type": "markdown",
   "metadata": {},
   "source": [
    "## 31) ¿Cuál es la app con mayor cantidad de instalaciones? (⭐)"
   ]
  },
  {
   "cell_type": "code",
   "execution_count": 66,
   "metadata": {},
   "outputs": [
    {
     "name": "stdout",
     "output_type": "stream",
     "text": [
      "Aplicación con más instalaciones: Google Play Books\n"
     ]
    }
   ],
   "source": [
    "# ¿Cuál es la app con mayor cantidad de instalaciones?\n",
    "\n",
    "# Crear una instancia de SparkSession y SparkContext\n",
    "spark = SparkSession.builder.getOrCreate()\n",
    "sc = spark.sparkContext\n",
    "sqlContext = SQLContext(sc)\n",
    "\n",
    "# Leer los archivos CSV y crear RDDs\n",
    "df_apps = sqlContext.read.option(\"delimiter\", \",\").option(\"escape\", '\"').csv(\"./dataset/googleplaystore.csv\", header=True, inferSchema=True)\n",
    "rdd_apps = df_apps.rdd\n",
    "\n",
    "# Eliminar la fila que esta mal cargada\n",
    "rdd_apps = rdd_apps.filter(lambda x: x['Installs'] != 'Free')\n",
    "\n",
    "# Convertir la columna \"Installs\" a un tipo numérico\n",
    "rdd_apps = rdd_apps.map(lambda x: (x['App'], int(x['Installs'].replace('+', '').replace(',', ''))))\n",
    "\n",
    "# Obtener la aplicación con la mayor cantidad de instalaciones y su número de instalaciones\n",
    "app_with_most_installs = rdd_apps.reduce(lambda a, b: a if a[1] >= b[1] else b)\n",
    "\n",
    "# Imprimir la aplicación con la mayor cantidad de instalaciones\n",
    "print(\"Aplicación con más instalaciones:\", app_with_most_installs[0])\n"
   ]
  },
  {
   "cell_type": "code",
   "execution_count": 76,
   "metadata": {},
   "outputs": [
    {
     "name": "stderr",
     "output_type": "stream",
     "text": [
      "23/10/05 11:13:34 WARN SparkSession: Using an existing Spark session; only runtime SQL configurations will take effect.\n"
     ]
    },
    {
     "name": "stdout",
     "output_type": "stream",
     "text": [
      "Aplicación con más instalaciones: \"360 Security - Free Antivirus\n"
     ]
    }
   ],
   "source": [
    "from pyspark.sql import SparkSession\n",
    "\n",
    "# Crear una instancia de SparkSession\n",
    "spark = SparkSession.builder.appName(\"AppInstalls\").getOrCreate()\n",
    "\n",
    "# Leer el archivo CSV directamente como un RDD\n",
    "rdd_apps = spark.sparkContext.textFile(\"./dataset/googleplaystore.csv\")\n",
    "\n",
    "# Filtrar y dividir las líneas correctamente\n",
    "header = rdd_apps.first()\n",
    "rdd_apps = rdd_apps.filter(lambda line: line != header).map(lambda line: line.split(','))\n",
    "\n",
    "# Función para manejar la conversión a número con manejo de errores\n",
    "def safe_int(value):\n",
    "    try:\n",
    "        return int(value)\n",
    "    except ValueError:\n",
    "        return 0\n",
    "\n",
    "# Obtener la aplicación con la mayor cantidad de instalaciones\n",
    "app_with_most_installs = rdd_apps.map(lambda x: (x[0], safe_int(x[5].replace('+', '').replace(',', '')))).max(key=lambda x: x[1])\n",
    "\n",
    "# Imprimir la aplicación con la mayor cantidad de instalaciones\n",
    "print(\"Aplicación con más instalaciones:\", app_with_most_installs[0])"
   ]
  },
  {
   "cell_type": "code",
   "execution_count": 83,
   "metadata": {},
   "outputs": [
    {
     "name": "stdout",
     "output_type": "stream",
     "text": [
      "0\n",
      "0\n",
      "0\n",
      "0\n"
     ]
    }
   ],
   "source": [
    "# ejemplo de uso de safe_int\n",
    "a = 'Varies'\n",
    "b = a.replace('+', '').replace(',', '')\n",
    "\n",
    "print(safe_int('1,000,000+'))\n",
    "print(safe_int('1,000,000'))\n",
    "print(safe_int('Varies with device'))\n",
    "\n",
    "print(safe_int(b))\n",
    "c = safe_int(b)"
   ]
  },
  {
   "cell_type": "markdown",
   "metadata": {},
   "source": [
    "## 10) Cual es la categoría con mayor promedio de apps que hayan sido al menos 1 vez calificadas como positivas (⭐⭐)"
   ]
  },
  {
   "cell_type": "code",
   "execution_count": 67,
   "metadata": {},
   "outputs": [],
   "source": [
    "# Cual es la categoría con mayor promedio de apps que hayan sido al menos 1 vez calificadas como positivas \n",
    "\n",
    "# Crear una instancia de SparkSession y SparkContext\n",
    "spark = SparkSession.builder.getOrCreate()\n",
    "sc = spark.sparkContext\n",
    "sqlContext = SQLContext(sc)\n",
    "\n",
    "# Leer los archivos CSV y crear RDDs\n",
    "df_apps = sqlContext.read.option(\"delimiter\", \",\").option(\"escape\", '\"').csv(\"./dataset/googleplaystore.csv\", header=True, inferSchema=True)\n",
    "rdd_apps = df_apps.rdd\n",
    "\n",
    "df_reviews = sqlContext.read.option(\"delimiter\", \",\").option(\"escape\", '\"').csv(\"./dataset/googleplaystore_user_reviews.csv\", header=True, inferSchema=True)\n",
    "rdd_reviews = df_reviews.rdd\n",
    "\n",
    "# Filtrar solo reseñas positivas (asumiremos que Sentiment es \"Positive\" en el segundo conjunto de datos)\n",
    "positive_reviews_rdd = rdd_reviews.filter(lambda x: x['Sentiment'] == 'Positive')\n",
    "\n",
    "\n",
    "\n",
    "\n",
    "\n",
    "\n",
    "\n",
    "\n"
   ]
  },
  {
   "cell_type": "code",
   "execution_count": null,
   "metadata": {},
   "outputs": [],
   "source": []
  }
 ],
 "metadata": {
  "kernelspec": {
   "display_name": "Python 3",
   "language": "python",
   "name": "python3"
  },
  "language_info": {
   "codemirror_mode": {
    "name": "ipython",
    "version": 3
   },
   "file_extension": ".py",
   "mimetype": "text/x-python",
   "name": "python",
   "nbconvert_exporter": "python",
   "pygments_lexer": "ipython3",
   "version": "3.10.6"
  },
  "orig_nbformat": 4
 },
 "nbformat": 4,
 "nbformat_minor": 2
}
