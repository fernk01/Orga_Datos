{
 "cells": [
  {
   "cell_type": "markdown",
   "metadata": {},
   "source": [
    "Tercera parte: Spark <br>\n",
    "Todos los ejercicios se relizan utilizando el API de RDDs de Spark."
   ]
  },
  {
   "cell_type": "code",
   "execution_count": 70,
   "metadata": {},
   "outputs": [],
   "source": [
    "from pyspark.sql import *\n",
    "from pyspark.sql.functions import *\n",
    "from pyspark import SparkContext\n",
    "from pyspark.sql import SQLContext\n",
    "\n",
    "import pandas as pd\n",
    "\n",
    "import math"
   ]
  },
  {
   "cell_type": "code",
   "execution_count": 71,
   "metadata": {},
   "outputs": [
    {
     "name": "stderr",
     "output_type": "stream",
     "text": [
      "/home/lu/.local/lib/python3.10/site-packages/pyspark/sql/context.py:113: FutureWarning: Deprecated in 3.0.0. Use SparkSession.builder.getOrCreate() instead.\n",
      "  warnings.warn(\n"
     ]
    }
   ],
   "source": [
    "# Crear una instancia de SparkSession y SparkContext\n",
    "spark = SparkSession.builder.getOrCreate()\n",
    "sc = spark.sparkContext\n",
    "sqlContext = SQLContext(sc)"
   ]
  },
  {
   "cell_type": "code",
   "execution_count": 72,
   "metadata": {},
   "outputs": [],
   "source": [
    "# Leer los archivos CSV.\n",
    "df_apps = sqlContext.read.option(\"delimiter\", \",\").option(\"escape\", '\"').csv(\"./dataset/googleplaystore.csv\", header=True, inferSchema=True)\n",
    "\n",
    "df_reviews = sqlContext.read.option(\"delimiter\", \",\").option(\"escape\", '\"').csv(\"./dataset/googleplaystore_user_reviews.csv\", header=True, inferSchema=True)"
   ]
  },
  {
   "cell_type": "code",
   "execution_count": 73,
   "metadata": {},
   "outputs": [
    {
     "name": "stdout",
     "output_type": "stream",
     "text": [
      "root\n",
      " |-- App: string (nullable = true)\n",
      " |-- Category: string (nullable = true)\n",
      " |-- Rating: double (nullable = true)\n",
      " |-- Reviews: string (nullable = true)\n",
      " |-- Size: string (nullable = true)\n",
      " |-- Installs: string (nullable = true)\n",
      " |-- Type: string (nullable = true)\n",
      " |-- Price: string (nullable = true)\n",
      " |-- Content Rating: string (nullable = true)\n",
      " |-- Genres: string (nullable = true)\n",
      " |-- Last Updated: string (nullable = true)\n",
      " |-- Current Ver: string (nullable = true)\n",
      " |-- Android Ver: string (nullable = true)\n",
      "\n"
     ]
    }
   ],
   "source": [
    "# Mostras los tipos de datos de los RDDs\n",
    "df_apps.printSchema()"
   ]
  },
  {
   "cell_type": "code",
   "execution_count": 74,
   "metadata": {},
   "outputs": [
    {
     "name": "stdout",
     "output_type": "stream",
     "text": [
      "root\n",
      " |-- App: string (nullable = true)\n",
      " |-- Translated_Review: string (nullable = true)\n",
      " |-- Sentiment: string (nullable = true)\n",
      " |-- Sentiment_Polarity: string (nullable = true)\n",
      " |-- Sentiment_Subjectivity: string (nullable = true)\n",
      "\n"
     ]
    }
   ],
   "source": [
    "# Mostras los tipos de datos de los RDDs\n",
    "df_reviews.printSchema()"
   ]
  },
  {
   "cell_type": "markdown",
   "metadata": {},
   "source": [
    "Cuando se convierte un DataFrame en un RDD en Spark, los tipos de datos se mantienen"
   ]
  },
  {
   "cell_type": "code",
   "execution_count": 75,
   "metadata": {},
   "outputs": [],
   "source": [
    "# Crear los RDDs a partir de los DataFrames\n",
    "rdd_apps = df_apps.rdd\n",
    "rdd_reviews = df_reviews.rdd"
   ]
  },
  {
   "cell_type": "code",
   "execution_count": 76,
   "metadata": {},
   "outputs": [
    {
     "name": "stdout",
     "output_type": "stream",
     "text": [
      "Esquema de rdd_apps:\n"
     ]
    },
    {
     "data": {
      "text/plain": [
       "[Row(App='Photo Editor & Candy Camera & Grid & ScrapBook', Category='ART_AND_DESIGN', Rating=4.1, Reviews='159', Size='19M', Installs='10,000+', Type='Free', Price='0', Content Rating='Everyone', Genres='Art & Design', Last Updated='January 7, 2018', Current Ver='1.0.0', Android Ver='4.0.3 and up'),\n",
       " Row(App='Coloring book moana', Category='ART_AND_DESIGN', Rating=3.9, Reviews='967', Size='14M', Installs='500,000+', Type='Free', Price='0', Content Rating='Everyone', Genres='Art & Design;Pretend Play', Last Updated='January 15, 2018', Current Ver='2.0.0', Android Ver='4.0.3 and up'),\n",
       " Row(App='U Launcher Lite – FREE Live Cool Themes, Hide Apps', Category='ART_AND_DESIGN', Rating=4.7, Reviews='87510', Size='8.7M', Installs='5,000,000+', Type='Free', Price='0', Content Rating='Everyone', Genres='Art & Design', Last Updated='August 1, 2018', Current Ver='1.2.4', Android Ver='4.0.3 and up'),\n",
       " Row(App='Sketch - Draw & Paint', Category='ART_AND_DESIGN', Rating=4.5, Reviews='215644', Size='25M', Installs='50,000,000+', Type='Free', Price='0', Content Rating='Teen', Genres='Art & Design', Last Updated='June 8, 2018', Current Ver='Varies with device', Android Ver='4.2 and up'),\n",
       " Row(App='Pixel Draw - Number Art Coloring Book', Category='ART_AND_DESIGN', Rating=4.3, Reviews='967', Size='2.8M', Installs='100,000+', Type='Free', Price='0', Content Rating='Everyone', Genres='Art & Design;Creativity', Last Updated='June 20, 2018', Current Ver='1.1', Android Ver='4.4 and up')]"
      ]
     },
     "execution_count": 76,
     "metadata": {},
     "output_type": "execute_result"
    }
   ],
   "source": [
    "# Mostar los esquemas de los RDDs\n",
    "print(\"Esquema de rdd_apps:\")\n",
    "rdd_apps.take(5)"
   ]
  },
  {
   "cell_type": "code",
   "execution_count": 77,
   "metadata": {},
   "outputs": [
    {
     "name": "stdout",
     "output_type": "stream",
     "text": [
      "Esquema de rdd_reviews:\n"
     ]
    },
    {
     "data": {
      "text/plain": [
       "[Row(App='10 Best Foods for You', Translated_Review='I like eat delicious food. That\\'s I\\'m cooking food myself, case \"10 Best Foods\" helps lot, also \"Best Before (Shelf Life)\"', Sentiment='Positive', Sentiment_Polarity='1.0', Sentiment_Subjectivity='0.5333333333333333'),\n",
       " Row(App='10 Best Foods for You', Translated_Review='This help eating healthy exercise regular basis', Sentiment='Positive', Sentiment_Polarity='0.25', Sentiment_Subjectivity='0.28846153846153844'),\n",
       " Row(App='10 Best Foods for You', Translated_Review='nan', Sentiment='nan', Sentiment_Polarity='nan', Sentiment_Subjectivity='nan'),\n",
       " Row(App='10 Best Foods for You', Translated_Review='Works great especially going grocery store', Sentiment='Positive', Sentiment_Polarity='0.4', Sentiment_Subjectivity='0.875'),\n",
       " Row(App='10 Best Foods for You', Translated_Review='Best idea us', Sentiment='Positive', Sentiment_Polarity='1.0', Sentiment_Subjectivity='0.3')]"
      ]
     },
     "execution_count": 77,
     "metadata": {},
     "output_type": "execute_result"
    }
   ],
   "source": [
    "# Mostar los esquemas de los RDDs\n",
    "print(\"Esquema de rdd_reviews:\")\n",
    "rdd_reviews.take(5)"
   ]
  },
  {
   "cell_type": "markdown",
   "metadata": {},
   "source": [
    "## Preprocesamiento de datos"
   ]
  },
  {
   "cell_type": "code",
   "execution_count": 78,
   "metadata": {},
   "outputs": [
    {
     "data": {
      "text/plain": [
       "[Row(App='Life Made WI-Fi Touchscreen Photo Frame', Category='1.9', Rating=19.0, Reviews='3.0M', Size='1,000+', Installs='Free', Type='0', Price='Everyone', Content Rating=None, Genres='February 11, 2018', Last Updated='1.0.19', Current Ver='4.0 and up', Android Ver=None)]"
      ]
     },
     "execution_count": 78,
     "metadata": {},
     "output_type": "execute_result"
    }
   ],
   "source": [
    "# Buscamos en la columna \"Reviews\" el dato mal cargado, dado que esta columna solo acepta números enteros positivos.\n",
    "# Para eso, filtramos los registros que no sean numéricos y los mostramos.\n",
    "rdd_apps.filter(lambda x: not x[\"Reviews\"].isdecimal()).collect() # se usa collect(), a pesar de que no es recomendable, porque la cantidad de registros que se espera es muy pequeña.\n"
   ]
  },
  {
   "cell_type": "markdown",
   "metadata": {},
   "source": [
    "Se considera que toda la fila esta mal cargada y se elimina."
   ]
  },
  {
   "cell_type": "code",
   "execution_count": 10,
   "metadata": {},
   "outputs": [],
   "source": [
    "# Eliminamos el registro que tiene el valor mal cargado.\n",
    "rdd_apps = rdd_apps.filter(lambda x: x[\"Reviews\"] != \"3.0M\")"
   ]
  },
  {
   "cell_type": "markdown",
   "metadata": {},
   "source": [
    "# Spark (⭐)"
   ]
  },
  {
   "cell_type": "markdown",
   "metadata": {},
   "source": [
    "## 2) Teniendo en cuenta las reviews que reciben las aplicaciones, devolver una (al azar) de la aplicación que haya recibido la mayor cantidad de reviews positivas. (⭐)"
   ]
  },
  {
   "cell_type": "code",
   "execution_count": 50,
   "metadata": {},
   "outputs": [
    {
     "name": "stdout",
     "output_type": "stream",
     "text": [
      "Aplicación con más reseñas positivas: Facebook\n",
      "Reseña seleccionada al azar:\n",
      "Translated_Review: Would great change constantly. The videos inconsistent. One video take video tab another go full screen preferred.\n",
      "Sentiment: Positive\n"
     ]
    }
   ],
   "source": [
    "# Filtrar solo reseñas positivas (asumiremos que Sentiment es \"Positive\" en el segundo conjunto de datos)\n",
    "positive_reviews_rdd = rdd_reviews.filter(lambda x: x['Sentiment'] == 'Positive')\n",
    "\n",
    "# Filtrar solo valores numéricos en la columna \"Reviews\"\n",
    "rdd_apps_numeric_reviews = rdd_apps.filter(lambda x: x['Reviews'].isdecimal())\n",
    "\n",
    "# Convertir la columna \"Reviews\" a un tipo numérico\n",
    "rdd_apps_numeric_reviews = rdd_apps_numeric_reviews.map(lambda x: (x['App'], int(x['Reviews'])))\n",
    "\n",
    "# Obtener la aplicación con la mayor cantidad de reseñas positivas y su número de reseñas\n",
    "app_with_most_positive_reviews = rdd_apps_numeric_reviews.reduce(lambda a, b: a if a[1] >= b[1] else b)\n",
    "\n",
    "# Filtrar todas las reseñas de la aplicación con la mayor cantidad de reseñas positivas\n",
    "reviews_of_app_with_most_positive_reviews = positive_reviews_rdd.filter(lambda x: x['App'] == app_with_most_positive_reviews[0])\n",
    "\n",
    "# Seleccionar una reseña al azar de esa aplicación sin usar collect()\n",
    "random_review = reviews_of_app_with_most_positive_reviews.takeSample(False, 1)\n",
    "\n",
    "# Imprimir la aplicación y la reseña seleccionada al azar\n",
    "print(\"Aplicación con más reseñas positivas:\", app_with_most_positive_reviews[0])\n",
    "print(\"Reseña seleccionada al azar:\")\n",
    "print(\"Translated_Review:\", random_review[0]['Translated_Review'])\n",
    "print(\"Sentiment:\", random_review[0]['Sentiment'])"
   ]
  },
  {
   "cell_type": "markdown",
   "metadata": {},
   "source": [
    "## 31) ¿Cuál es la app con mayor cantidad de instalaciones? (⭐)"
   ]
  },
  {
   "cell_type": "markdown",
   "metadata": {},
   "source": [
    "La columna \"Installs\" tiene valores como \"1,000,000+\" o \"100,000,000+\" que no se pueden convertir a números. Se limpian los datos y se convierten a números."
   ]
  },
  {
   "cell_type": "code",
   "execution_count": 51,
   "metadata": {},
   "outputs": [
    {
     "name": "stdout",
     "output_type": "stream",
     "text": [
      "Aplicación con más instalaciones: Google Play Books\n"
     ]
    }
   ],
   "source": [
    "# Convertir la columna \"Installs\" a un tipo numérico\n",
    "rdd_apps_installs = rdd_apps.map(lambda x: (x['App'], int(x['Installs'].replace('+', '').replace(',', ''))))\n",
    "\n",
    "# Obtener la aplicación con la mayor cantidad de instalaciones y su número de instalaciones\n",
    "app_with_most_installs = rdd_apps_installs.reduce(lambda a, b: a if a[1] >= b[1] else b)\n",
    "\n",
    "# Imprimir la aplicación con la mayor cantidad de instalaciones\n",
    "print(\"Aplicación con más instalaciones:\", app_with_most_installs[0])\n"
   ]
  },
  {
   "cell_type": "markdown",
   "metadata": {},
   "source": [
    "# Spark (⭐⭐)"
   ]
  },
  {
   "cell_type": "markdown",
   "metadata": {},
   "source": [
    "## 10) Cual es la categoría con mayor promedio de apps que hayan sido al menos 1 vez calificadas como positivas (⭐⭐)"
   ]
  },
  {
   "cell_type": "markdown",
   "metadata": {},
   "source": [
    "Ejemplo con números hipotéticos:\n",
    "\n",
    "Supongamos que en la categoría \"Juegos\" hay 100 aplicaciones únicas.\n",
    "\n",
    "Luego encontramos que de esas 100 aplicaciones, 60 tienen al menos 1 reseña positiva.\n",
    "\n",
    "Entonces los cálculos serían:\n",
    "\n",
    "- Total de apps únicas en la categoría: 100\n",
    "- Apps con al menos 1 reseña positiva: 60\n",
    "- Porcentaje de apps positivas: 60/100 = 0.6 (60%)\n",
    "\n",
    "Así que para la categoría \"Juegos\" el porcentaje de apps con al menos una reseña positiva es del 60%.\n",
    "\n",
    "Este mismo cálculo se hace para cada categoría:\n",
    "\n",
    "- Contar el total de apps únicas en esa categoría\n",
    "- Contar cuántas tienen al menos 1 reseña positiva\n",
    "- Dividir las positivas sobre el total para obtener el porcentaje\n",
    "\n",
    "Finalmente, se ordenan las categorías por ese porcentaje de mayor a menor, y se obtiene la categoría con el mayor porcentaje, que sería la que en promedio tiene más probabilidades de que sus apps tengan reseñas positivas."
   ]
  },
  {
   "cell_type": "code",
   "execution_count": 11,
   "metadata": {},
   "outputs": [],
   "source": [
    "# Filtrar las revisiones con sentimiento positivo\n",
    "rdd_positive_reviews = rdd_reviews.filter(lambda x: x[\"Sentiment\"] == \"Positive\")\n",
    "\n",
    "# Mapear el RDD de revisiones para obtener (App, 1) como clave-valor\n",
    "rdd_positive_counts = rdd_positive_reviews.map(lambda x: (x[\"App\"], 1))\n",
    "\n",
    "# Reducir por clave (App) para contar las aplicaciones únicas con al menos una reseña positiva\n",
    "rdd_app_positive_counts = rdd_positive_counts.reduceByKey(lambda a, b: a)"
   ]
  },
  {
   "cell_type": "code",
   "execution_count": 12,
   "metadata": {},
   "outputs": [],
   "source": [
    "# Realizar un join entre los RDDs de aplicaciones y conteo de revisiones positivas\n",
    "rdd_app_category_join = rdd_apps.map(lambda x: (x[\"App\"], x[\"Category\"])).distinct()"
   ]
  },
  {
   "cell_type": "code",
   "execution_count": 13,
   "metadata": {},
   "outputs": [],
   "source": [
    "# Calcular el total de aplicaciones en cada categoría\n",
    "rdd_category_counts = rdd_app_category_join.map(lambda x: (x[1], 1)).reduceByKey(lambda a, b: a + b)\n",
    "rdd_result = rdd_app_category_join.join(rdd_app_positive_counts)"
   ]
  },
  {
   "cell_type": "code",
   "execution_count": 14,
   "metadata": {},
   "outputs": [],
   "source": [
    "# Calcular el total de aplicaciones con al menos una reseña positiva en cada categoría\n",
    "rdd_category_positive_counts = rdd_result.map(lambda x: (x[1][0], 1)).reduceByKey(lambda a, b: a + b)"
   ]
  },
  {
   "cell_type": "code",
   "execution_count": 15,
   "metadata": {},
   "outputs": [],
   "source": [
    "# Calcular los porcentajes de aplicaciones con al menos una reseña positiva en cada categoría\n",
    "rdd_category_positive_percentages = rdd_category_positive_counts.join(rdd_category_counts).map(lambda x: (x[0], x[1][0] / x[1][1]))"
   ]
  },
  {
   "cell_type": "code",
   "execution_count": 16,
   "metadata": {},
   "outputs": [
    {
     "name": "stderr",
     "output_type": "stream",
     "text": [
      "                                                                                \r"
     ]
    },
    {
     "data": {
      "text/plain": [
       "('ENTERTAINMENT', 0.24509803921568626)"
      ]
     },
     "execution_count": 16,
     "metadata": {},
     "output_type": "execute_result"
    }
   ],
   "source": [
    "# Encontrar la categoría con el mayor porcentaje de aplicaciones positivas\n",
    "rdd_category_positive_percentages.reduce(lambda a, b: a if a[1] >= b[1] else b)"
   ]
  },
  {
   "cell_type": "markdown",
   "metadata": {},
   "source": [
    "## 18) Calcule el tamaño promedio de las aplicaciones por versión de Android, sin tener en cuenta las aplicaciones que varían en tamaño según dispositivo. (⭐⭐)"
   ]
  },
  {
   "cell_type": "code",
   "execution_count": 40,
   "metadata": {},
   "outputs": [],
   "source": [
    "# Calcule el tamaño promedio de las aplicaciones por versión de Android, sin tener en cuenta las aplicaciones que varían en tamaño según dispositivo\n",
    "# La columna \"Android Ver\" una cadena la columna Size, que tiene valores como \"Varies with device\", \"1.1M\" y \"175k\"\n",
    "\n",
    "# Filtramos en la columna \"Android Ver\" los valores que no sean \"Varies with device\" y los que no sean \"NaN\"\n",
    "rdd_apps_android_ver = rdd_apps.filter(lambda x: x[\"Android Ver\"] != \"Varies with device\" and x[\"Android Ver\"] != \"NaN\")\n",
    "\n",
    "# Filtramos en la columna \"Size\" los valores que no sean \"Varies with device\" y los que no sean \"NaN\"\n",
    "rdd_apps_android_size = rdd_apps_android_ver.filter(lambda x: x[\"Size\"] != \"Varies with device\" and x[\"Size\"] != \"NaN\")"
   ]
  },
  {
   "cell_type": "code",
   "execution_count": 41,
   "metadata": {},
   "outputs": [
    {
     "data": {
      "text/plain": [
       "[Row(App='Photo Editor & Candy Camera & Grid & ScrapBook', Category='ART_AND_DESIGN', Rating=4.1, Reviews='159', Size='19M', Installs='10,000+', Type='Free', Price='0', Content Rating='Everyone', Genres='Art & Design', Last Updated='January 7, 2018', Current Ver='1.0.0', Android Ver='4.0.3 and up'),\n",
       " Row(App='Coloring book moana', Category='ART_AND_DESIGN', Rating=3.9, Reviews='967', Size='14M', Installs='500,000+', Type='Free', Price='0', Content Rating='Everyone', Genres='Art & Design;Pretend Play', Last Updated='January 15, 2018', Current Ver='2.0.0', Android Ver='4.0.3 and up'),\n",
       " Row(App='U Launcher Lite – FREE Live Cool Themes, Hide Apps', Category='ART_AND_DESIGN', Rating=4.7, Reviews='87510', Size='8.7M', Installs='5,000,000+', Type='Free', Price='0', Content Rating='Everyone', Genres='Art & Design', Last Updated='August 1, 2018', Current Ver='1.2.4', Android Ver='4.0.3 and up'),\n",
       " Row(App='Sketch - Draw & Paint', Category='ART_AND_DESIGN', Rating=4.5, Reviews='215644', Size='25M', Installs='50,000,000+', Type='Free', Price='0', Content Rating='Teen', Genres='Art & Design', Last Updated='June 8, 2018', Current Ver='Varies with device', Android Ver='4.2 and up'),\n",
       " Row(App='Pixel Draw - Number Art Coloring Book', Category='ART_AND_DESIGN', Rating=4.3, Reviews='967', Size='2.8M', Installs='100,000+', Type='Free', Price='0', Content Rating='Everyone', Genres='Art & Design;Creativity', Last Updated='June 20, 2018', Current Ver='1.1', Android Ver='4.4 and up')]"
      ]
     },
     "execution_count": 41,
     "metadata": {},
     "output_type": "execute_result"
    }
   ],
   "source": [
    "rdd_apps_android_size.take(5)"
   ]
  },
  {
   "cell_type": "code",
   "execution_count": 42,
   "metadata": {},
   "outputs": [],
   "source": [
    "# Función que elimina la letra \"M\" y \"k\" y lo convierte a float32 con la unidad de medida en Mega.\n",
    "def convert_to_mega(value):\n",
    "    if isinstance(value, str):\n",
    "        if 'M' in value:\n",
    "            return float(value.replace('M', ''))\n",
    "        elif 'k' in value:\n",
    "            return float(value.replace('k', '')) / 1000\n",
    "    return float(value) / 1000000"
   ]
  },
  {
   "cell_type": "code",
   "execution_count": 43,
   "metadata": {},
   "outputs": [
    {
     "data": {
      "text/plain": [
       "[('4.0.3 and up', 19.0),\n",
       " ('4.0.3 and up', 14.0),\n",
       " ('4.0.3 and up', 8.7),\n",
       " ('4.2 and up', 25.0),\n",
       " ('4.4 and up', 2.8)]"
      ]
     },
     "execution_count": 43,
     "metadata": {},
     "output_type": "execute_result"
    }
   ],
   "source": [
    "# Convertimos la columna \"Size\" a un tipo numérico en la unidad de medida MB\n",
    "rdd_apps_android_size = rdd_apps_android_size.map(lambda x: (x['Android Ver'], convert_to_mega(x['Size'])))\n",
    "rdd_apps_android_size.take(5)\n"
   ]
  },
  {
   "cell_type": "code",
   "execution_count": 49,
   "metadata": {},
   "outputs": [
    {
     "data": {
      "text/plain": [
       "[('4.0.3 and up', 22.081509291121826),\n",
       " ('4.2 and up', 22.1400940860215),\n",
       " ('4.4 and up', 25.819297802197795),\n",
       " ('2.3 and up', 20.809874015748047),\n",
       " ('3.0 and up', 14.699755186721982)]"
      ]
     },
     "execution_count": 49,
     "metadata": {},
     "output_type": "execute_result"
    }
   ],
   "source": [
    "# Calculamos el promedio de tamaño de las aplicaciones por versión de Android\n",
    "rdd_apps_android_size = rdd_apps_android_size.map(lambda x: (x[0], (x[1], 1))).reduceByKey(lambda a, b: (a[0] + b[0], a[1] + b[1])).map(lambda x: (x[0], x[1][0] / x[1][1]))\n",
    "rdd_apps_android_size.take(5)"
   ]
  },
  {
   "cell_type": "code",
   "execution_count": 52,
   "metadata": {},
   "outputs": [
    {
     "data": {
      "text/plain": [
       "[('2.0.1 and up', 22.22214285714286)]"
      ]
     },
     "execution_count": 52,
     "metadata": {},
     "output_type": "execute_result"
    }
   ],
   "source": [
    "# Bucamos 1.0 and up\n",
    "rdd_apps_android_size.filter(lambda x: x[0] == '2.0.1 and up').collect()"
   ]
  },
  {
   "cell_type": "markdown",
   "metadata": {},
   "source": [
    "## 19) Para cada categoría, indicar cuál es la aplicación que tiene mayor cantidad de reviews con sentimiento negativo (⭐⭐)"
   ]
  },
  {
   "cell_type": "code",
   "execution_count": 79,
   "metadata": {},
   "outputs": [
    {
     "data": {
      "text/plain": [
       "[Row(App='10 Best Foods for You', Translated_Review='No recipe book Unable recipe book.', Sentiment='Negative', Sentiment_Polarity='-0.5', Sentiment_Subjectivity='0.5'),\n",
       " Row(App='10 Best Foods for You', Translated_Review='Waste time It needs internet time n ask calls information', Sentiment='Negative', Sentiment_Polarity='-0.2', Sentiment_Subjectivity='0.0'),\n",
       " Row(App='10 Best Foods for You', Translated_Review='Faltu plz waste ur time', Sentiment='Negative', Sentiment_Polarity='-0.2', Sentiment_Subjectivity='0.0'),\n",
       " Row(App='10 Best Foods for You', Translated_Review=\"Crap Doesn't work\", Sentiment='Negative', Sentiment_Polarity='-0.8', Sentiment_Subjectivity='0.8'),\n",
       " Row(App='10 Best Foods for You', Translated_Review=\"Boring. I thought actually just texts that's it. Too poor old texts....\", Sentiment='Negative', Sentiment_Polarity='-0.32499999999999996', Sentiment_Subjectivity='0.47500000000000003')]"
      ]
     },
     "execution_count": 79,
     "metadata": {},
     "output_type": "execute_result"
    }
   ],
   "source": [
    "# Para cada categoría, indicar cuál es la aplicación que tiene mayor cantidad de reviews con sentimiento negativo \n",
    "\n",
    "# Filtrar las revisiones con sentimiento negativo\n",
    "rdd_negative_reviews = rdd_reviews.filter(lambda x: x[\"Sentiment\"] == \"Negative\")\n",
    "rdd_negative_reviews.take(5)"
   ]
  },
  {
   "cell_type": "code",
   "execution_count": 80,
   "metadata": {},
   "outputs": [
    {
     "data": {
      "text/plain": [
       "[('104 找工作 - 找工作 找打工 找兼職 履歷健檢 履歷診療室', 1),\n",
       " ('21-Day Meditation Experience', 10),\n",
       " ('2Date Dating App, Love and matching', 7),\n",
       " ('30 Day Fitness Challenge - Workout at Home', 2),\n",
       " ('4 in a Row', 3)]"
      ]
     },
     "execution_count": 80,
     "metadata": {},
     "output_type": "execute_result"
    }
   ],
   "source": [
    "# Crea un RDD que contenga tuplas de la forma (App, Reviews) para las revisiones negativas.\n",
    "rdd_negative_reviews_count = rdd_negative_reviews.map(lambda x: (x['App'], 1)).reduceByKey(lambda a, b: a + b)\n",
    "\n",
    "rdd_negative_reviews_count.take(5)"
   ]
  },
  {
   "cell_type": "code",
   "execution_count": 85,
   "metadata": {},
   "outputs": [
    {
     "data": {
      "text/plain": [
       "[(\"Boys Photo Editor - Six Pack & Men's Suit\", ('ART_AND_DESIGN', 5)),\n",
       " ('Colorfit - Drawing & Coloring', ('ART_AND_DESIGN', 8)),\n",
       " ('Easy Origami Ideas', ('ART_AND_DESIGN', 11)),\n",
       " ('Canva: Poster, banner, card maker & graphic design', ('ART_AND_DESIGN', 3)),\n",
       " ('CDL Practice Test 2018 Edition', ('AUTO_AND_VEHICLES', 1))]"
      ]
     },
     "execution_count": 85,
     "metadata": {},
     "output_type": "execute_result"
    }
   ],
   "source": [
    "# Encuentra la aplicación con la mayor cantidad de revisiones negativas por categoría.\n",
    "category_max_negative_reviews = rdd_apps.map(lambda x: (x['App'], x['Category'])).distinct().join(rdd_negative_reviews_count)\n",
    "category_max_negative_reviews.take(5)"
   ]
  },
  {
   "cell_type": "code",
   "execution_count": 86,
   "metadata": {},
   "outputs": [],
   "source": [
    "# buscamos el nombre de la aplicación con la mayor cantidad de revisiones negativas por categoría.\n",
    "a = category_max_negative_reviews.map(lambda x: (x[1][0], (x[0], x[1][1]))).reduceByKey(lambda a, b: a if a[1] >= b[1] else b)"
   ]
  },
  {
   "cell_type": "code",
   "execution_count": 87,
   "metadata": {},
   "outputs": [
    {
     "data": {
      "text/plain": [
       "[('COMMUNICATION', ('Azar', 25)),\n",
       " ('ENTERTAINMENT', ('Colorfy: Coloring Book for Adults - Free', 45)),\n",
       " ('FINANCE', ('Google Pay', 30)),\n",
       " ('MEDICAL', ('Anthem Anywhere', 28)),\n",
       " ('SOCIAL', ('Facebook', 60))]"
      ]
     },
     "execution_count": 87,
     "metadata": {},
     "output_type": "execute_result"
    }
   ],
   "source": [
    "a.take(5)"
   ]
  },
  {
   "cell_type": "code",
   "execution_count": 88,
   "metadata": {},
   "outputs": [
    {
     "data": {
      "text/plain": [
       "33"
      ]
     },
     "execution_count": 88,
     "metadata": {},
     "output_type": "execute_result"
    }
   ],
   "source": [
    "a.count()"
   ]
  },
  {
   "cell_type": "code",
   "execution_count": 56,
   "metadata": {},
   "outputs": [
    {
     "data": {
      "text/plain": [
       "[('8 Ball Pool', ('GAME', 106)), ('8 Ball Pool', ('SPORTS', 106))]"
      ]
     },
     "execution_count": 56,
     "metadata": {},
     "output_type": "execute_result"
    }
   ],
   "source": [
    "# buscamos 8 Ball Pool\n",
    "category_max_negative_reviews.filter(lambda x: x[0] == '8 Ball Pool').collect()"
   ]
  },
  {
   "cell_type": "markdown",
   "metadata": {},
   "source": [
    "# Borar"
   ]
  },
  {
   "cell_type": "code",
   "execution_count": 76,
   "metadata": {},
   "outputs": [
    {
     "name": "stderr",
     "output_type": "stream",
     "text": [
      "23/10/05 11:13:34 WARN SparkSession: Using an existing Spark session; only runtime SQL configurations will take effect.\n"
     ]
    },
    {
     "name": "stdout",
     "output_type": "stream",
     "text": [
      "Aplicación con más instalaciones: \"360 Security - Free Antivirus\n"
     ]
    }
   ],
   "source": [
    "from pyspark.sql import SparkSession\n",
    "\n",
    "# Crear una instancia de SparkSession\n",
    "spark = SparkSession.builder.appName(\"AppInstalls\").getOrCreate()\n",
    "\n",
    "# Leer el archivo CSV directamente como un RDD\n",
    "rdd_apps = spark.sparkContext.textFile(\"./dataset/googleplaystore.csv\")\n",
    "\n",
    "# Filtrar y dividir las líneas correctamente\n",
    "header = rdd_apps.first()\n",
    "rdd_apps = rdd_apps.filter(lambda line: line != header).map(lambda line: line.split(','))\n",
    "\n",
    "# Función para manejar la conversión a número con manejo de errores\n",
    "def safe_int(value):\n",
    "    try:\n",
    "        return int(value)\n",
    "    except ValueError:\n",
    "        return 0\n",
    "\n",
    "# Obtener la aplicación con la mayor cantidad de instalaciones\n",
    "app_with_most_installs = rdd_apps.map(lambda x: (x[0], safe_int(x[5].replace('+', '').replace(',', '')))).max(key=lambda x: x[1])\n",
    "\n",
    "# Imprimir la aplicación con la mayor cantidad de instalaciones\n",
    "print(\"Aplicación con más instalaciones:\", app_with_most_installs[0])"
   ]
  },
  {
   "cell_type": "code",
   "execution_count": 83,
   "metadata": {},
   "outputs": [
    {
     "name": "stdout",
     "output_type": "stream",
     "text": [
      "0\n",
      "0\n",
      "0\n",
      "0\n"
     ]
    }
   ],
   "source": [
    "# ejemplo de uso de safe_int\n",
    "a = 'Varies'\n",
    "b = a.replace('+', '').replace(',', '')\n",
    "\n",
    "print(safe_int('1,000,000+'))\n",
    "print(safe_int('1,000,000'))\n",
    "print(safe_int('Varies with device'))\n",
    "\n",
    "print(safe_int(b))\n",
    "c = safe_int(b)"
   ]
  },
  {
   "cell_type": "code",
   "execution_count": null,
   "metadata": {},
   "outputs": [],
   "source": []
  }
 ],
 "metadata": {
  "kernelspec": {
   "display_name": "Python 3",
   "language": "python",
   "name": "python3"
  },
  "language_info": {
   "codemirror_mode": {
    "name": "ipython",
    "version": 3
   },
   "file_extension": ".py",
   "mimetype": "text/x-python",
   "name": "python",
   "nbconvert_exporter": "python",
   "pygments_lexer": "ipython3",
   "version": "3.10.6"
  },
  "orig_nbformat": 4
 },
 "nbformat": 4,
 "nbformat_minor": 2
}
