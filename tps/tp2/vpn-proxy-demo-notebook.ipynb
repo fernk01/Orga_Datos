{
 "cells": [
  {
   "cell_type": "code",
   "execution_count": 1,
   "id": "fb4dbdc1",
   "metadata": {
    "_cell_guid": "b1076dfc-b9ad-4769-8c92-a6c4dae69d19",
    "_uuid": "8f2839f25d086af736a60e9eeb907d3b93b6e0e5",
    "execution": {
     "iopub.execute_input": "2023-10-01T05:55:53.053603Z",
     "iopub.status.busy": "2023-10-01T05:55:53.052741Z",
     "iopub.status.idle": "2023-10-01T05:55:53.438163Z",
     "shell.execute_reply": "2023-10-01T05:55:53.436695Z"
    },
    "papermill": {
     "duration": 0.400033,
     "end_time": "2023-10-01T05:55:53.441020",
     "exception": false,
     "start_time": "2023-10-01T05:55:53.040987",
     "status": "completed"
    },
    "tags": []
   },
   "outputs": [
    {
     "name": "stdout",
     "output_type": "stream",
     "text": [
      "/kaggle/input/vpn-classification/dataset_v2/shodan_df_hashed.csv\n",
      "/kaggle/input/vpn-classification/dataset_v2/test.parq\n",
      "/kaggle/input/vpn-classification/dataset_v2/train.parq\n",
      "/kaggle/input/vpn-classification/dataset_v2/samples_submissions.csv\n",
      "/kaggle/input/vpn-classification/dataset_v2/train.csv\n",
      "/kaggle/input/vpn-classification/dataset_v2/test.csv\n"
     ]
    }
   ],
   "source": [
    "# This Python 3 environment comes with many helpful analytics libraries installed\n",
    "# It is defined by the kaggle/python Docker image: https://github.com/kaggle/docker-python\n",
    "# For example, here's several helpful packages to load\n",
    "\n",
    "import numpy as np # linear algebra\n",
    "import pandas as pd # data processing, CSV file I/O (e.g. pd.read_csv)\n",
    "\n",
    "# Input data files are available in the read-only \"../input/\" directory\n",
    "# For example, running this (by clicking run or pressing Shift+Enter) will list all files under the input directory\n",
    "\n",
    "import os\n",
    "for dirname, _, filenames in os.walk('/kaggle/input'):\n",
    "    for filename in filenames:\n",
    "        print(os.path.join(dirname, filename))\n",
    "\n",
    "# You can write up to 20GB to the current directory (/kaggle/working/) that gets preserved as output when you create a version using \"Save & Run All\" \n",
    "# You can also write temporary files to /kaggle/temp/, but they won't be saved outside of the current session"
   ]
  },
  {
   "cell_type": "code",
   "execution_count": 2,
   "id": "42ac4cec",
   "metadata": {
    "execution": {
     "iopub.execute_input": "2023-10-01T05:55:53.461924Z",
     "iopub.status.busy": "2023-10-01T05:55:53.461362Z",
     "iopub.status.idle": "2023-10-01T05:55:55.059446Z",
     "shell.execute_reply": "2023-10-01T05:55:55.058193Z"
    },
    "papermill": {
     "duration": 1.612021,
     "end_time": "2023-10-01T05:55:55.062803",
     "exception": false,
     "start_time": "2023-10-01T05:55:53.450782",
     "status": "completed"
    },
    "tags": []
   },
   "outputs": [],
   "source": [
    "import ast\n",
    "\n",
    "import matplotlib.pyplot as plt\n",
    "import numpy as np\n",
    "import pandas as pd\n",
    "import seaborn as sns"
   ]
  },
  {
   "cell_type": "markdown",
   "id": "e513cc19",
   "metadata": {
    "papermill": {
     "duration": 0.009359,
     "end_time": "2023-10-01T05:55:55.082234",
     "exception": false,
     "start_time": "2023-10-01T05:55:55.072875",
     "status": "completed"
    },
    "tags": []
   },
   "source": [
    "# Introduction\n",
    "\n",
    "## Goal\n",
    "\n",
    "The goal of this competition is to identify users of annoymization services (proxies, VPNs) by analyzing the abuse patterns coming from their associated ips.\n",
    "\n",
    "\n",
    "## Dataset\n",
    "\n",
    "The dataset included in this competition is a slice of signals we receive from crowdsec security engines installed all over the world. Each line is a security engine detecting an attack using one of our many scenarios. Each line contains three different sections of data. \n",
    "\n",
    "* Information about the security engine (called watcher) reporting the attack\n",
    "* Information about the ip (called attacker) doing the attack\n",
    "* Information about the attack itself\n",
    "\n",
    "Data about the security engine can be found in the columns `watcher_country, watcher_as_num, watcher_as_name, watcher_uuid_enum`  \n",
    "Data about the attacker can be found in the columns `attacker_country, attacker_as_num, attacker_as_name, attacker_ip_enum`  \n",
    "Data about the attack can be found in the columns `attack_time, attack_type`\n",
    "\n",
    "Additionally, you can find the results of portscans and respective service hashes in `shodan_info_hashed.csv`. Note that this dataset contains information about attacker IPs in both train and test set."
   ]
  },
  {
   "cell_type": "markdown",
   "id": "c3406488",
   "metadata": {
    "papermill": {
     "duration": 0.008634,
     "end_time": "2023-10-01T05:55:55.100242",
     "exception": false,
     "start_time": "2023-10-01T05:55:55.091608",
     "status": "completed"
    },
    "tags": []
   },
   "source": [
    "### CSV format"
   ]
  },
  {
   "cell_type": "code",
   "execution_count": 3,
   "id": "691502f4",
   "metadata": {
    "execution": {
     "iopub.execute_input": "2023-10-01T05:55:55.120127Z",
     "iopub.status.busy": "2023-10-01T05:55:55.119705Z",
     "iopub.status.idle": "2023-10-01T05:55:55.125296Z",
     "shell.execute_reply": "2023-10-01T05:55:55.123979Z"
    },
    "papermill": {
     "duration": 0.01825,
     "end_time": "2023-10-01T05:55:55.127413",
     "exception": false,
     "start_time": "2023-10-01T05:55:55.109163",
     "status": "completed"
    },
    "tags": []
   },
   "outputs": [],
   "source": [
    "#dtypes = {\n",
    "#    # 'attack_time': 'datetime64[ns]',\n",
    "#    \"watcher_country\": \"object\",\n",
    "#    \"watcher_as_num\": \"float32\",\n",
    "#    \"watcher_as_name\": \"object\",\n",
    "#    \"attacker_country\": \"category\",\n",
    "#    \"attacker_as_num\": \"float32\",\n",
    "#    \"attacker_as_name\": \"object\",\n",
    "#    \"attack_type\": \"category\",\n",
    "#    \"watcher_uuid_enum\": \"int32\",\n",
    "#    \"attacker_ip_enum\": \"int32\",\n",
    "#    \"label\": \"int8\",\n",
    "#}\n",
    "\n",
    "#df = pd.read_csv(\"/kaggle/input/vpn-classification/dataset_v2/train.csv\", dtype=dtypes, parse_dates=[\"attack_time\"])\n",
    "#df.dtypes\n",
    "#df.head()"
   ]
  },
  {
   "cell_type": "markdown",
   "id": "c0f0119b",
   "metadata": {
    "papermill": {
     "duration": 0.009672,
     "end_time": "2023-10-01T05:55:55.146987",
     "exception": false,
     "start_time": "2023-10-01T05:55:55.137315",
     "status": "completed"
    },
    "tags": []
   },
   "source": [
    "### Parquet format\n",
    "\n",
    "Alternatively you can use parquet format, which loads significantly faster."
   ]
  },
  {
   "cell_type": "code",
   "execution_count": 4,
   "id": "81e29fa5",
   "metadata": {
    "execution": {
     "iopub.execute_input": "2023-10-01T05:55:55.167897Z",
     "iopub.status.busy": "2023-10-01T05:55:55.167505Z",
     "iopub.status.idle": "2023-10-01T05:56:07.614647Z",
     "shell.execute_reply": "2023-10-01T05:56:07.612109Z"
    },
    "papermill": {
     "duration": 12.461198,
     "end_time": "2023-10-01T05:56:07.617982",
     "exception": false,
     "start_time": "2023-10-01T05:55:55.156784",
     "status": "completed"
    },
    "tags": []
   },
   "outputs": [
    {
     "data": {
      "text/html": [
       "<div>\n",
       "<style scoped>\n",
       "    .dataframe tbody tr th:only-of-type {\n",
       "        vertical-align: middle;\n",
       "    }\n",
       "\n",
       "    .dataframe tbody tr th {\n",
       "        vertical-align: top;\n",
       "    }\n",
       "\n",
       "    .dataframe thead th {\n",
       "        text-align: right;\n",
       "    }\n",
       "</style>\n",
       "<table border=\"1\" class=\"dataframe\">\n",
       "  <thead>\n",
       "    <tr style=\"text-align: right;\">\n",
       "      <th></th>\n",
       "      <th>attack_time</th>\n",
       "      <th>watcher_country</th>\n",
       "      <th>watcher_as_num</th>\n",
       "      <th>watcher_as_name</th>\n",
       "      <th>attacker_country</th>\n",
       "      <th>attacker_as_num</th>\n",
       "      <th>attacker_as_name</th>\n",
       "      <th>attack_type</th>\n",
       "      <th>watcher_uuid_enum</th>\n",
       "      <th>attacker_ip_enum</th>\n",
       "      <th>label</th>\n",
       "    </tr>\n",
       "  </thead>\n",
       "  <tbody>\n",
       "    <tr>\n",
       "      <th>0</th>\n",
       "      <td>2023-07-31 07:17:51+00:00</td>\n",
       "      <td>DE</td>\n",
       "      <td>34011.0</td>\n",
       "      <td>Host Europe GmbH</td>\n",
       "      <td>TR</td>\n",
       "      <td>47721.0</td>\n",
       "      <td>Murat Aktas</td>\n",
       "      <td>http:exploit</td>\n",
       "      <td>0</td>\n",
       "      <td>6466</td>\n",
       "      <td>0</td>\n",
       "    </tr>\n",
       "    <tr>\n",
       "      <th>1</th>\n",
       "      <td>2023-07-31 07:17:51+00:00</td>\n",
       "      <td>DE</td>\n",
       "      <td>34011.0</td>\n",
       "      <td>Host Europe GmbH</td>\n",
       "      <td>TR</td>\n",
       "      <td>47721.0</td>\n",
       "      <td>Murat Aktas</td>\n",
       "      <td>http:spam</td>\n",
       "      <td>0</td>\n",
       "      <td>6466</td>\n",
       "      <td>0</td>\n",
       "    </tr>\n",
       "    <tr>\n",
       "      <th>2</th>\n",
       "      <td>2023-07-31 07:17:49+00:00</td>\n",
       "      <td>DE</td>\n",
       "      <td>20886.0</td>\n",
       "      <td>bn:t Blatzheim Networks Telecom GmbH</td>\n",
       "      <td>DE</td>\n",
       "      <td>51167.0</td>\n",
       "      <td>Contabo GmbH</td>\n",
       "      <td>http:bruteforce</td>\n",
       "      <td>2</td>\n",
       "      <td>4637</td>\n",
       "      <td>0</td>\n",
       "    </tr>\n",
       "    <tr>\n",
       "      <th>3</th>\n",
       "      <td>2023-07-31 07:17:49+00:00</td>\n",
       "      <td>DE</td>\n",
       "      <td>20886.0</td>\n",
       "      <td>bn:t Blatzheim Networks Telecom GmbH</td>\n",
       "      <td>DE</td>\n",
       "      <td>51167.0</td>\n",
       "      <td>Contabo GmbH</td>\n",
       "      <td>http:spam</td>\n",
       "      <td>2</td>\n",
       "      <td>4637</td>\n",
       "      <td>0</td>\n",
       "    </tr>\n",
       "    <tr>\n",
       "      <th>4</th>\n",
       "      <td>2023-07-31 07:17:49+00:00</td>\n",
       "      <td>DE</td>\n",
       "      <td>20886.0</td>\n",
       "      <td>bn:t Blatzheim Networks Telecom GmbH</td>\n",
       "      <td>DE</td>\n",
       "      <td>51167.0</td>\n",
       "      <td>Contabo GmbH</td>\n",
       "      <td>http:exploit</td>\n",
       "      <td>2</td>\n",
       "      <td>4637</td>\n",
       "      <td>0</td>\n",
       "    </tr>\n",
       "  </tbody>\n",
       "</table>\n",
       "</div>"
      ],
      "text/plain": [
       "                attack_time watcher_country  watcher_as_num  \\\n",
       "0 2023-07-31 07:17:51+00:00              DE         34011.0   \n",
       "1 2023-07-31 07:17:51+00:00              DE         34011.0   \n",
       "2 2023-07-31 07:17:49+00:00              DE         20886.0   \n",
       "3 2023-07-31 07:17:49+00:00              DE         20886.0   \n",
       "4 2023-07-31 07:17:49+00:00              DE         20886.0   \n",
       "\n",
       "                        watcher_as_name attacker_country  attacker_as_num  \\\n",
       "0                      Host Europe GmbH               TR          47721.0   \n",
       "1                      Host Europe GmbH               TR          47721.0   \n",
       "2  bn:t Blatzheim Networks Telecom GmbH               DE          51167.0   \n",
       "3  bn:t Blatzheim Networks Telecom GmbH               DE          51167.0   \n",
       "4  bn:t Blatzheim Networks Telecom GmbH               DE          51167.0   \n",
       "\n",
       "  attacker_as_name      attack_type  watcher_uuid_enum  attacker_ip_enum  \\\n",
       "0      Murat Aktas     http:exploit                  0              6466   \n",
       "1      Murat Aktas        http:spam                  0              6466   \n",
       "2     Contabo GmbH  http:bruteforce                  2              4637   \n",
       "3     Contabo GmbH        http:spam                  2              4637   \n",
       "4     Contabo GmbH     http:exploit                  2              4637   \n",
       "\n",
       "   label  \n",
       "0      0  \n",
       "1      0  \n",
       "2      0  \n",
       "3      0  \n",
       "4      0  "
      ]
     },
     "execution_count": 4,
     "metadata": {},
     "output_type": "execute_result"
    }
   ],
   "source": [
    "df = pd.read_parquet(\"/kaggle/input/vpn-classification/dataset_v2/train.parq\")\n",
    "df.dtypes\n",
    "df.head()"
   ]
  },
  {
   "cell_type": "markdown",
   "id": "f82f03c2",
   "metadata": {
    "papermill": {
     "duration": 0.009114,
     "end_time": "2023-10-01T05:56:07.637017",
     "exception": false,
     "start_time": "2023-10-01T05:56:07.627903",
     "status": "completed"
    },
    "tags": []
   },
   "source": [
    "# Useful concepts\n",
    "\n",
    "This section serves to explain some useful concepts to people unfamilliar with networks and security topics. \n",
    "\n",
    "## AS (Autonomous systems)\n",
    "\n",
    "The dataset contains AS information for both the attacker and the security engine. An autonomous system is a top-level owner of an IP address. For end users it is usually the internet service provider. If you host an instance somewhere in the cloud, the IP is usually owned by the hoster itself (DIGITALOCEAN, AMAZON AWS, GOOGLE CLOUD, HETZNER etc.). Every AS can be identified by a unique number, which then can be used to find more information about it on internet. A convenient website such as IP Info easily provide complementary information of a given AS based on its number: [AS1406](https://ipinfo.io/AS1406)\n",
    "\n",
    "IPs belonging to the same AS can present the same specificities in terms of attack types and patterns. Some AS are also more likely to host VPN IPs than others. \n",
    "The ASN could for instance be used to compute trust scores for watchers or attackers as not all hosters are equally vigilant with cleaning up malicious actors.\n",
    "\n",
    "## Attack Description\n",
    "\n",
    "The `attack_type` column contains information about the attack that was detected, e.g. `ssh:bruteforce`. It is split into two parts of information: the attack service (http, ssh, windows etc.) and the attack type (bruteforce, exploit, spam etc.). You may find the full list in the [Behavior section of CrowdSec CTI Documentation](https://docs.crowdsec.net/docs/next/cti_api/taxonomy/#behaviors)\n",
    "\n",
    "The attack service is mostly self-explanatory with a lot of common known protocols. `http` is for web based attacks, `ssh` for secure shell (remote login for linux basically) `windows` is the umbrella category for all attacks that are detected in windows logs, `tcp` is for network attacks that operate below the `http` layer. There are a few rare ones, `pop3/imap` collects attacks targeting mail servers and `sip` collects attacks targeting VoIP (internet telephone).  \n",
    "\n",
    "The attack type covers the basic [MITRE](https://attack.mitre.org/) classifications of cyber attacks. `bruteforce` covers attacks with work through enumeration (trying passwords at random for instance), `exploit` covers attacks that abuse specific vulnerabilities in software like [log4shell](https://en.wikipedia.org/wiki/Log4Shell), `spam` covers spamming attacks, usually directed at some form (input field) on a website, `scan` covers attacks that try to detected services and open ports, usually as reconnaissance for more targeted attacks and `crawl` is refers to attacks the try to generate sitemaps and the like on the http layer. \n",
    "\n",
    "The scenario information can for instance be used as a feature directly to separate different types of annonymization services. Importantly, proxies can only be used at the HTTP layer, so a proxy IP is not supposed to be reported for SSH attacks.\n",
    "Another way of using the attack type can be to group watchers by the kind of services they expose. \n",
    "\n",
    "## Shodan info\n",
    "\n",
    "There is an additional dataset that comes with our trainset called `shodan_info_hashed`. The `shodan_info` column contains data we enrich from the third-party threat intelligence provider [shodan.io](https://www.shodan.io/). The column contains a dictionary that contains the open ports of a given attacker and the protocol these ports support.  \n",
    "For instance take the following example: \n",
    "```\n",
    "{'443/tcp': {'headers_hash': -1035061394,\n",
    "  'jarm': '2ad2ad16d00000022c2ad2ad2ad2adbc07bc352a188303b518c8a273c71220',\n",
    "  'ja3s': '986571066668055ae9481cb84fda634a'}}\n",
    "```\n",
    "The key `443/tcp` tells us that this attacker has port `443` open and accessible using `tcp`. For most ports there are conventions on what services are usually found on it. [Wikipedia](https://en.wikipedia.org/wiki/List_of_TCP_and_UDP_port_numbers) has a good list. If the port in question supports `http` we include a `headers_hash` which is a somewhat unique fingerprint. For connections that support `ssl` we include the `jarm` and `ja3s` which both offer ways to fingerprint specific device configurations, and can certainly be useful for the challenge.\n"
   ]
  },
  {
   "cell_type": "markdown",
   "id": "c5e2eb28",
   "metadata": {
    "papermill": {
     "duration": 0.008968,
     "end_time": "2023-10-01T05:56:07.655274",
     "exception": false,
     "start_time": "2023-10-01T05:56:07.646306",
     "status": "completed"
    },
    "tags": []
   },
   "source": [
    "## Viz\n",
    "\n",
    "We plot the distribution of attack types and the label. The dataset is highly imbalanced"
   ]
  },
  {
   "cell_type": "code",
   "execution_count": 5,
   "id": "a90ce92a",
   "metadata": {
    "execution": {
     "iopub.execute_input": "2023-10-01T05:56:07.676535Z",
     "iopub.status.busy": "2023-10-01T05:56:07.676129Z",
     "iopub.status.idle": "2023-10-01T05:56:11.081102Z",
     "shell.execute_reply": "2023-10-01T05:56:11.079794Z"
    },
    "papermill": {
     "duration": 3.419525,
     "end_time": "2023-10-01T05:56:11.084146",
     "exception": false,
     "start_time": "2023-10-01T05:56:07.664621",
     "status": "completed"
    },
    "tags": []
   },
   "outputs": [
    {
     "data": {
      "image/png": "[encoded data removed]",
      "text/plain": [
       "<Figure size 1400x700 with 1 Axes>"
      ]
     },
     "metadata": {},
     "output_type": "display_data"
    }
   ],
   "source": [
    "_ = plt.figure(figsize=(14, 7))\n",
    "_ = sns.countplot(x=df[\"attack_type\"])\n",
    "_ = plt.xticks(rotation=90)\n",
    "plt.show()"
   ]
  },
  {
   "cell_type": "code",
   "execution_count": 6,
   "id": "2555468e",
   "metadata": {
    "execution": {
     "iopub.execute_input": "2023-10-01T05:56:11.107351Z",
     "iopub.status.busy": "2023-10-01T05:56:11.106045Z",
     "iopub.status.idle": "2023-10-01T05:56:12.404686Z",
     "shell.execute_reply": "2023-10-01T05:56:12.403610Z"
    },
    "papermill": {
     "duration": 1.312346,
     "end_time": "2023-10-01T05:56:12.406802",
     "exception": false,
     "start_time": "2023-10-01T05:56:11.094456",
     "status": "completed"
    },
    "tags": []
   },
   "outputs": [
    {
     "data": {
      "image/png": "[encoded data removed]",
      "text/plain": [
       "<Figure size 1400x700 with 1 Axes>"
      ]
     },
     "metadata": {},
     "output_type": "display_data"
    }
   ],
   "source": [
    "_ = plt.figure(figsize=(14, 7))\n",
    "# Counting the number of labels for each IP (hence the groupby)\n",
    "_ = sns.countplot(x=df.groupby(\"attacker_ip_enum\")[\"label\"].max())\n",
    "_ = plt.xticks(rotation=90)\n",
    "plt.show()"
   ]
  },
  {
   "cell_type": "markdown",
   "id": "b6b5a5a2",
   "metadata": {
    "papermill": {
     "duration": 0.009409,
     "end_time": "2023-10-01T05:56:12.426059",
     "exception": false,
     "start_time": "2023-10-01T05:56:12.416650",
     "status": "completed"
    },
    "tags": []
   },
   "source": [
    "# Basic Model\n",
    "\n",
    "We train a very simple RandomForestClassifier on the dataset using a standard train-test split to verify the results. \n",
    "\n",
    "As the prediction is on a per-attacker basis, we build features using pandas groupby and aggregation operations.\n",
    "\n",
    "## Feature Engineering\n",
    "\n",
    "As features we use:\n",
    "\n",
    "* a one-hot encoding of the attack service\n",
    "* a one-hot encoding of the attack type (normalized)\n",
    "* a one-hot encoding of some of the most common ports\n",
    "* total number of open ports"
   ]
  },
  {
   "cell_type": "markdown",
   "id": "81ebb21b",
   "metadata": {
    "papermill": {
     "duration": 0.06866,
     "end_time": "2023-10-01T05:56:12.504162",
     "exception": false,
     "start_time": "2023-10-01T05:56:12.435502",
     "status": "completed"
    },
    "tags": []
   },
   "source": [
    "### One-hot attack types\n",
    "We first split the `attack_type` into `service` and `type` and use `pd.get_dummies()`"
   ]
  },
  {
   "cell_type": "code",
   "execution_count": 7,
   "id": "2b306eaa",
   "metadata": {
    "execution": {
     "iopub.execute_input": "2023-10-01T05:56:12.525663Z",
     "iopub.status.busy": "2023-10-01T05:56:12.525054Z",
     "iopub.status.idle": "2023-10-01T05:56:49.112875Z",
     "shell.execute_reply": "2023-10-01T05:56:49.111722Z"
    },
    "papermill": {
     "duration": 36.602052,
     "end_time": "2023-10-01T05:56:49.115985",
     "exception": false,
     "start_time": "2023-10-01T05:56:12.513933",
     "status": "completed"
    },
    "tags": []
   },
   "outputs": [],
   "source": [
    "attack_types_df = (\n",
    "    df.attack_type.str.split(\":\", expand=True)\n",
    "    .rename(columns={0: \"service\", 1: \"type\"})\n",
    "    .set_index(df[\"attacker_ip_enum\"])\n",
    ")"
   ]
  },
  {
   "cell_type": "code",
   "execution_count": 8,
   "id": "3b9918bb",
   "metadata": {
    "execution": {
     "iopub.execute_input": "2023-10-01T05:56:49.139088Z",
     "iopub.status.busy": "2023-10-01T05:56:49.138722Z",
     "iopub.status.idle": "2023-10-01T05:56:58.022756Z",
     "shell.execute_reply": "2023-10-01T05:56:58.021395Z"
    },
    "papermill": {
     "duration": 8.898649,
     "end_time": "2023-10-01T05:56:58.025427",
     "exception": false,
     "start_time": "2023-10-01T05:56:49.126778",
     "status": "completed"
    },
    "tags": []
   },
   "outputs": [
    {
     "data": {
      "text/html": [
       "<div>\n",
       "<style scoped>\n",
       "    .dataframe tbody tr th:only-of-type {\n",
       "        vertical-align: middle;\n",
       "    }\n",
       "\n",
       "    .dataframe tbody tr th {\n",
       "        vertical-align: top;\n",
       "    }\n",
       "\n",
       "    .dataframe thead th {\n",
       "        text-align: right;\n",
       "    }\n",
       "</style>\n",
       "<table border=\"1\" class=\"dataframe\">\n",
       "  <thead>\n",
       "    <tr style=\"text-align: right;\">\n",
       "      <th></th>\n",
       "      <th>database</th>\n",
       "      <th>ftp</th>\n",
       "      <th>http</th>\n",
       "      <th>pop3/imap</th>\n",
       "      <th>sip</th>\n",
       "      <th>smb</th>\n",
       "      <th>ssh</th>\n",
       "      <th>tcp</th>\n",
       "      <th>telnet</th>\n",
       "      <th>unknown</th>\n",
       "      <th>windows</th>\n",
       "    </tr>\n",
       "    <tr>\n",
       "      <th>attacker_ip_enum</th>\n",
       "      <th></th>\n",
       "      <th></th>\n",
       "      <th></th>\n",
       "      <th></th>\n",
       "      <th></th>\n",
       "      <th></th>\n",
       "      <th></th>\n",
       "      <th></th>\n",
       "      <th></th>\n",
       "      <th></th>\n",
       "      <th></th>\n",
       "    </tr>\n",
       "  </thead>\n",
       "  <tbody>\n",
       "    <tr>\n",
       "      <th>0</th>\n",
       "      <td>0</td>\n",
       "      <td>0</td>\n",
       "      <td>1</td>\n",
       "      <td>0</td>\n",
       "      <td>0</td>\n",
       "      <td>0</td>\n",
       "      <td>0</td>\n",
       "      <td>0</td>\n",
       "      <td>0</td>\n",
       "      <td>0</td>\n",
       "      <td>0</td>\n",
       "    </tr>\n",
       "    <tr>\n",
       "      <th>1</th>\n",
       "      <td>0</td>\n",
       "      <td>0</td>\n",
       "      <td>1</td>\n",
       "      <td>0</td>\n",
       "      <td>0</td>\n",
       "      <td>0</td>\n",
       "      <td>0</td>\n",
       "      <td>0</td>\n",
       "      <td>0</td>\n",
       "      <td>0</td>\n",
       "      <td>0</td>\n",
       "    </tr>\n",
       "    <tr>\n",
       "      <th>2</th>\n",
       "      <td>0</td>\n",
       "      <td>0</td>\n",
       "      <td>1</td>\n",
       "      <td>0</td>\n",
       "      <td>0</td>\n",
       "      <td>0</td>\n",
       "      <td>0</td>\n",
       "      <td>0</td>\n",
       "      <td>0</td>\n",
       "      <td>0</td>\n",
       "      <td>0</td>\n",
       "    </tr>\n",
       "    <tr>\n",
       "      <th>3</th>\n",
       "      <td>0</td>\n",
       "      <td>0</td>\n",
       "      <td>1</td>\n",
       "      <td>0</td>\n",
       "      <td>0</td>\n",
       "      <td>0</td>\n",
       "      <td>0</td>\n",
       "      <td>0</td>\n",
       "      <td>0</td>\n",
       "      <td>0</td>\n",
       "      <td>0</td>\n",
       "    </tr>\n",
       "    <tr>\n",
       "      <th>4</th>\n",
       "      <td>0</td>\n",
       "      <td>0</td>\n",
       "      <td>1</td>\n",
       "      <td>0</td>\n",
       "      <td>0</td>\n",
       "      <td>0</td>\n",
       "      <td>0</td>\n",
       "      <td>0</td>\n",
       "      <td>0</td>\n",
       "      <td>0</td>\n",
       "      <td>0</td>\n",
       "    </tr>\n",
       "  </tbody>\n",
       "</table>\n",
       "</div>"
      ],
      "text/plain": [
       "                  database  ftp  http  pop3/imap  sip  smb  ssh  tcp  telnet  \\\n",
       "attacker_ip_enum                                                               \n",
       "0                        0    0     1          0    0    0    0    0       0   \n",
       "1                        0    0     1          0    0    0    0    0       0   \n",
       "2                        0    0     1          0    0    0    0    0       0   \n",
       "3                        0    0     1          0    0    0    0    0       0   \n",
       "4                        0    0     1          0    0    0    0    0       0   \n",
       "\n",
       "                  unknown  windows  \n",
       "attacker_ip_enum                    \n",
       "0                       0        0  \n",
       "1                       0        0  \n",
       "2                       0        0  \n",
       "3                       0        0  \n",
       "4                       0        0  "
      ]
     },
     "execution_count": 8,
     "metadata": {},
     "output_type": "execute_result"
    }
   ],
   "source": [
    "one_hot_attack_service_df = pd.get_dummies(\n",
    "    # Dropping duplicated service before calling get dummies\n",
    "    attack_types_df.reset_index()\n",
    "    .drop_duplicates(subset=[\"attacker_ip_enum\", \"service\"])\n",
    "    .set_index(\"attacker_ip_enum\")[\"service\"]\n",
    "    # ,sparse=True\n",
    ")\n",
    "one_hot_attack_service_df = one_hot_attack_service_df.groupby(\"attacker_ip_enum\").sum()\n",
    "# We group by ip_enum and keep only strictly positive values\n",
    "one_hot_attack_service_df = (one_hot_attack_service_df >= 1).astype(int)\n",
    "one_hot_attack_service_df.head()"
   ]
  },
  {
   "cell_type": "code",
   "execution_count": 9,
   "id": "558eaf8f",
   "metadata": {
    "execution": {
     "iopub.execute_input": "2023-10-01T05:56:58.050580Z",
     "iopub.status.busy": "2023-10-01T05:56:58.050200Z",
     "iopub.status.idle": "2023-10-01T05:57:09.228248Z",
     "shell.execute_reply": "2023-10-01T05:57:09.227057Z"
    },
    "papermill": {
     "duration": 11.193095,
     "end_time": "2023-10-01T05:57:09.230491",
     "exception": false,
     "start_time": "2023-10-01T05:56:58.037396",
     "status": "completed"
    },
    "tags": []
   },
   "outputs": [
    {
     "data": {
      "text/html": [
       "<div>\n",
       "<style scoped>\n",
       "    .dataframe tbody tr th:only-of-type {\n",
       "        vertical-align: middle;\n",
       "    }\n",
       "\n",
       "    .dataframe tbody tr th {\n",
       "        vertical-align: top;\n",
       "    }\n",
       "\n",
       "    .dataframe thead th {\n",
       "        text-align: right;\n",
       "    }\n",
       "</style>\n",
       "<table border=\"1\" class=\"dataframe\">\n",
       "  <thead>\n",
       "    <tr style=\"text-align: right;\">\n",
       "      <th></th>\n",
       "      <th>bruteforce</th>\n",
       "      <th>crawl</th>\n",
       "      <th>exploit</th>\n",
       "      <th>scan</th>\n",
       "      <th>spam</th>\n",
       "      <th>unknown</th>\n",
       "    </tr>\n",
       "    <tr>\n",
       "      <th>attacker_ip_enum</th>\n",
       "      <th></th>\n",
       "      <th></th>\n",
       "      <th></th>\n",
       "      <th></th>\n",
       "      <th></th>\n",
       "      <th></th>\n",
       "    </tr>\n",
       "  </thead>\n",
       "  <tbody>\n",
       "    <tr>\n",
       "      <th>0</th>\n",
       "      <td>0.000000</td>\n",
       "      <td>0.0</td>\n",
       "      <td>0.000000</td>\n",
       "      <td>0.500000</td>\n",
       "      <td>0.500000</td>\n",
       "      <td>0.0</td>\n",
       "    </tr>\n",
       "    <tr>\n",
       "      <th>1</th>\n",
       "      <td>0.266667</td>\n",
       "      <td>0.0</td>\n",
       "      <td>0.466667</td>\n",
       "      <td>0.033333</td>\n",
       "      <td>0.233333</td>\n",
       "      <td>0.0</td>\n",
       "    </tr>\n",
       "    <tr>\n",
       "      <th>2</th>\n",
       "      <td>0.000000</td>\n",
       "      <td>0.0</td>\n",
       "      <td>0.000000</td>\n",
       "      <td>0.931034</td>\n",
       "      <td>0.068966</td>\n",
       "      <td>0.0</td>\n",
       "    </tr>\n",
       "    <tr>\n",
       "      <th>3</th>\n",
       "      <td>0.080000</td>\n",
       "      <td>0.0</td>\n",
       "      <td>0.600000</td>\n",
       "      <td>0.040000</td>\n",
       "      <td>0.280000</td>\n",
       "      <td>0.0</td>\n",
       "    </tr>\n",
       "    <tr>\n",
       "      <th>4</th>\n",
       "      <td>0.235294</td>\n",
       "      <td>0.0</td>\n",
       "      <td>0.455882</td>\n",
       "      <td>0.058824</td>\n",
       "      <td>0.250000</td>\n",
       "      <td>0.0</td>\n",
       "    </tr>\n",
       "    <tr>\n",
       "      <th>6</th>\n",
       "      <td>0.000000</td>\n",
       "      <td>0.0</td>\n",
       "      <td>0.021739</td>\n",
       "      <td>0.847826</td>\n",
       "      <td>0.130435</td>\n",
       "      <td>0.0</td>\n",
       "    </tr>\n",
       "    <tr>\n",
       "      <th>8</th>\n",
       "      <td>0.235294</td>\n",
       "      <td>0.0</td>\n",
       "      <td>0.470588</td>\n",
       "      <td>0.058824</td>\n",
       "      <td>0.235294</td>\n",
       "      <td>0.0</td>\n",
       "    </tr>\n",
       "    <tr>\n",
       "      <th>9</th>\n",
       "      <td>0.250000</td>\n",
       "      <td>0.0</td>\n",
       "      <td>0.500000</td>\n",
       "      <td>0.000000</td>\n",
       "      <td>0.250000</td>\n",
       "      <td>0.0</td>\n",
       "    </tr>\n",
       "    <tr>\n",
       "      <th>11</th>\n",
       "      <td>0.006250</td>\n",
       "      <td>0.0</td>\n",
       "      <td>0.006250</td>\n",
       "      <td>0.793750</td>\n",
       "      <td>0.193750</td>\n",
       "      <td>0.0</td>\n",
       "    </tr>\n",
       "    <tr>\n",
       "      <th>12</th>\n",
       "      <td>0.226190</td>\n",
       "      <td>0.0</td>\n",
       "      <td>0.511905</td>\n",
       "      <td>0.083333</td>\n",
       "      <td>0.178571</td>\n",
       "      <td>0.0</td>\n",
       "    </tr>\n",
       "  </tbody>\n",
       "</table>\n",
       "</div>"
      ],
      "text/plain": [
       "                  bruteforce  crawl   exploit      scan      spam  unknown\n",
       "attacker_ip_enum                                                          \n",
       "0                   0.000000    0.0  0.000000  0.500000  0.500000      0.0\n",
       "1                   0.266667    0.0  0.466667  0.033333  0.233333      0.0\n",
       "2                   0.000000    0.0  0.000000  0.931034  0.068966      0.0\n",
       "3                   0.080000    0.0  0.600000  0.040000  0.280000      0.0\n",
       "4                   0.235294    0.0  0.455882  0.058824  0.250000      0.0\n",
       "6                   0.000000    0.0  0.021739  0.847826  0.130435      0.0\n",
       "8                   0.235294    0.0  0.470588  0.058824  0.235294      0.0\n",
       "9                   0.250000    0.0  0.500000  0.000000  0.250000      0.0\n",
       "11                  0.006250    0.0  0.006250  0.793750  0.193750      0.0\n",
       "12                  0.226190    0.0  0.511905  0.083333  0.178571      0.0"
      ]
     },
     "execution_count": 9,
     "metadata": {},
     "output_type": "execute_result"
    }
   ],
   "source": [
    "one_hot_attack_types_df = pd.get_dummies(\n",
    "    attack_types_df[\"type\"],\n",
    "    # sparse=True\n",
    ")\n",
    "one_hot_attack_types_df = one_hot_attack_types_df.groupby(\"attacker_ip_enum\").sum()\n",
    "# We group by ip_enum and normalized by the number of attack to get a distribyution\n",
    "one_hot_attack_types_df = one_hot_attack_types_df / one_hot_attack_types_df.sum(\n",
    "    1\n",
    ").values.reshape(-1, 1)\n",
    "one_hot_attack_types_df.head(10)"
   ]
  },
  {
   "cell_type": "markdown",
   "id": "4491c9c0",
   "metadata": {
    "papermill": {
     "duration": 0.011291,
     "end_time": "2023-10-01T05:57:09.253091",
     "exception": false,
     "start_time": "2023-10-01T05:57:09.241800",
     "status": "completed"
    },
    "tags": []
   },
   "source": [
    "### Open ports Feature\n",
    "\n",
    "As the port information is collected on a per-attacker basis we only have one row per attacker IP, so we don't need to use `pd.groupby()` this time."
   ]
  },
  {
   "cell_type": "code",
   "execution_count": 10,
   "id": "115340b1",
   "metadata": {
    "execution": {
     "iopub.execute_input": "2023-10-01T05:57:09.277484Z",
     "iopub.status.busy": "2023-10-01T05:57:09.276876Z",
     "iopub.status.idle": "2023-10-01T05:57:14.891679Z",
     "shell.execute_reply": "2023-10-01T05:57:14.890008Z"
    },
    "papermill": {
     "duration": 5.63088,
     "end_time": "2023-10-01T05:57:14.894988",
     "exception": false,
     "start_time": "2023-10-01T05:57:09.264108",
     "status": "completed"
    },
    "tags": []
   },
   "outputs": [],
   "source": [
    "REFERENCE_PORTS = set((\"22\", \"80\", \"443\", \"7777\"))\n",
    "\n",
    "\n",
    "def extract_port_numbers(value: dict):\n",
    "    return set(key.split(\"/\")[0] for key in value.keys())\n",
    "\n",
    "\n",
    "shodan_df = pd.read_csv(\n",
    "    \"/kaggle/input/vpn-classification/dataset_v2/shodan_df_hashed.csv\",\n",
    "    dtype={\"attacker_ip_enum\": \"int32\"},\n",
    "    index_col=\"attacker_ip_enum\",\n",
    ")\n",
    "shodan_df[\"shodan_info\"] = shodan_df[\"shodan_info\"].map(ast.literal_eval)\n",
    "shodan_df[\"shodan_open_ports\"] = shodan_df[\"shodan_info\"].map(extract_port_numbers)"
   ]
  },
  {
   "cell_type": "code",
   "execution_count": 11,
   "id": "10805f21",
   "metadata": {
    "execution": {
     "iopub.execute_input": "2023-10-01T05:57:14.918198Z",
     "iopub.status.busy": "2023-10-01T05:57:14.917748Z",
     "iopub.status.idle": "2023-10-01T05:57:15.695290Z",
     "shell.execute_reply": "2023-10-01T05:57:15.694171Z"
    },
    "papermill": {
     "duration": 0.792004,
     "end_time": "2023-10-01T05:57:15.697823",
     "exception": false,
     "start_time": "2023-10-01T05:57:14.905819",
     "status": "completed"
    },
    "tags": []
   },
   "outputs": [
    {
     "data": {
      "text/html": [
       "<div>\n",
       "<style scoped>\n",
       "    .dataframe tbody tr th:only-of-type {\n",
       "        vertical-align: middle;\n",
       "    }\n",
       "\n",
       "    .dataframe tbody tr th {\n",
       "        vertical-align: top;\n",
       "    }\n",
       "\n",
       "    .dataframe thead th {\n",
       "        text-align: right;\n",
       "    }\n",
       "</style>\n",
       "<table border=\"1\" class=\"dataframe\">\n",
       "  <thead>\n",
       "    <tr style=\"text-align: right;\">\n",
       "      <th></th>\n",
       "      <th>port_22</th>\n",
       "      <th>port_443</th>\n",
       "      <th>port_7777</th>\n",
       "      <th>port_80</th>\n",
       "      <th>open_ports_count</th>\n",
       "    </tr>\n",
       "    <tr>\n",
       "      <th>attacker_ip_enum</th>\n",
       "      <th></th>\n",
       "      <th></th>\n",
       "      <th></th>\n",
       "      <th></th>\n",
       "      <th></th>\n",
       "    </tr>\n",
       "  </thead>\n",
       "  <tbody>\n",
       "    <tr>\n",
       "      <th>5</th>\n",
       "      <td>0</td>\n",
       "      <td>0</td>\n",
       "      <td>0</td>\n",
       "      <td>1</td>\n",
       "      <td>2</td>\n",
       "    </tr>\n",
       "    <tr>\n",
       "      <th>7</th>\n",
       "      <td>1</td>\n",
       "      <td>1</td>\n",
       "      <td>0</td>\n",
       "      <td>1</td>\n",
       "      <td>6</td>\n",
       "    </tr>\n",
       "    <tr>\n",
       "      <th>13</th>\n",
       "      <td>0</td>\n",
       "      <td>0</td>\n",
       "      <td>0</td>\n",
       "      <td>1</td>\n",
       "      <td>6</td>\n",
       "    </tr>\n",
       "    <tr>\n",
       "      <th>18</th>\n",
       "      <td>1</td>\n",
       "      <td>0</td>\n",
       "      <td>0</td>\n",
       "      <td>0</td>\n",
       "      <td>1</td>\n",
       "    </tr>\n",
       "    <tr>\n",
       "      <th>24</th>\n",
       "      <td>0</td>\n",
       "      <td>1</td>\n",
       "      <td>0</td>\n",
       "      <td>1</td>\n",
       "      <td>15</td>\n",
       "    </tr>\n",
       "  </tbody>\n",
       "</table>\n",
       "</div>"
      ],
      "text/plain": [
       "                  port_22  port_443  port_7777  port_80  open_ports_count\n",
       "attacker_ip_enum                                                         \n",
       "5                       0         0          0        1                 2\n",
       "7                       1         1          0        1                 6\n",
       "13                      0         0          0        1                 6\n",
       "18                      1         0          0        0                 1\n",
       "24                      0         1          0        1                15"
      ]
     },
     "execution_count": 11,
     "metadata": {},
     "output_type": "execute_result"
    }
   ],
   "source": [
    "open_ports_count = shodan_df[\"shodan_open_ports\"].map(len).rename(\"open_ports_count\")\n",
    "# We select the reference port by doing a set intersection\n",
    "reference_ports_df = shodan_df[\"shodan_open_ports\"].map(lambda x: REFERENCE_PORTS & x)\n",
    "\n",
    "one_hot_reference_ports_df = pd.get_dummies(reference_ports_df.explode(), prefix=\"port\")\n",
    "# Aggregate the dummies by IP\n",
    "one_hot_reference_ports_df = one_hot_reference_ports_df.groupby(\n",
    "    \"attacker_ip_enum\"\n",
    ").sum()\n",
    "# Final feature for port: count and one hot table of reference port\n",
    "ports_features_df = pd.concat([one_hot_reference_ports_df, open_ports_count], axis=1)\n",
    "# Checking results\n",
    "ports_features_df[(ports_features_df > 0).any(axis=1)].head()"
   ]
  },
  {
   "cell_type": "markdown",
   "id": "be447ee9",
   "metadata": {
    "papermill": {
     "duration": 0.011213,
     "end_time": "2023-10-01T05:57:15.720652",
     "exception": false,
     "start_time": "2023-10-01T05:57:15.709439",
     "status": "completed"
    },
    "tags": []
   },
   "source": [
    "### Feature Aggregation\n",
    "\n",
    "We merge our engineered features together with the labels from the `label` column to get a tabular dataset with can start training on. Note that we use `join=\"inner\"` because  `ports_df` also includes the attackers in the test set (leaderboard)"
   ]
  },
  {
   "cell_type": "code",
   "execution_count": 12,
   "id": "786d8062",
   "metadata": {
    "execution": {
     "iopub.execute_input": "2023-10-01T05:57:15.747179Z",
     "iopub.status.busy": "2023-10-01T05:57:15.746611Z",
     "iopub.status.idle": "2023-10-01T05:57:18.003124Z",
     "shell.execute_reply": "2023-10-01T05:57:18.001703Z"
    },
    "papermill": {
     "duration": 2.273335,
     "end_time": "2023-10-01T05:57:18.006191",
     "exception": false,
     "start_time": "2023-10-01T05:57:15.732856",
     "status": "completed"
    },
    "tags": []
   },
   "outputs": [],
   "source": [
    "# We create a df label df which contains one row per attacker IP\n",
    "label_df = df.drop_duplicates([\"attacker_ip_enum\", \"label\"]).set_index(\n",
    "    \"attacker_ip_enum\"\n",
    ")[\"label\"]\n",
    "\n",
    "dataset = pd.concat(\n",
    "    [\n",
    "        one_hot_attack_types_df,\n",
    "        one_hot_attack_service_df,\n",
    "        ports_features_df,\n",
    "        label_df,\n",
    "    ],\n",
    "    axis=1,\n",
    "    join=\"inner\",\n",
    ")"
   ]
  },
  {
   "cell_type": "markdown",
   "id": "593f35d4",
   "metadata": {
    "papermill": {
     "duration": 0.010738,
     "end_time": "2023-10-01T05:57:18.029337",
     "exception": false,
     "start_time": "2023-10-01T05:57:18.018599",
     "status": "completed"
    },
    "tags": []
   },
   "source": [
    "## Upsampling and Downsampling\n",
    "\n",
    "Something needs to be done to address the label imbalance. There is a lot of literature on how to address labeling imbalance, so pick your poison.  \n",
    "\n",
    "In the test set for the leaderboard this is addressed by the F1 scoring that we used. This is to ensure that we have proper data to predict and that the leaderboard cannot be gamed by models which simply predict 0 for every label. \n",
    "\n",
    "For the demo we opted to use a RandomForest without any up or downsamplig, but we have included code to show an example of the two approaches just in case.\n"
   ]
  },
  {
   "cell_type": "code",
   "execution_count": 13,
   "id": "d953eb2a",
   "metadata": {
    "execution": {
     "iopub.execute_input": "2023-10-01T05:57:18.053483Z",
     "iopub.status.busy": "2023-10-01T05:57:18.053031Z",
     "iopub.status.idle": "2023-10-01T05:57:18.951416Z",
     "shell.execute_reply": "2023-10-01T05:57:18.950275Z"
    },
    "papermill": {
     "duration": 0.913839,
     "end_time": "2023-10-01T05:57:18.954262",
     "exception": false,
     "start_time": "2023-10-01T05:57:18.040423",
     "status": "completed"
    },
    "tags": []
   },
   "outputs": [],
   "source": [
    "from imblearn.over_sampling import ADASYN\n",
    "from imblearn.under_sampling import RandomUnderSampler\n",
    "from sklearn.model_selection import train_test_split"
   ]
  },
  {
   "cell_type": "code",
   "execution_count": 14,
   "id": "54a12976",
   "metadata": {
    "execution": {
     "iopub.execute_input": "2023-10-01T05:57:18.979603Z",
     "iopub.status.busy": "2023-10-01T05:57:18.978986Z",
     "iopub.status.idle": "2023-10-01T05:57:19.036412Z",
     "shell.execute_reply": "2023-10-01T05:57:19.035109Z"
    },
    "papermill": {
     "duration": 0.073533,
     "end_time": "2023-10-01T05:57:19.039465",
     "exception": false,
     "start_time": "2023-10-01T05:57:18.965932",
     "status": "completed"
    },
    "tags": []
   },
   "outputs": [],
   "source": [
    "train, test = train_test_split(dataset, test_size=0.3)"
   ]
  },
  {
   "cell_type": "code",
   "execution_count": 15,
   "id": "86978294",
   "metadata": {
    "execution": {
     "iopub.execute_input": "2023-10-01T05:57:19.064457Z",
     "iopub.status.busy": "2023-10-01T05:57:19.064080Z",
     "iopub.status.idle": "2023-10-01T05:57:19.092176Z",
     "shell.execute_reply": "2023-10-01T05:57:19.090711Z"
    },
    "papermill": {
     "duration": 0.044081,
     "end_time": "2023-10-01T05:57:19.095038",
     "exception": false,
     "start_time": "2023-10-01T05:57:19.050957",
     "status": "completed"
    },
    "tags": []
   },
   "outputs": [],
   "source": [
    "X_train_raw = train.drop([\"label\"], axis=1)\n",
    "y_train_raw = train[\"label\"]\n",
    "X_test_raw = test.drop([\"label\"], axis=1)\n",
    "y_test_raw = test[\"label\"]"
   ]
  },
  {
   "cell_type": "code",
   "execution_count": 16,
   "id": "f2cc0c4f",
   "metadata": {
    "execution": {
     "iopub.execute_input": "2023-10-01T05:57:19.118610Z",
     "iopub.status.busy": "2023-10-01T05:57:19.118103Z",
     "iopub.status.idle": "2023-10-01T05:57:19.123658Z",
     "shell.execute_reply": "2023-10-01T05:57:19.122317Z"
    },
    "papermill": {
     "duration": 0.019994,
     "end_time": "2023-10-01T05:57:19.125943",
     "exception": false,
     "start_time": "2023-10-01T05:57:19.105949",
     "status": "completed"
    },
    "tags": []
   },
   "outputs": [],
   "source": [
    "# under = RandomUnderSampler(replacement=False)\n",
    "# over = ADASYN(n_neighbors = 10, n_jobs=-1)"
   ]
  },
  {
   "cell_type": "code",
   "execution_count": 17,
   "id": "4c1b8680",
   "metadata": {
    "execution": {
     "iopub.execute_input": "2023-10-01T05:57:19.149258Z",
     "iopub.status.busy": "2023-10-01T05:57:19.148810Z",
     "iopub.status.idle": "2023-10-01T05:57:19.153946Z",
     "shell.execute_reply": "2023-10-01T05:57:19.152760Z"
    },
    "papermill": {
     "duration": 0.019535,
     "end_time": "2023-10-01T05:57:19.156158",
     "exception": false,
     "start_time": "2023-10-01T05:57:19.136623",
     "status": "completed"
    },
    "tags": []
   },
   "outputs": [],
   "source": [
    "# X_train, y_train = over.fit_resample(X_train_raw, y_train_raw)\n",
    "# X_test, y_test = under.fit_resample(X_test_raw, y_test_raw)"
   ]
  },
  {
   "cell_type": "code",
   "execution_count": 18,
   "id": "cbc1f062",
   "metadata": {
    "execution": {
     "iopub.execute_input": "2023-10-01T05:57:19.181246Z",
     "iopub.status.busy": "2023-10-01T05:57:19.180848Z",
     "iopub.status.idle": "2023-10-01T05:57:19.185235Z",
     "shell.execute_reply": "2023-10-01T05:57:19.184500Z"
    },
    "papermill": {
     "duration": 0.019976,
     "end_time": "2023-10-01T05:57:19.187633",
     "exception": false,
     "start_time": "2023-10-01T05:57:19.167657",
     "status": "completed"
    },
    "tags": []
   },
   "outputs": [],
   "source": [
    "X_train, y_train = X_train_raw, y_train_raw\n",
    "X_test, y_test = X_test_raw, y_test_raw"
   ]
  },
  {
   "cell_type": "markdown",
   "id": "3aa7b4b8",
   "metadata": {
    "papermill": {
     "duration": 0.011491,
     "end_time": "2023-10-01T05:57:19.212516",
     "exception": false,
     "start_time": "2023-10-01T05:57:19.201025",
     "status": "completed"
    },
    "tags": []
   },
   "source": [
    "## Model training\n",
    "\n",
    "We train a very simple random forest model and optimize the hyperparameters over a grid search.  \n",
    "\n",
    "Depending on the model used, you might have to do some standardization to get nice convergence. For decision tree based models this is not required as it the scale of the axes does not impact the discrete decision boundaries. We nonetheless add it as a demonstration."
   ]
  },
  {
   "cell_type": "code",
   "execution_count": 19,
   "id": "e72e4ac1",
   "metadata": {
    "execution": {
     "iopub.execute_input": "2023-10-01T05:57:19.236797Z",
     "iopub.status.busy": "2023-10-01T05:57:19.236470Z",
     "iopub.status.idle": "2023-10-01T05:57:19.240030Z",
     "shell.execute_reply": "2023-10-01T05:57:19.239389Z"
    },
    "papermill": {
     "duration": 0.018135,
     "end_time": "2023-10-01T05:57:19.241988",
     "exception": false,
     "start_time": "2023-10-01T05:57:19.223853",
     "status": "completed"
    },
    "tags": []
   },
   "outputs": [],
   "source": [
    "from sklearn.preprocessing import StandardScaler"
   ]
  },
  {
   "cell_type": "code",
   "execution_count": 20,
   "id": "4de8cf9d",
   "metadata": {
    "execution": {
     "iopub.execute_input": "2023-10-01T05:57:19.266821Z",
     "iopub.status.busy": "2023-10-01T05:57:19.266118Z",
     "iopub.status.idle": "2023-10-01T05:57:19.319770Z",
     "shell.execute_reply": "2023-10-01T05:57:19.318688Z"
    },
    "papermill": {
     "duration": 0.068826,
     "end_time": "2023-10-01T05:57:19.322423",
     "exception": false,
     "start_time": "2023-10-01T05:57:19.253597",
     "status": "completed"
    },
    "tags": []
   },
   "outputs": [],
   "source": [
    "sc = StandardScaler()\n",
    "X_train = sc.fit_transform(X_train)\n",
    "X_test = sc.transform(X_test)"
   ]
  },
  {
   "cell_type": "code",
   "execution_count": 21,
   "id": "1e326ef1",
   "metadata": {
    "execution": {
     "iopub.execute_input": "2023-10-01T05:57:19.347740Z",
     "iopub.status.busy": "2023-10-01T05:57:19.347344Z",
     "iopub.status.idle": "2023-10-01T05:57:19.352499Z",
     "shell.execute_reply": "2023-10-01T05:57:19.351171Z"
    },
    "papermill": {
     "duration": 0.019994,
     "end_time": "2023-10-01T05:57:19.354771",
     "exception": false,
     "start_time": "2023-10-01T05:57:19.334777",
     "status": "completed"
    },
    "tags": []
   },
   "outputs": [],
   "source": [
    "from sklearn.ensemble import RandomForestClassifier\n",
    "from sklearn.metrics import f1_score\n",
    "from sklearn.model_selection import GridSearchCV"
   ]
  },
  {
   "cell_type": "code",
   "execution_count": 22,
   "id": "056bb8af",
   "metadata": {
    "execution": {
     "iopub.execute_input": "2023-10-01T05:57:19.379106Z",
     "iopub.status.busy": "2023-10-01T05:57:19.378728Z",
     "iopub.status.idle": "2023-10-01T05:57:19.383959Z",
     "shell.execute_reply": "2023-10-01T05:57:19.382892Z"
    },
    "papermill": {
     "duration": 0.02015,
     "end_time": "2023-10-01T05:57:19.386200",
     "exception": false,
     "start_time": "2023-10-01T05:57:19.366050",
     "status": "completed"
    },
    "tags": []
   },
   "outputs": [],
   "source": [
    "parameters = {\n",
    "    \"max_depth\": [None, 10, 20],\n",
    "    \"max_features\": [\"sqrt\", None],\n",
    "    \"class_weight\": [\"balanced\", None],\n",
    "}\n",
    "est = RandomForestClassifier()\n",
    "clf = GridSearchCV(est, parameters, scoring=\"f1\", n_jobs=-1)"
   ]
  },
  {
   "cell_type": "code",
   "execution_count": 23,
   "id": "89d92a8b",
   "metadata": {
    "execution": {
     "iopub.execute_input": "2023-10-01T05:57:19.412249Z",
     "iopub.status.busy": "2023-10-01T05:57:19.411846Z",
     "iopub.status.idle": "2023-10-01T06:03:35.058997Z",
     "shell.execute_reply": "2023-10-01T06:03:35.056660Z"
    },
    "papermill": {
     "duration": 375.675233,
     "end_time": "2023-10-01T06:03:35.073610",
     "exception": false,
     "start_time": "2023-10-01T05:57:19.398377",
     "status": "completed"
    },
    "tags": []
   },
   "outputs": [
    {
     "data": {
      "text/html": [
       "<style>#sk-container-id-1 {color: black;background-color: white;}#sk-container-id-1 pre{padding: 0;}#sk-container-id-1 div.sk-toggleable {background-color: white;}#sk-container-id-1 label.sk-toggleable__label {cursor: pointer;display: block;width: 100%;margin-bottom: 0;padding: 0.3em;box-sizing: border-box;text-align: center;}#sk-container-id-1 label.sk-toggleable__label-arrow:before {content: \"▸\";float: left;margin-right: 0.25em;color: #696969;}#sk-container-id-1 label.sk-toggleable__label-arrow:hover:before {color: black;}#sk-container-id-1 div.sk-estimator:hover label.sk-toggleable__label-arrow:before {color: black;}#sk-container-id-1 div.sk-toggleable__content {max-height: 0;max-width: 0;overflow: hidden;text-align: left;background-color: #f0f8ff;}#sk-container-id-1 div.sk-toggleable__content pre {margin: 0.2em;color: black;border-radius: 0.25em;background-color: #f0f8ff;}#sk-container-id-1 input.sk-toggleable__control:checked~div.sk-toggleable__content {max-height: 200px;max-width: 100%;overflow: auto;}#sk-container-id-1 input.sk-toggleable__control:checked~label.sk-toggleable__label-arrow:before {content: \"▾\";}#sk-container-id-1 div.sk-estimator input.sk-toggleable__control:checked~label.sk-toggleable__label {background-color: #d4ebff;}#sk-container-id-1 div.sk-label input.sk-toggleable__control:checked~label.sk-toggleable__label {background-color: #d4ebff;}#sk-container-id-1 input.sk-hidden--visually {border: 0;clip: rect(1px 1px 1px 1px);clip: rect(1px, 1px, 1px, 1px);height: 1px;margin: -1px;overflow: hidden;padding: 0;position: absolute;width: 1px;}#sk-container-id-1 div.sk-estimator {font-family: monospace;background-color: #f0f8ff;border: 1px dotted black;border-radius: 0.25em;box-sizing: border-box;margin-bottom: 0.5em;}#sk-container-id-1 div.sk-estimator:hover {background-color: #d4ebff;}#sk-container-id-1 div.sk-parallel-item::after {content: \"\";width: 100%;border-bottom: 1px solid gray;flex-grow: 1;}#sk-container-id-1 div.sk-label:hover label.sk-toggleable__label {background-color: #d4ebff;}#sk-container-id-1 div.sk-serial::before {content: \"\";position: absolute;border-left: 1px solid gray;box-sizing: border-box;top: 0;bottom: 0;left: 50%;z-index: 0;}#sk-container-id-1 div.sk-serial {display: flex;flex-direction: column;align-items: center;background-color: white;padding-right: 0.2em;padding-left: 0.2em;position: relative;}#sk-container-id-1 div.sk-item {position: relative;z-index: 1;}#sk-container-id-1 div.sk-parallel {display: flex;align-items: stretch;justify-content: center;background-color: white;position: relative;}#sk-container-id-1 div.sk-item::before, #sk-container-id-1 div.sk-parallel-item::before {content: \"\";position: absolute;border-left: 1px solid gray;box-sizing: border-box;top: 0;bottom: 0;left: 50%;z-index: -1;}#sk-container-id-1 div.sk-parallel-item {display: flex;flex-direction: column;z-index: 1;position: relative;background-color: white;}#sk-container-id-1 div.sk-parallel-item:first-child::after {align-self: flex-end;width: 50%;}#sk-container-id-1 div.sk-parallel-item:last-child::after {align-self: flex-start;width: 50%;}#sk-container-id-1 div.sk-parallel-item:only-child::after {width: 0;}#sk-container-id-1 div.sk-dashed-wrapped {border: 1px dashed gray;margin: 0 0.4em 0.5em 0.4em;box-sizing: border-box;padding-bottom: 0.4em;background-color: white;}#sk-container-id-1 div.sk-label label {font-family: monospace;font-weight: bold;display: inline-block;line-height: 1.2em;}#sk-container-id-1 div.sk-label-container {text-align: center;}#sk-container-id-1 div.sk-container {/* jupyter's `normalize.less` sets `[hidden] { display: none; }` but bootstrap.min.css set `[hidden] { display: none !important; }` so we also need the `!important` here to be able to override the default hidden behavior on the sphinx rendered scikit-learn.org. See: https://github.com/scikit-learn/scikit-learn/issues/21755 */display: inline-block !important;position: relative;}#sk-container-id-1 div.sk-text-repr-fallback {display: none;}</style><div id=\"sk-container-id-1\" class=\"sk-top-container\"><div class=\"sk-text-repr-fallback\"><pre>GridSearchCV(estimator=RandomForestClassifier(), n_jobs=-1,\n",
       "             param_grid={&#x27;class_weight&#x27;: [&#x27;balanced&#x27;, None],\n",
       "                         &#x27;max_depth&#x27;: [None, 10, 20],\n",
       "                         &#x27;max_features&#x27;: [&#x27;sqrt&#x27;, None]},\n",
       "             scoring=&#x27;f1&#x27;)</pre><b>In a Jupyter environment, please rerun this cell to show the HTML representation or trust the notebook. <br />On GitHub, the HTML representation is unable to render, please try loading this page with nbviewer.org.</b></div><div class=\"sk-container\" hidden><div class=\"sk-item sk-dashed-wrapped\"><div class=\"sk-label-container\"><div class=\"sk-label sk-toggleable\"><input class=\"sk-toggleable__control sk-hidden--visually\" id=\"sk-estimator-id-1\" type=\"checkbox\" ><label for=\"sk-estimator-id-1\" class=\"sk-toggleable__label sk-toggleable__label-arrow\">GridSearchCV</label><div class=\"sk-toggleable__content\"><pre>GridSearchCV(estimator=RandomForestClassifier(), n_jobs=-1,\n",
       "             param_grid={&#x27;class_weight&#x27;: [&#x27;balanced&#x27;, None],\n",
       "                         &#x27;max_depth&#x27;: [None, 10, 20],\n",
       "                         &#x27;max_features&#x27;: [&#x27;sqrt&#x27;, None]},\n",
       "             scoring=&#x27;f1&#x27;)</pre></div></div></div><div class=\"sk-parallel\"><div class=\"sk-parallel-item\"><div class=\"sk-item\"><div class=\"sk-label-container\"><div class=\"sk-label sk-toggleable\"><input class=\"sk-toggleable__control sk-hidden--visually\" id=\"sk-estimator-id-2\" type=\"checkbox\" ><label for=\"sk-estimator-id-2\" class=\"sk-toggleable__label sk-toggleable__label-arrow\">estimator: RandomForestClassifier</label><div class=\"sk-toggleable__content\"><pre>RandomForestClassifier()</pre></div></div></div><div class=\"sk-serial\"><div class=\"sk-item\"><div class=\"sk-estimator sk-toggleable\"><input class=\"sk-toggleable__control sk-hidden--visually\" id=\"sk-estimator-id-3\" type=\"checkbox\" ><label for=\"sk-estimator-id-3\" class=\"sk-toggleable__label sk-toggleable__label-arrow\">RandomForestClassifier</label><div class=\"sk-toggleable__content\"><pre>RandomForestClassifier()</pre></div></div></div></div></div></div></div></div></div></div>"
      ],
      "text/plain": [
       "GridSearchCV(estimator=RandomForestClassifier(), n_jobs=-1,\n",
       "             param_grid={'class_weight': ['balanced', None],\n",
       "                         'max_depth': [None, 10, 20],\n",
       "                         'max_features': ['sqrt', None]},\n",
       "             scoring='f1')"
      ]
     },
     "execution_count": 23,
     "metadata": {},
     "output_type": "execute_result"
    }
   ],
   "source": [
    "clf.fit(X_train, y_train)"
   ]
  },
  {
   "cell_type": "code",
   "execution_count": 24,
   "id": "ee4e0885",
   "metadata": {
    "execution": {
     "iopub.execute_input": "2023-10-01T06:03:35.102262Z",
     "iopub.status.busy": "2023-10-01T06:03:35.101038Z",
     "iopub.status.idle": "2023-10-01T06:03:35.110631Z",
     "shell.execute_reply": "2023-10-01T06:03:35.109285Z"
    },
    "papermill": {
     "duration": 0.026912,
     "end_time": "2023-10-01T06:03:35.113106",
     "exception": false,
     "start_time": "2023-10-01T06:03:35.086194",
     "status": "completed"
    },
    "tags": []
   },
   "outputs": [
    {
     "data": {
      "text/plain": [
       "{'class_weight': None, 'max_depth': 20, 'max_features': None}"
      ]
     },
     "execution_count": 24,
     "metadata": {},
     "output_type": "execute_result"
    }
   ],
   "source": [
    "clf.best_params_"
   ]
  },
  {
   "cell_type": "code",
   "execution_count": 25,
   "id": "7ddca56c",
   "metadata": {
    "execution": {
     "iopub.execute_input": "2023-10-01T06:03:35.139682Z",
     "iopub.status.busy": "2023-10-01T06:03:35.139248Z",
     "iopub.status.idle": "2023-10-01T06:03:35.171725Z",
     "shell.execute_reply": "2023-10-01T06:03:35.170074Z"
    },
    "papermill": {
     "duration": 0.048808,
     "end_time": "2023-10-01T06:03:35.174568",
     "exception": false,
     "start_time": "2023-10-01T06:03:35.125760",
     "status": "completed"
    },
    "tags": []
   },
   "outputs": [
    {
     "data": {
      "text/html": [
       "<div>\n",
       "<style scoped>\n",
       "    .dataframe tbody tr th:only-of-type {\n",
       "        vertical-align: middle;\n",
       "    }\n",
       "\n",
       "    .dataframe tbody tr th {\n",
       "        vertical-align: top;\n",
       "    }\n",
       "\n",
       "    .dataframe thead th {\n",
       "        text-align: right;\n",
       "    }\n",
       "</style>\n",
       "<table border=\"1\" class=\"dataframe\">\n",
       "  <thead>\n",
       "    <tr style=\"text-align: right;\">\n",
       "      <th></th>\n",
       "      <th>mean_fit_time</th>\n",
       "      <th>std_fit_time</th>\n",
       "      <th>mean_score_time</th>\n",
       "      <th>std_score_time</th>\n",
       "      <th>param_class_weight</th>\n",
       "      <th>param_max_depth</th>\n",
       "      <th>param_max_features</th>\n",
       "      <th>params</th>\n",
       "      <th>split0_test_score</th>\n",
       "      <th>split1_test_score</th>\n",
       "      <th>split2_test_score</th>\n",
       "      <th>split3_test_score</th>\n",
       "      <th>split4_test_score</th>\n",
       "      <th>mean_test_score</th>\n",
       "      <th>std_test_score</th>\n",
       "      <th>rank_test_score</th>\n",
       "    </tr>\n",
       "  </thead>\n",
       "  <tbody>\n",
       "    <tr>\n",
       "      <th>11</th>\n",
       "      <td>35.073008</td>\n",
       "      <td>5.994679</td>\n",
       "      <td>0.306540</td>\n",
       "      <td>0.070842</td>\n",
       "      <td>None</td>\n",
       "      <td>20</td>\n",
       "      <td>None</td>\n",
       "      <td>{'class_weight': None, 'max_depth': 20, 'max_f...</td>\n",
       "      <td>0.607092</td>\n",
       "      <td>0.631732</td>\n",
       "      <td>0.624460</td>\n",
       "      <td>0.617486</td>\n",
       "      <td>0.572246</td>\n",
       "      <td>0.610603</td>\n",
       "      <td>0.020830</td>\n",
       "      <td>1</td>\n",
       "    </tr>\n",
       "    <tr>\n",
       "      <th>7</th>\n",
       "      <td>37.860273</td>\n",
       "      <td>1.580615</td>\n",
       "      <td>0.325758</td>\n",
       "      <td>0.027791</td>\n",
       "      <td>None</td>\n",
       "      <td>None</td>\n",
       "      <td>None</td>\n",
       "      <td>{'class_weight': None, 'max_depth': None, 'max...</td>\n",
       "      <td>0.621083</td>\n",
       "      <td>0.630970</td>\n",
       "      <td>0.608187</td>\n",
       "      <td>0.609756</td>\n",
       "      <td>0.567760</td>\n",
       "      <td>0.607551</td>\n",
       "      <td>0.021541</td>\n",
       "      <td>2</td>\n",
       "    </tr>\n",
       "    <tr>\n",
       "      <th>6</th>\n",
       "      <td>11.110594</td>\n",
       "      <td>1.055794</td>\n",
       "      <td>0.379837</td>\n",
       "      <td>0.039634</td>\n",
       "      <td>None</td>\n",
       "      <td>None</td>\n",
       "      <td>sqrt</td>\n",
       "      <td>{'class_weight': None, 'max_depth': None, 'max...</td>\n",
       "      <td>0.598820</td>\n",
       "      <td>0.619048</td>\n",
       "      <td>0.602410</td>\n",
       "      <td>0.617524</td>\n",
       "      <td>0.592486</td>\n",
       "      <td>0.606057</td>\n",
       "      <td>0.010489</td>\n",
       "      <td>3</td>\n",
       "    </tr>\n",
       "    <tr>\n",
       "      <th>10</th>\n",
       "      <td>12.661101</td>\n",
       "      <td>0.760097</td>\n",
       "      <td>0.372627</td>\n",
       "      <td>0.030859</td>\n",
       "      <td>None</td>\n",
       "      <td>20</td>\n",
       "      <td>sqrt</td>\n",
       "      <td>{'class_weight': None, 'max_depth': 20, 'max_f...</td>\n",
       "      <td>0.614243</td>\n",
       "      <td>0.615156</td>\n",
       "      <td>0.596386</td>\n",
       "      <td>0.617564</td>\n",
       "      <td>0.580645</td>\n",
       "      <td>0.604799</td>\n",
       "      <td>0.014238</td>\n",
       "      <td>4</td>\n",
       "    </tr>\n",
       "    <tr>\n",
       "      <th>9</th>\n",
       "      <td>33.506010</td>\n",
       "      <td>2.518090</td>\n",
       "      <td>0.276834</td>\n",
       "      <td>0.024883</td>\n",
       "      <td>None</td>\n",
       "      <td>10</td>\n",
       "      <td>None</td>\n",
       "      <td>{'class_weight': None, 'max_depth': 10, 'max_f...</td>\n",
       "      <td>0.600897</td>\n",
       "      <td>0.607634</td>\n",
       "      <td>0.596006</td>\n",
       "      <td>0.603175</td>\n",
       "      <td>0.583459</td>\n",
       "      <td>0.598234</td>\n",
       "      <td>0.008284</td>\n",
       "      <td>5</td>\n",
       "    </tr>\n",
       "    <tr>\n",
       "      <th>4</th>\n",
       "      <td>10.644169</td>\n",
       "      <td>0.762248</td>\n",
       "      <td>0.381928</td>\n",
       "      <td>0.030330</td>\n",
       "      <td>balanced</td>\n",
       "      <td>20</td>\n",
       "      <td>sqrt</td>\n",
       "      <td>{'class_weight': 'balanced', 'max_depth': 20, ...</td>\n",
       "      <td>0.491286</td>\n",
       "      <td>0.478732</td>\n",
       "      <td>0.491379</td>\n",
       "      <td>0.491915</td>\n",
       "      <td>0.483444</td>\n",
       "      <td>0.487351</td>\n",
       "      <td>0.005331</td>\n",
       "      <td>6</td>\n",
       "    </tr>\n",
       "    <tr>\n",
       "      <th>5</th>\n",
       "      <td>31.965864</td>\n",
       "      <td>1.667111</td>\n",
       "      <td>0.322236</td>\n",
       "      <td>0.026268</td>\n",
       "      <td>balanced</td>\n",
       "      <td>20</td>\n",
       "      <td>None</td>\n",
       "      <td>{'class_weight': 'balanced', 'max_depth': 20, ...</td>\n",
       "      <td>0.480929</td>\n",
       "      <td>0.475800</td>\n",
       "      <td>0.489307</td>\n",
       "      <td>0.495948</td>\n",
       "      <td>0.491859</td>\n",
       "      <td>0.486769</td>\n",
       "      <td>0.007363</td>\n",
       "      <td>7</td>\n",
       "    </tr>\n",
       "    <tr>\n",
       "      <th>8</th>\n",
       "      <td>9.435780</td>\n",
       "      <td>0.747660</td>\n",
       "      <td>0.279269</td>\n",
       "      <td>0.012813</td>\n",
       "      <td>None</td>\n",
       "      <td>10</td>\n",
       "      <td>sqrt</td>\n",
       "      <td>{'class_weight': None, 'max_depth': 10, 'max_f...</td>\n",
       "      <td>0.512648</td>\n",
       "      <td>0.502618</td>\n",
       "      <td>0.492091</td>\n",
       "      <td>0.468376</td>\n",
       "      <td>0.432337</td>\n",
       "      <td>0.481614</td>\n",
       "      <td>0.028696</td>\n",
       "      <td>8</td>\n",
       "    </tr>\n",
       "    <tr>\n",
       "      <th>0</th>\n",
       "      <td>10.304630</td>\n",
       "      <td>0.450861</td>\n",
       "      <td>0.341550</td>\n",
       "      <td>0.005059</td>\n",
       "      <td>balanced</td>\n",
       "      <td>None</td>\n",
       "      <td>sqrt</td>\n",
       "      <td>{'class_weight': 'balanced', 'max_depth': None...</td>\n",
       "      <td>0.472425</td>\n",
       "      <td>0.462000</td>\n",
       "      <td>0.451411</td>\n",
       "      <td>0.479125</td>\n",
       "      <td>0.473251</td>\n",
       "      <td>0.467642</td>\n",
       "      <td>0.009813</td>\n",
       "      <td>9</td>\n",
       "    </tr>\n",
       "    <tr>\n",
       "      <th>1</th>\n",
       "      <td>32.646021</td>\n",
       "      <td>2.281473</td>\n",
       "      <td>0.311103</td>\n",
       "      <td>0.021103</td>\n",
       "      <td>balanced</td>\n",
       "      <td>None</td>\n",
       "      <td>None</td>\n",
       "      <td>{'class_weight': 'balanced', 'max_depth': None...</td>\n",
       "      <td>0.454277</td>\n",
       "      <td>0.454452</td>\n",
       "      <td>0.451020</td>\n",
       "      <td>0.476465</td>\n",
       "      <td>0.457203</td>\n",
       "      <td>0.458684</td>\n",
       "      <td>0.009104</td>\n",
       "      <td>10</td>\n",
       "    </tr>\n",
       "  </tbody>\n",
       "</table>\n",
       "</div>"
      ],
      "text/plain": [
       "    mean_fit_time  std_fit_time  mean_score_time  std_score_time  \\\n",
       "11      35.073008      5.994679         0.306540        0.070842   \n",
       "7       37.860273      1.580615         0.325758        0.027791   \n",
       "6       11.110594      1.055794         0.379837        0.039634   \n",
       "10      12.661101      0.760097         0.372627        0.030859   \n",
       "9       33.506010      2.518090         0.276834        0.024883   \n",
       "4       10.644169      0.762248         0.381928        0.030330   \n",
       "5       31.965864      1.667111         0.322236        0.026268   \n",
       "8        9.435780      0.747660         0.279269        0.012813   \n",
       "0       10.304630      0.450861         0.341550        0.005059   \n",
       "1       32.646021      2.281473         0.311103        0.021103   \n",
       "\n",
       "   param_class_weight param_max_depth param_max_features  \\\n",
       "11               None              20               None   \n",
       "7                None            None               None   \n",
       "6                None            None               sqrt   \n",
       "10               None              20               sqrt   \n",
       "9                None              10               None   \n",
       "4            balanced              20               sqrt   \n",
       "5            balanced              20               None   \n",
       "8                None              10               sqrt   \n",
       "0            balanced            None               sqrt   \n",
       "1            balanced            None               None   \n",
       "\n",
       "                                               params  split0_test_score  \\\n",
       "11  {'class_weight': None, 'max_depth': 20, 'max_f...           0.607092   \n",
       "7   {'class_weight': None, 'max_depth': None, 'max...           0.621083   \n",
       "6   {'class_weight': None, 'max_depth': None, 'max...           0.598820   \n",
       "10  {'class_weight': None, 'max_depth': 20, 'max_f...           0.614243   \n",
       "9   {'class_weight': None, 'max_depth': 10, 'max_f...           0.600897   \n",
       "4   {'class_weight': 'balanced', 'max_depth': 20, ...           0.491286   \n",
       "5   {'class_weight': 'balanced', 'max_depth': 20, ...           0.480929   \n",
       "8   {'class_weight': None, 'max_depth': 10, 'max_f...           0.512648   \n",
       "0   {'class_weight': 'balanced', 'max_depth': None...           0.472425   \n",
       "1   {'class_weight': 'balanced', 'max_depth': None...           0.454277   \n",
       "\n",
       "    split1_test_score  split2_test_score  split3_test_score  \\\n",
       "11           0.631732           0.624460           0.617486   \n",
       "7            0.630970           0.608187           0.609756   \n",
       "6            0.619048           0.602410           0.617524   \n",
       "10           0.615156           0.596386           0.617564   \n",
       "9            0.607634           0.596006           0.603175   \n",
       "4            0.478732           0.491379           0.491915   \n",
       "5            0.475800           0.489307           0.495948   \n",
       "8            0.502618           0.492091           0.468376   \n",
       "0            0.462000           0.451411           0.479125   \n",
       "1            0.454452           0.451020           0.476465   \n",
       "\n",
       "    split4_test_score  mean_test_score  std_test_score  rank_test_score  \n",
       "11           0.572246         0.610603        0.020830                1  \n",
       "7            0.567760         0.607551        0.021541                2  \n",
       "6            0.592486         0.606057        0.010489                3  \n",
       "10           0.580645         0.604799        0.014238                4  \n",
       "9            0.583459         0.598234        0.008284                5  \n",
       "4            0.483444         0.487351        0.005331                6  \n",
       "5            0.491859         0.486769        0.007363                7  \n",
       "8            0.432337         0.481614        0.028696                8  \n",
       "0            0.473251         0.467642        0.009813                9  \n",
       "1            0.457203         0.458684        0.009104               10  "
      ]
     },
     "execution_count": 25,
     "metadata": {},
     "output_type": "execute_result"
    }
   ],
   "source": [
    "pd.DataFrame(clf.cv_results_).sort_values(by=\"rank_test_score\").head(10)"
   ]
  },
  {
   "cell_type": "code",
   "execution_count": 26,
   "id": "7e23118d",
   "metadata": {
    "execution": {
     "iopub.execute_input": "2023-10-01T06:03:35.200396Z",
     "iopub.status.busy": "2023-10-01T06:03:35.199960Z",
     "iopub.status.idle": "2023-10-01T06:03:35.723821Z",
     "shell.execute_reply": "2023-10-01T06:03:35.717280Z"
    },
    "papermill": {
     "duration": 0.541569,
     "end_time": "2023-10-01T06:03:35.728404",
     "exception": false,
     "start_time": "2023-10-01T06:03:35.186835",
     "status": "completed"
    },
    "tags": []
   },
   "outputs": [],
   "source": [
    "y_pred = clf.predict(X_test)"
   ]
  },
  {
   "cell_type": "code",
   "execution_count": 27,
   "id": "bb315d65",
   "metadata": {
    "execution": {
     "iopub.execute_input": "2023-10-01T06:03:35.763700Z",
     "iopub.status.busy": "2023-10-01T06:03:35.762791Z",
     "iopub.status.idle": "2023-10-01T06:03:35.788944Z",
     "shell.execute_reply": "2023-10-01T06:03:35.787463Z"
    },
    "papermill": {
     "duration": 0.045686,
     "end_time": "2023-10-01T06:03:35.791414",
     "exception": false,
     "start_time": "2023-10-01T06:03:35.745728",
     "status": "completed"
    },
    "tags": []
   },
   "outputs": [
    {
     "data": {
      "text/plain": [
       "0.5964263709180528"
      ]
     },
     "execution_count": 27,
     "metadata": {},
     "output_type": "execute_result"
    }
   ],
   "source": [
    "f1_score(y_pred=y_pred, y_true=y_test)"
   ]
  },
  {
   "cell_type": "code",
   "execution_count": 28,
   "id": "c19917c4",
   "metadata": {
    "execution": {
     "iopub.execute_input": "2023-10-01T06:03:35.823558Z",
     "iopub.status.busy": "2023-10-01T06:03:35.821716Z",
     "iopub.status.idle": "2023-10-01T06:03:53.959931Z",
     "shell.execute_reply": "2023-10-01T06:03:53.959021Z"
    },
    "papermill": {
     "duration": 18.156437,
     "end_time": "2023-10-01T06:03:53.961967",
     "exception": false,
     "start_time": "2023-10-01T06:03:35.805530",
     "status": "completed"
    },
    "tags": []
   },
   "outputs": [
    {
     "data": {
      "text/html": [
       "<style>#sk-container-id-2 {color: black;background-color: white;}#sk-container-id-2 pre{padding: 0;}#sk-container-id-2 div.sk-toggleable {background-color: white;}#sk-container-id-2 label.sk-toggleable__label {cursor: pointer;display: block;width: 100%;margin-bottom: 0;padding: 0.3em;box-sizing: border-box;text-align: center;}#sk-container-id-2 label.sk-toggleable__label-arrow:before {content: \"▸\";float: left;margin-right: 0.25em;color: #696969;}#sk-container-id-2 label.sk-toggleable__label-arrow:hover:before {color: black;}#sk-container-id-2 div.sk-estimator:hover label.sk-toggleable__label-arrow:before {color: black;}#sk-container-id-2 div.sk-toggleable__content {max-height: 0;max-width: 0;overflow: hidden;text-align: left;background-color: #f0f8ff;}#sk-container-id-2 div.sk-toggleable__content pre {margin: 0.2em;color: black;border-radius: 0.25em;background-color: #f0f8ff;}#sk-container-id-2 input.sk-toggleable__control:checked~div.sk-toggleable__content {max-height: 200px;max-width: 100%;overflow: auto;}#sk-container-id-2 input.sk-toggleable__control:checked~label.sk-toggleable__label-arrow:before {content: \"▾\";}#sk-container-id-2 div.sk-estimator input.sk-toggleable__control:checked~label.sk-toggleable__label {background-color: #d4ebff;}#sk-container-id-2 div.sk-label input.sk-toggleable__control:checked~label.sk-toggleable__label {background-color: #d4ebff;}#sk-container-id-2 input.sk-hidden--visually {border: 0;clip: rect(1px 1px 1px 1px);clip: rect(1px, 1px, 1px, 1px);height: 1px;margin: -1px;overflow: hidden;padding: 0;position: absolute;width: 1px;}#sk-container-id-2 div.sk-estimator {font-family: monospace;background-color: #f0f8ff;border: 1px dotted black;border-radius: 0.25em;box-sizing: border-box;margin-bottom: 0.5em;}#sk-container-id-2 div.sk-estimator:hover {background-color: #d4ebff;}#sk-container-id-2 div.sk-parallel-item::after {content: \"\";width: 100%;border-bottom: 1px solid gray;flex-grow: 1;}#sk-container-id-2 div.sk-label:hover label.sk-toggleable__label {background-color: #d4ebff;}#sk-container-id-2 div.sk-serial::before {content: \"\";position: absolute;border-left: 1px solid gray;box-sizing: border-box;top: 0;bottom: 0;left: 50%;z-index: 0;}#sk-container-id-2 div.sk-serial {display: flex;flex-direction: column;align-items: center;background-color: white;padding-right: 0.2em;padding-left: 0.2em;position: relative;}#sk-container-id-2 div.sk-item {position: relative;z-index: 1;}#sk-container-id-2 div.sk-parallel {display: flex;align-items: stretch;justify-content: center;background-color: white;position: relative;}#sk-container-id-2 div.sk-item::before, #sk-container-id-2 div.sk-parallel-item::before {content: \"\";position: absolute;border-left: 1px solid gray;box-sizing: border-box;top: 0;bottom: 0;left: 50%;z-index: -1;}#sk-container-id-2 div.sk-parallel-item {display: flex;flex-direction: column;z-index: 1;position: relative;background-color: white;}#sk-container-id-2 div.sk-parallel-item:first-child::after {align-self: flex-end;width: 50%;}#sk-container-id-2 div.sk-parallel-item:last-child::after {align-self: flex-start;width: 50%;}#sk-container-id-2 div.sk-parallel-item:only-child::after {width: 0;}#sk-container-id-2 div.sk-dashed-wrapped {border: 1px dashed gray;margin: 0 0.4em 0.5em 0.4em;box-sizing: border-box;padding-bottom: 0.4em;background-color: white;}#sk-container-id-2 div.sk-label label {font-family: monospace;font-weight: bold;display: inline-block;line-height: 1.2em;}#sk-container-id-2 div.sk-label-container {text-align: center;}#sk-container-id-2 div.sk-container {/* jupyter's `normalize.less` sets `[hidden] { display: none; }` but bootstrap.min.css set `[hidden] { display: none !important; }` so we also need the `!important` here to be able to override the default hidden behavior on the sphinx rendered scikit-learn.org. See: https://github.com/scikit-learn/scikit-learn/issues/21755 */display: inline-block !important;position: relative;}#sk-container-id-2 div.sk-text-repr-fallback {display: none;}</style><div id=\"sk-container-id-2\" class=\"sk-top-container\"><div class=\"sk-text-repr-fallback\"><pre>RandomForestClassifier(max_depth=20, max_features=None, n_jobs=-1)</pre><b>In a Jupyter environment, please rerun this cell to show the HTML representation or trust the notebook. <br />On GitHub, the HTML representation is unable to render, please try loading this page with nbviewer.org.</b></div><div class=\"sk-container\" hidden><div class=\"sk-item\"><div class=\"sk-estimator sk-toggleable\"><input class=\"sk-toggleable__control sk-hidden--visually\" id=\"sk-estimator-id-4\" type=\"checkbox\" checked><label for=\"sk-estimator-id-4\" class=\"sk-toggleable__label sk-toggleable__label-arrow\">RandomForestClassifier</label><div class=\"sk-toggleable__content\"><pre>RandomForestClassifier(max_depth=20, max_features=None, n_jobs=-1)</pre></div></div></div></div></div>"
      ],
      "text/plain": [
       "RandomForestClassifier(max_depth=20, max_features=None, n_jobs=-1)"
      ]
     },
     "execution_count": 28,
     "metadata": {},
     "output_type": "execute_result"
    }
   ],
   "source": [
    "model = RandomForestClassifier(n_jobs=-1, **clf.best_params_)\n",
    "model.fit(sc.transform(dataset.drop([\"label\"], axis=1)), dataset[\"label\"])"
   ]
  },
  {
   "cell_type": "markdown",
   "id": "b0446492",
   "metadata": {
    "papermill": {
     "duration": 0.013254,
     "end_time": "2023-10-01T06:03:53.988422",
     "exception": false,
     "start_time": "2023-10-01T06:03:53.975168",
     "status": "completed"
    },
    "tags": []
   },
   "source": [
    "# Submitting predictions\n",
    "\n",
    "Using the trained models we can now do predictions for the leaderboard."
   ]
  },
  {
   "cell_type": "code",
   "execution_count": 29,
   "id": "3a4f70b9",
   "metadata": {
    "execution": {
     "iopub.execute_input": "2023-10-01T06:03:54.021464Z",
     "iopub.status.busy": "2023-10-01T06:03:54.020739Z",
     "iopub.status.idle": "2023-10-01T06:03:57.473172Z",
     "shell.execute_reply": "2023-10-01T06:03:57.472136Z"
    },
    "papermill": {
     "duration": 3.473674,
     "end_time": "2023-10-01T06:03:57.475704",
     "exception": false,
     "start_time": "2023-10-01T06:03:54.002030",
     "status": "completed"
    },
    "tags": []
   },
   "outputs": [
    {
     "data": {
      "text/html": [
       "<div>\n",
       "<style scoped>\n",
       "    .dataframe tbody tr th:only-of-type {\n",
       "        vertical-align: middle;\n",
       "    }\n",
       "\n",
       "    .dataframe tbody tr th {\n",
       "        vertical-align: top;\n",
       "    }\n",
       "\n",
       "    .dataframe thead th {\n",
       "        text-align: right;\n",
       "    }\n",
       "</style>\n",
       "<table border=\"1\" class=\"dataframe\">\n",
       "  <thead>\n",
       "    <tr style=\"text-align: right;\">\n",
       "      <th></th>\n",
       "      <th>attack_time</th>\n",
       "      <th>watcher_country</th>\n",
       "      <th>watcher_as_num</th>\n",
       "      <th>watcher_as_name</th>\n",
       "      <th>attacker_country</th>\n",
       "      <th>attacker_as_num</th>\n",
       "      <th>attacker_as_name</th>\n",
       "      <th>attack_type</th>\n",
       "      <th>watcher_uuid_enum</th>\n",
       "      <th>attacker_ip_enum</th>\n",
       "    </tr>\n",
       "  </thead>\n",
       "  <tbody>\n",
       "    <tr>\n",
       "      <th>0</th>\n",
       "      <td>2023-07-31 07:17:58+00:00</td>\n",
       "      <td>US</td>\n",
       "      <td>54641.0</td>\n",
       "      <td>IMH-IAD</td>\n",
       "      <td>IN</td>\n",
       "      <td>14061.0</td>\n",
       "      <td>DIGITALOCEAN-ASN</td>\n",
       "      <td>http:spam</td>\n",
       "      <td>1</td>\n",
       "      <td>7696</td>\n",
       "    </tr>\n",
       "    <tr>\n",
       "      <th>1</th>\n",
       "      <td>2023-07-31 07:17:58+00:00</td>\n",
       "      <td>US</td>\n",
       "      <td>54641.0</td>\n",
       "      <td>IMH-IAD</td>\n",
       "      <td>IN</td>\n",
       "      <td>14061.0</td>\n",
       "      <td>DIGITALOCEAN-ASN</td>\n",
       "      <td>http:exploit</td>\n",
       "      <td>1</td>\n",
       "      <td>7696</td>\n",
       "    </tr>\n",
       "    <tr>\n",
       "      <th>2</th>\n",
       "      <td>2023-07-31 07:17:58+00:00</td>\n",
       "      <td>US</td>\n",
       "      <td>54641.0</td>\n",
       "      <td>IMH-IAD</td>\n",
       "      <td>IN</td>\n",
       "      <td>14061.0</td>\n",
       "      <td>DIGITALOCEAN-ASN</td>\n",
       "      <td>http:bruteforce</td>\n",
       "      <td>1</td>\n",
       "      <td>7696</td>\n",
       "    </tr>\n",
       "    <tr>\n",
       "      <th>3</th>\n",
       "      <td>2023-07-31 07:17:58+00:00</td>\n",
       "      <td>US</td>\n",
       "      <td>54641.0</td>\n",
       "      <td>IMH-IAD</td>\n",
       "      <td>IN</td>\n",
       "      <td>14061.0</td>\n",
       "      <td>DIGITALOCEAN-ASN</td>\n",
       "      <td>http:bruteforce</td>\n",
       "      <td>1</td>\n",
       "      <td>7696</td>\n",
       "    </tr>\n",
       "    <tr>\n",
       "      <th>4</th>\n",
       "      <td>2023-07-31 07:17:51+00:00</td>\n",
       "      <td>US</td>\n",
       "      <td>396982.0</td>\n",
       "      <td>GOOGLE-CLOUD-PLATFORM</td>\n",
       "      <td>US</td>\n",
       "      <td>53667.0</td>\n",
       "      <td>PONYNET</td>\n",
       "      <td>http:bruteforce</td>\n",
       "      <td>3</td>\n",
       "      <td>7543</td>\n",
       "    </tr>\n",
       "  </tbody>\n",
       "</table>\n",
       "</div>"
      ],
      "text/plain": [
       "                attack_time watcher_country  watcher_as_num  \\\n",
       "0 2023-07-31 07:17:58+00:00              US         54641.0   \n",
       "1 2023-07-31 07:17:58+00:00              US         54641.0   \n",
       "2 2023-07-31 07:17:58+00:00              US         54641.0   \n",
       "3 2023-07-31 07:17:58+00:00              US         54641.0   \n",
       "4 2023-07-31 07:17:51+00:00              US        396982.0   \n",
       "\n",
       "         watcher_as_name attacker_country  attacker_as_num  attacker_as_name  \\\n",
       "0                IMH-IAD               IN          14061.0  DIGITALOCEAN-ASN   \n",
       "1                IMH-IAD               IN          14061.0  DIGITALOCEAN-ASN   \n",
       "2                IMH-IAD               IN          14061.0  DIGITALOCEAN-ASN   \n",
       "3                IMH-IAD               IN          14061.0  DIGITALOCEAN-ASN   \n",
       "4  GOOGLE-CLOUD-PLATFORM               US          53667.0           PONYNET   \n",
       "\n",
       "       attack_type  watcher_uuid_enum  attacker_ip_enum  \n",
       "0        http:spam                  1              7696  \n",
       "1     http:exploit                  1              7696  \n",
       "2  http:bruteforce                  1              7696  \n",
       "3  http:bruteforce                  1              7696  \n",
       "4  http:bruteforce                  3              7543  "
      ]
     },
     "execution_count": 29,
     "metadata": {},
     "output_type": "execute_result"
    }
   ],
   "source": [
    "df = pd.read_parquet(\"/kaggle/input/vpn-classification/dataset_v2/test.parq\")\n",
    "df.head()"
   ]
  },
  {
   "cell_type": "code",
   "execution_count": 30,
   "id": "5f7e9bb0",
   "metadata": {
    "execution": {
     "iopub.execute_input": "2023-10-01T06:03:57.503193Z",
     "iopub.status.busy": "2023-10-01T06:03:57.502554Z",
     "iopub.status.idle": "2023-10-01T06:04:09.166196Z",
     "shell.execute_reply": "2023-10-01T06:04:09.164959Z"
    },
    "papermill": {
     "duration": 11.680685,
     "end_time": "2023-10-01T06:04:09.169174",
     "exception": false,
     "start_time": "2023-10-01T06:03:57.488489",
     "status": "completed"
    },
    "tags": []
   },
   "outputs": [],
   "source": [
    "attack_types_df = (\n",
    "    df.attack_type.str.split(\":\", expand=True)\n",
    "    .rename(columns={0: \"service\", 1: \"type\"})\n",
    "    .set_index(df[\"attacker_ip_enum\"])\n",
    ")"
   ]
  },
  {
   "cell_type": "code",
   "execution_count": 31,
   "id": "17e5fabc",
   "metadata": {
    "execution": {
     "iopub.execute_input": "2023-10-01T06:04:09.196804Z",
     "iopub.status.busy": "2023-10-01T06:04:09.196447Z",
     "iopub.status.idle": "2023-10-01T06:04:11.832745Z",
     "shell.execute_reply": "2023-10-01T06:04:11.831083Z"
    },
    "papermill": {
     "duration": 2.653459,
     "end_time": "2023-10-01T06:04:11.835772",
     "exception": false,
     "start_time": "2023-10-01T06:04:09.182313",
     "status": "completed"
    },
    "tags": []
   },
   "outputs": [],
   "source": [
    "one_hot_attack_service_df = pd.get_dummies(\n",
    "    # Dropping duplicated service before calling get dummies\n",
    "    attack_types_df.reset_index()\n",
    "    .drop_duplicates(subset=[\"attacker_ip_enum\", \"service\"])\n",
    "    .set_index(\"attacker_ip_enum\")[\"service\"]\n",
    "    # ,sparse=True\n",
    ")\n",
    "one_hot_attack_service_df = one_hot_attack_service_df.groupby(\"attacker_ip_enum\").sum()\n",
    "one_hot_attack_service_df = (one_hot_attack_service_df >= 1).astype(int)"
   ]
  },
  {
   "cell_type": "code",
   "execution_count": 32,
   "id": "1ce08f3a",
   "metadata": {
    "execution": {
     "iopub.execute_input": "2023-10-01T06:04:11.864183Z",
     "iopub.status.busy": "2023-10-01T06:04:11.863826Z",
     "iopub.status.idle": "2023-10-01T06:04:15.167002Z",
     "shell.execute_reply": "2023-10-01T06:04:15.165731Z"
    },
    "papermill": {
     "duration": 3.320878,
     "end_time": "2023-10-01T06:04:15.170008",
     "exception": false,
     "start_time": "2023-10-01T06:04:11.849130",
     "status": "completed"
    },
    "tags": []
   },
   "outputs": [],
   "source": [
    "one_hot_attack_types_df = pd.get_dummies(\n",
    "    attack_types_df[\"type\"],\n",
    "    # sparse=True\n",
    ")\n",
    "one_hot_attack_types_df = one_hot_attack_types_df.groupby(\"attacker_ip_enum\").sum()\n",
    "# We group by ip_enum and normalized by the number of attack to get a distribyution\n",
    "one_hot_attack_types_df = one_hot_attack_types_df / one_hot_attack_types_df.sum(\n",
    "    1\n",
    ").values.reshape(-1, 1)"
   ]
  },
  {
   "cell_type": "code",
   "execution_count": 33,
   "id": "58bcd89d",
   "metadata": {
    "execution": {
     "iopub.execute_input": "2023-10-01T06:04:15.198044Z",
     "iopub.status.busy": "2023-10-01T06:04:15.197697Z",
     "iopub.status.idle": "2023-10-01T06:04:15.223381Z",
     "shell.execute_reply": "2023-10-01T06:04:15.221952Z"
    },
    "papermill": {
     "duration": 0.043348,
     "end_time": "2023-10-01T06:04:15.226319",
     "exception": false,
     "start_time": "2023-10-01T06:04:15.182971",
     "status": "completed"
    },
    "tags": []
   },
   "outputs": [],
   "source": [
    "X_val_df = pd.concat(\n",
    "    [\n",
    "                one_hot_attack_types_df,\n",
    "        one_hot_attack_service_df,\n",
    "        ports_features_df,\n",
    "    ],\n",
    "    axis=1,\n",
    "    join=\"inner\",\n",
    ")\n",
    "X_val = sc.transform(X_val_df)"
   ]
  },
  {
   "cell_type": "code",
   "execution_count": 34,
   "id": "a71d5b25",
   "metadata": {
    "execution": {
     "iopub.execute_input": "2023-10-01T06:04:15.254198Z",
     "iopub.status.busy": "2023-10-01T06:04:15.253808Z",
     "iopub.status.idle": "2023-10-01T06:04:15.500068Z",
     "shell.execute_reply": "2023-10-01T06:04:15.499289Z"
    },
    "papermill": {
     "duration": 0.263651,
     "end_time": "2023-10-01T06:04:15.503034",
     "exception": false,
     "start_time": "2023-10-01T06:04:15.239383",
     "status": "completed"
    },
    "tags": []
   },
   "outputs": [],
   "source": [
    "prediction = pd.Series(model.predict(X_val), index=X_val_df.index).rename(\"prediction\")"
   ]
  },
  {
   "cell_type": "markdown",
   "id": "2a188f2a",
   "metadata": {
    "papermill": {
     "duration": 0.012701,
     "end_time": "2023-10-01T06:04:15.529152",
     "exception": false,
     "start_time": "2023-10-01T06:04:15.516451",
     "status": "completed"
    },
    "tags": []
   },
   "source": [
    "Now we can save the predition as usual"
   ]
  },
  {
   "cell_type": "code",
   "execution_count": 35,
   "id": "aeee1fc0",
   "metadata": {
    "execution": {
     "iopub.execute_input": "2023-10-01T06:04:15.557654Z",
     "iopub.status.busy": "2023-10-01T06:04:15.557183Z",
     "iopub.status.idle": "2023-10-01T06:04:15.561977Z",
     "shell.execute_reply": "2023-10-01T06:04:15.561242Z"
    },
    "papermill": {
     "duration": 0.021356,
     "end_time": "2023-10-01T06:04:15.563997",
     "exception": false,
     "start_time": "2023-10-01T06:04:15.542641",
     "status": "completed"
    },
    "tags": []
   },
   "outputs": [],
   "source": [
    "#prediction.to_csv(\"predictions.csv\")"
   ]
  },
  {
   "cell_type": "code",
   "execution_count": null,
   "id": "a0f57b52",
   "metadata": {
    "papermill": {
     "duration": 0.013117,
     "end_time": "2023-10-01T06:04:15.590482",
     "exception": false,
     "start_time": "2023-10-01T06:04:15.577365",
     "status": "completed"
    },
    "tags": []
   },
   "outputs": [],
   "source": []
  }
 ],
 "metadata": {
  "kernelspec": {
   "display_name": "Python 3",
   "language": "python",
   "name": "python3"
  },
  "language_info": {
   "codemirror_mode": {
    "name": "ipython",
    "version": 3
   },
   "file_extension": ".py",
   "mimetype": "text/x-python",
   "name": "python",
   "nbconvert_exporter": "python",
   "pygments_lexer": "ipython3",
   "version": "3.10.12"
  },
  "papermill": {
   "default_parameters": {},
   "duration": 508.83084,
   "end_time": "2023-10-01T06:04:18.630019",
   "environment_variables": {},
   "exception": null,
   "input_path": "__notebook__.ipynb",
   "output_path": "__notebook__.ipynb",
   "parameters": {},
   "start_time": "2023-10-01T05:55:49.799179",
   "version": "2.4.0"
  }
 },
 "nbformat": 4,
 "nbformat_minor": 5
}
