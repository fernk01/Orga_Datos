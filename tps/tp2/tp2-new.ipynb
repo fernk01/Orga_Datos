{
 "cells": [
  {
   "cell_type": "code",
   "execution_count": 37,
   "metadata": {},
   "outputs": [],
   "source": [
    "import numpy as np\n",
    "import pandas as pd"
   ]
  },
  {
   "cell_type": "code",
   "execution_count": 48,
   "metadata": {},
   "outputs": [],
   "source": [
    "df_train = pd.read_parquet('./train.parq')"
   ]
  },
  {
   "cell_type": "code",
   "execution_count": 39,
   "metadata": {},
   "outputs": [],
   "source": [
    "# Eliminar duplicados\n",
    "#df_train.drop_duplicates(inplace=True)"
   ]
  },
  {
   "cell_type": "code",
   "execution_count": 40,
   "metadata": {},
   "outputs": [],
   "source": [
    "# Guardar el dataset en un archivo parquet\n",
    "#df_train.to_parquet('./train.parq', index=False)"
   ]
  },
  {
   "cell_type": "markdown",
   "metadata": {},
   "source": [
    "# Analisis Exploratorio de Datos"
   ]
  },
  {
   "cell_type": "code",
   "execution_count": 41,
   "metadata": {},
   "outputs": [
    {
     "data": {
      "text/html": [
       "<div>\n",
       "<style scoped>\n",
       "    .dataframe tbody tr th:only-of-type {\n",
       "        vertical-align: middle;\n",
       "    }\n",
       "\n",
       "    .dataframe tbody tr th {\n",
       "        vertical-align: top;\n",
       "    }\n",
       "\n",
       "    .dataframe thead th {\n",
       "        text-align: right;\n",
       "    }\n",
       "</style>\n",
       "<table border=\"1\" class=\"dataframe\">\n",
       "  <thead>\n",
       "    <tr style=\"text-align: right;\">\n",
       "      <th></th>\n",
       "      <th>attack_time</th>\n",
       "      <th>watcher_country</th>\n",
       "      <th>watcher_as_num</th>\n",
       "      <th>watcher_as_name</th>\n",
       "      <th>attacker_country</th>\n",
       "      <th>attacker_as_num</th>\n",
       "      <th>attacker_as_name</th>\n",
       "      <th>attack_type</th>\n",
       "      <th>watcher_uuid_enum</th>\n",
       "      <th>attacker_ip_enum</th>\n",
       "      <th>label</th>\n",
       "    </tr>\n",
       "  </thead>\n",
       "  <tbody>\n",
       "    <tr>\n",
       "      <th>0</th>\n",
       "      <td>2023-07-31 07:17:51+00:00</td>\n",
       "      <td>DE</td>\n",
       "      <td>34011.0</td>\n",
       "      <td>Host Europe GmbH</td>\n",
       "      <td>TR</td>\n",
       "      <td>47721.0</td>\n",
       "      <td>Murat Aktas</td>\n",
       "      <td>http:exploit</td>\n",
       "      <td>0</td>\n",
       "      <td>6466</td>\n",
       "      <td>0</td>\n",
       "    </tr>\n",
       "    <tr>\n",
       "      <th>1</th>\n",
       "      <td>2023-07-31 07:17:51+00:00</td>\n",
       "      <td>DE</td>\n",
       "      <td>34011.0</td>\n",
       "      <td>Host Europe GmbH</td>\n",
       "      <td>TR</td>\n",
       "      <td>47721.0</td>\n",
       "      <td>Murat Aktas</td>\n",
       "      <td>http:spam</td>\n",
       "      <td>0</td>\n",
       "      <td>6466</td>\n",
       "      <td>0</td>\n",
       "    </tr>\n",
       "    <tr>\n",
       "      <th>2</th>\n",
       "      <td>2023-07-31 07:17:49+00:00</td>\n",
       "      <td>DE</td>\n",
       "      <td>20886.0</td>\n",
       "      <td>bn:t Blatzheim Networks Telecom GmbH</td>\n",
       "      <td>DE</td>\n",
       "      <td>51167.0</td>\n",
       "      <td>Contabo GmbH</td>\n",
       "      <td>http:bruteforce</td>\n",
       "      <td>2</td>\n",
       "      <td>4637</td>\n",
       "      <td>0</td>\n",
       "    </tr>\n",
       "    <tr>\n",
       "      <th>3</th>\n",
       "      <td>2023-07-31 07:17:49+00:00</td>\n",
       "      <td>DE</td>\n",
       "      <td>20886.0</td>\n",
       "      <td>bn:t Blatzheim Networks Telecom GmbH</td>\n",
       "      <td>DE</td>\n",
       "      <td>51167.0</td>\n",
       "      <td>Contabo GmbH</td>\n",
       "      <td>http:spam</td>\n",
       "      <td>2</td>\n",
       "      <td>4637</td>\n",
       "      <td>0</td>\n",
       "    </tr>\n",
       "    <tr>\n",
       "      <th>4</th>\n",
       "      <td>2023-07-31 07:17:49+00:00</td>\n",
       "      <td>DE</td>\n",
       "      <td>20886.0</td>\n",
       "      <td>bn:t Blatzheim Networks Telecom GmbH</td>\n",
       "      <td>DE</td>\n",
       "      <td>51167.0</td>\n",
       "      <td>Contabo GmbH</td>\n",
       "      <td>http:exploit</td>\n",
       "      <td>2</td>\n",
       "      <td>4637</td>\n",
       "      <td>0</td>\n",
       "    </tr>\n",
       "  </tbody>\n",
       "</table>\n",
       "</div>"
      ],
      "text/plain": [
       "                attack_time watcher_country  watcher_as_num  \\\n",
       "0 2023-07-31 07:17:51+00:00              DE         34011.0   \n",
       "1 2023-07-31 07:17:51+00:00              DE         34011.0   \n",
       "2 2023-07-31 07:17:49+00:00              DE         20886.0   \n",
       "3 2023-07-31 07:17:49+00:00              DE         20886.0   \n",
       "4 2023-07-31 07:17:49+00:00              DE         20886.0   \n",
       "\n",
       "                        watcher_as_name attacker_country  attacker_as_num  \\\n",
       "0                      Host Europe GmbH               TR          47721.0   \n",
       "1                      Host Europe GmbH               TR          47721.0   \n",
       "2  bn:t Blatzheim Networks Telecom GmbH               DE          51167.0   \n",
       "3  bn:t Blatzheim Networks Telecom GmbH               DE          51167.0   \n",
       "4  bn:t Blatzheim Networks Telecom GmbH               DE          51167.0   \n",
       "\n",
       "  attacker_as_name      attack_type  watcher_uuid_enum  attacker_ip_enum  \\\n",
       "0      Murat Aktas     http:exploit                  0              6466   \n",
       "1      Murat Aktas        http:spam                  0              6466   \n",
       "2     Contabo GmbH  http:bruteforce                  2              4637   \n",
       "3     Contabo GmbH        http:spam                  2              4637   \n",
       "4     Contabo GmbH     http:exploit                  2              4637   \n",
       "\n",
       "   label  \n",
       "0      0  \n",
       "1      0  \n",
       "2      0  \n",
       "3      0  \n",
       "4      0  "
      ]
     },
     "execution_count": 41,
     "metadata": {},
     "output_type": "execute_result"
    }
   ],
   "source": [
    "df_train.head()"
   ]
  },
  {
   "cell_type": "code",
   "execution_count": 64,
   "metadata": {},
   "outputs": [
    {
     "data": {
      "text/plain": [
       "watcher_country     206262\n",
       "watcher_as_name     206275\n",
       "attacker_country     29262\n",
       "attacker_as_num        414\n",
       "attacker_as_name     44843\n",
       "dtype: int64"
      ]
     },
     "execution_count": 64,
     "metadata": {},
     "output_type": "execute_result"
    }
   ],
   "source": [
    "# Catidad de valores nulos por columna mayores a cero\n",
    "df_train.isnull().sum()[df_train.isnull().sum() > 0]"
   ]
  },
  {
   "cell_type": "markdown",
   "metadata": {},
   "source": [
    "## `watcher_country`"
   ]
  },
  {
   "cell_type": "code",
   "execution_count": 57,
   "metadata": {},
   "outputs": [
    {
     "data": {
      "text/plain": [
       "watcher_country\n",
       "US    13935034\n",
       "DE     6247878\n",
       "FR     3556434\n",
       "GB     2199930\n",
       "NL     2117352\n",
       "        ...   \n",
       "MV          10\n",
       "BB           9\n",
       "IM           9\n",
       "MQ           2\n",
       "KW           2\n",
       "Name: count, Length: 130, dtype: int64"
      ]
     },
     "execution_count": 57,
     "metadata": {},
     "output_type": "execute_result"
    }
   ],
   "source": [
    "df_train[\"watcher_country\"].value_counts() "
   ]
  },
  {
   "cell_type": "code",
   "execution_count": 75,
   "metadata": {},
   "outputs": [],
   "source": [
    "# Filtro los nan de la columna \"watcher_country\"\n",
    "a1 = df_train[df_train[\"watcher_country\"].isnull() & df_train[\"label\"] == 1]"
   ]
  },
  {
   "cell_type": "code",
   "execution_count": 77,
   "metadata": {},
   "outputs": [],
   "source": [
    "a1 = df_train[df_train[\"watcher_country\"].notna() | df_train[\"label\"] == 1]"
   ]
  },
  {
   "cell_type": "code",
   "execution_count": 78,
   "metadata": {},
   "outputs": [
    {
     "data": {
      "text/plain": [
       "watcher_country      4303\n",
       "watcher_as_name      4334\n",
       "attacker_country    29087\n",
       "attacker_as_num       414\n",
       "attacker_as_name    44831\n",
       "dtype: int64"
      ]
     },
     "execution_count": 78,
     "metadata": {},
     "output_type": "execute_result"
    }
   ],
   "source": [
    "# Catidad de valores nulos por columna mayores a cero\n",
    "a1.isnull().sum()[a1.isnull().sum() > 0]"
   ]
  },
  {
   "cell_type": "code",
   "execution_count": 55,
   "metadata": {},
   "outputs": [],
   "source": [
    "a1[a1[\"label\"] == 1][\"label\"].value_counts()"
   ]
  },
  {
   "cell_type": "markdown",
   "metadata": {},
   "source": [
    "## `watcher_as_num`"
   ]
  },
  {
   "cell_type": "code",
   "execution_count": 8,
   "metadata": {},
   "outputs": [
    {
     "data": {
      "text/plain": [
       "watcher_as_num\n",
       "16276.0     2682659\n",
       "24940.0     2245665\n",
       "14061.0     1965080\n",
       "396982.0    1678949\n",
       "8560.0      1410876\n",
       "             ...   \n",
       "205718.0          1\n",
       "51873.0           1\n",
       "23473.0           1\n",
       "19133.0           1\n",
       "60609.0           1\n",
       "Name: count, Length: 2914, dtype: int64"
      ]
     },
     "execution_count": 8,
     "metadata": {},
     "output_type": "execute_result"
    }
   ],
   "source": [
    "df_train[\"watcher_as_num\"].value_counts()"
   ]
  },
  {
   "cell_type": "markdown",
   "metadata": {},
   "source": [
    "## `watcher_as_name`"
   ]
  },
  {
   "cell_type": "code",
   "execution_count": 9,
   "metadata": {},
   "outputs": [
    {
     "data": {
      "text/plain": [
       "watcher_as_name\n",
       "OVH SAS                       2690097\n",
       "Hetzner Online GmbH           2334040\n",
       "DIGITALOCEAN-ASN              1965080\n",
       "GOOGLE-CLOUD-PLATFORM         1678949\n",
       "IONOS SE                      1410876\n",
       "                               ...   \n",
       "Virtual1 Limited                    1\n",
       "Nine Internet Solutions AG          1\n",
       "Nomotech SAS                        1\n",
       "OEC-FIBER                           1\n",
       "UAB Airnet                          1\n",
       "Name: count, Length: 2770, dtype: int64"
      ]
     },
     "execution_count": 9,
     "metadata": {},
     "output_type": "execute_result"
    }
   ],
   "source": [
    "df_train[\"watcher_as_name\"].value_counts() "
   ]
  },
  {
   "cell_type": "markdown",
   "metadata": {},
   "source": [
    "## `watcher_uuid_enum`"
   ]
  },
  {
   "cell_type": "code",
   "execution_count": 42,
   "metadata": {},
   "outputs": [],
   "source": [
    "id = df_train[\"watcher_uuid_enum\"].value_counts() "
   ]
  },
  {
   "cell_type": "markdown",
   "metadata": {},
   "source": [
    "## Imputacion simple `watcher_as_name`"
   ]
  },
  {
   "cell_type": "markdown",
   "metadata": {},
   "source": [
    "- watcher_uuid_enum: El ID único del observador\n",
    "  - watcher_country:\n",
    "  - watcher_as_num:\n",
    "  - watcher_as_name:\n",
    "\n",
    "Un mismo 'ID' tiene los tres valores iguales. Por lo tanto, se puede imputar los valores faltantes de `watcher_as_name` y `watcher_country` con los valores de un mismo `watcher_uuid_enum`."
   ]
  },
  {
   "cell_type": "code",
   "execution_count": 11,
   "metadata": {},
   "outputs": [],
   "source": [
    "cols_to_impute = [\"watcher_country\", \"watcher_as_name\"]"
   ]
  },
  {
   "cell_type": "code",
   "execution_count": 12,
   "metadata": {},
   "outputs": [],
   "source": [
    "df_train[cols_to_impute] = df_train.groupby(\"watcher_uuid_enum\")[cols_to_impute].transform(lambda x: x.ffill().bfill())"
   ]
  },
  {
   "cell_type": "code",
   "execution_count": 10,
   "metadata": {},
   "outputs": [
    {
     "data": {
      "text/plain": [
       "watcher_country     206262\n",
       "watcher_as_name     206275\n",
       "attacker_country     29262\n",
       "attacker_as_num        414\n",
       "attacker_as_name     44843\n",
       "dtype: int64"
      ]
     },
     "execution_count": 10,
     "metadata": {},
     "output_type": "execute_result"
    }
   ],
   "source": [
    "df_train.isnull().sum()[df_train.isnull().sum() > 0]"
   ]
  },
  {
   "cell_type": "markdown",
   "metadata": {},
   "source": [
    "## `watcher_uuid_enum`"
   ]
  },
  {
   "cell_type": "markdown",
   "metadata": {},
   "source": [
    "`watcher_uuid_enum`: El ID único del observador.\n",
    "\n",
    "- `watcher_country`: El país vinculado a la dirección IP del observador.\n",
    "- `watcher_as_num`: El número de sistema autónomo (AS) vinculado a la dirección IP del observador.\n",
    "- `watcher_as_name`: El nombre del sistema autónomo (AS) vinculado a la dirección IP del observador.\n",
    "\n",
    "Un mismo 'ID' tiene los tres valores iguales. Por lo tanto, se puede imputar los valores faltantes de `watcher_as_name` y `watcher_country` con los valores de un mismo `watcher_uuid_enum`.\n"
   ]
  },
  {
   "cell_type": "code",
   "execution_count": 11,
   "metadata": {},
   "outputs": [],
   "source": [
    "# Por cada id cuantos valores unique tiene cada columna\n",
    "id_unicos_cout = df_train.groupby(\"watcher_uuid_enum\")[[\"watcher_country\", \"watcher_as_num\", \"watcher_as_name\"]].nunique()"
   ]
  },
  {
   "cell_type": "code",
   "execution_count": 25,
   "metadata": {},
   "outputs": [],
   "source": [
    "# Mostramos las filas por cada columna que tienen valores mayores a 1\n",
    "a = id_unicos_cout[(id_unicos_cout[\"watcher_country\"] > 1) | (id_unicos_cout[\"watcher_as_num\"] > 1) | (id_unicos_cout[\"watcher_as_name\"] > 1)]"
   ]
  },
  {
   "cell_type": "code",
   "execution_count": 26,
   "metadata": {},
   "outputs": [],
   "source": [
    "fer = df_train[df_train[\"watcher_uuid_enum\"] == 81]"
   ]
  },
  {
   "cell_type": "code",
   "execution_count": 20,
   "metadata": {},
   "outputs": [],
   "source": [
    "# ter = df_train.groupby(\"watcher_uuid_enum\")[[\"watcher_country\", \"watcher_as_num\", \"watcher_as_name\", \"label\"]].nunique()"
   ]
  },
  {
   "cell_type": "markdown",
   "metadata": {},
   "source": [
    "## `attacker_ip_enum`"
   ]
  },
  {
   "cell_type": "code",
   "execution_count": 13,
   "metadata": {},
   "outputs": [],
   "source": [
    "# Por cada id cuantos valores unique tiene cada columna\n",
    "ip_unicos_cout = df_train.groupby(\"attacker_ip_enum\")[[\"attacker_country\", \"attacker_as_num\", \"attacker_as_name\"]].nunique()"
   ]
  },
  {
   "cell_type": "code",
   "execution_count": 14,
   "metadata": {},
   "outputs": [],
   "source": [
    "# Mostramos las filas por cada columna que tienen valores mayores a 1\n",
    "b = ip_unicos_cout[(ip_unicos_cout[\"attacker_country\"] > 1) | (ip_unicos_cout[\"attacker_as_num\"] > 1) | (ip_unicos_cout[\"attacker_as_name\"] > 1)]"
   ]
  },
  {
   "cell_type": "code",
   "execution_count": 16,
   "metadata": {},
   "outputs": [],
   "source": [
    "c = df_train[df_train[\"attacker_ip_enum\"] == 597]"
   ]
  },
  {
   "cell_type": "code",
   "execution_count": 27,
   "metadata": {},
   "outputs": [],
   "source": [
    "d = df_train[df_train[\"attacker_as_num\"] == 54600]"
   ]
  },
  {
   "cell_type": "markdown",
   "metadata": {},
   "source": [
    "## `attacker_country`"
   ]
  },
  {
   "cell_type": "code",
   "execution_count": 79,
   "metadata": {},
   "outputs": [],
   "source": [
    "# Filtro los nan de la columna \"watcher_country\"\n",
    "a1 = df_train[df_train[\"attacker_country\"].isnull() & df_train[\"label\"] == 1]"
   ]
  },
  {
   "cell_type": "code",
   "execution_count": 80,
   "metadata": {},
   "outputs": [],
   "source": [
    "a1 = df_train[df_train[\"attacker_country\"].notna() | df_train[\"label\"] == 1]"
   ]
  },
  {
   "cell_type": "code",
   "execution_count": 81,
   "metadata": {},
   "outputs": [
    {
     "data": {
      "text/plain": [
       "watcher_country     206087\n",
       "watcher_as_name     206100\n",
       "attacker_country       502\n",
       "attacker_as_num        206\n",
       "attacker_as_name     40927\n",
       "dtype: int64"
      ]
     },
     "execution_count": 81,
     "metadata": {},
     "output_type": "execute_result"
    }
   ],
   "source": [
    "# Catidad de valores nulos por columna mayores a cero\n",
    "a1.isnull().sum()[a1.isnull().sum() > 0]"
   ]
  },
  {
   "cell_type": "code",
   "execution_count": null,
   "metadata": {},
   "outputs": [],
   "source": []
  }
 ],
 "metadata": {
  "kernelspec": {
   "display_name": "Python 3",
   "language": "python",
   "name": "python3"
  },
  "language_info": {
   "codemirror_mode": {
    "name": "ipython",
    "version": 3
   },
   "file_extension": ".py",
   "mimetype": "text/x-python",
   "name": "python",
   "nbconvert_exporter": "python",
   "pygments_lexer": "ipython3",
   "version": "3.10.11"
  }
 },
 "nbformat": 4,
 "nbformat_minor": 2
}
