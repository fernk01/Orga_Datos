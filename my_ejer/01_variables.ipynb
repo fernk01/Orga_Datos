{
 "cells": [
  {
   "attachments": {},
   "cell_type": "markdown",
   "metadata": {},
   "source": [
    "# Variables en Python"
   ]
  },
  {
   "cell_type": "code",
   "execution_count": 1,
   "metadata": {},
   "outputs": [],
   "source": [
    "# Definimos los distintos tipos de variables que podemos encontrar en Python.\n",
    "str = \"Hello World!\"\n",
    "\n",
    "a = 10\n",
    "b = 10.5\n",
    "c = 1j\n",
    "\n",
    "booleano = True\n",
    "\n",
    "lista = [\"manzana\", \"platano\", \"naranja\"]\n",
    "tupla = (\"manzana\", \"platano\", \"naranja\")\n",
    "\n",
    "diccionario = {\"nombre\" : \"John\", \"edad\" : 36}\n",
    "conjunto = {\"manzana\", \"platano\", \"naranja\"}\n",
    "\n"
   ]
  },
  {
   "cell_type": "code",
   "execution_count": null,
   "metadata": {},
   "outputs": [],
   "source": []
  }
 ],
 "metadata": {
  "kernelspec": {
   "display_name": "Python 3",
   "language": "python",
   "name": "python3"
  },
  "language_info": {
   "codemirror_mode": {
    "name": "ipython",
    "version": 3
   },
   "file_extension": ".py",
   "mimetype": "text/x-python",
   "name": "python",
   "nbconvert_exporter": "python",
   "pygments_lexer": "ipython3",
   "version": "3.10.6"
  },
  "orig_nbformat": 4
 },
 "nbformat": 4,
 "nbformat_minor": 2
}
